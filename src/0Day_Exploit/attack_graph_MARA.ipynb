{
 "cells": [
  {
   "cell_type": "code",
   "execution_count": 14,
   "metadata": {},
   "outputs": [],
   "source": [
    "import networkx as nx # type: ignore\n",
    "import matplotlib.pyplot as plt # type: ignore"
   ]
  },
  {
   "cell_type": "code",
   "execution_count": null,
   "metadata": {},
   "outputs": [],
   "source": [
    "# Create a directed graph\n",
    "attack_graph = nx.DiGraph()\n",
    "\n",
    "# Define edges according to the original R code’s structure\n",
    "edges = [\n",
    "    (1, 2),             # 1 -> 2\n",
    "    (2, 3), (2, 4), (2, 5),  # 2 -> 3,4,5 \n",
    "    (3, 6), (4, 6),          # 3,4 -> 6\n",
    "    (5, 7), (7, 8), (8, 9)   # 5 -> 7 -> 8 -> 9\n",
    "]\n",
    "\n",
    "attack_graph.add_edges_from(edges)"
   ]
  },
  {
   "cell_type": "code",
   "execution_count": null,
   "metadata": {},
   "outputs": [],
   "source": [
    "# Set default \"DEFAULT_WEIGHT_VALUE = 0\" for all edges, because we noticed that \n",
    "# weight of 0 leads to a hardness of 1 which is what we want for trivial edges\n",
    "nx.set_edge_attributes(attack_graph, DEFAULT_WEIGHT_VALUE, 'weight')\n",
    "\n",
    "# Compute topological order of nodes\n",
    "node_order = list(nx.topological_sort(attack_graph))"
   ]
  },
  {
   "cell_type": "code",
   "execution_count": 17,
   "metadata": {},
   "outputs": [],
   "source": [
    "# print(\"DEBUG: Number of nodes in attack_graph:\", attack_graph.number_of_nodes())\n",
    "# print(\"DEBUG: Number of edges in attack_graph:\", attack_graph.number_of_edges())\n",
    "# print(\"DEBUG: Edges in the attack_graph (with attributes):\")\n",
    "# for u, v, data in attack_graph.edges(data=True):\n",
    "#     print(f\"  {u} -> {v}, weight={data['weight']}\")\n",
    "\n",
    "# print(\"DEBUG: Topological order of nodes:\", node_order)"
   ]
  },
  {
   "cell_type": "code",
   "execution_count": 18,
   "metadata": {},
   "outputs": [],
   "source": [
    "# pos = nx.spring_layout(attack_graph, seed=42)  # for reproducible layout\n",
    "# nx.draw(attack_graph, pos, with_labels=True, node_color='lightblue', edge_color='gray')\n",
    "# plt.title(\"Debug Visualization of Attack Graph\")\n",
    "# plt.show()"
   ]
  },
  {
   "cell_type": "code",
   "execution_count": 1,
   "metadata": {},
   "outputs": [
    {
     "ename": "NameError",
     "evalue": "name 'image_mode' is not defined",
     "output_type": "error",
     "traceback": [
      "\u001b[0;31m---------------------------------------------------------------------------\u001b[0m",
      "\u001b[0;31mNameError\u001b[0m                                 Traceback (most recent call last)",
      "Cell \u001b[0;32mIn[1], line 55\u001b[0m\n\u001b[1;32m     51\u001b[0m     plt\u001b[38;5;241m.\u001b[39mtight_layout()\n\u001b[1;32m     52\u001b[0m     plt\u001b[38;5;241m.\u001b[39mshow()\n\u001b[0;32m---> 55\u001b[0m \u001b[38;5;28;01mif\u001b[39;00m \u001b[43mimage_mode\u001b[49m:\n\u001b[1;32m     56\u001b[0m     graph_plotting()\n",
      "\u001b[0;31mNameError\u001b[0m: name 'image_mode' is not defined"
     ]
    }
   ],
   "source": [
    "import numpy as np\n",
    "\n",
    "def graph_plotting():\n",
    "    # Use hierarchical layout with adjusted parameters\n",
    "    pos = nx.spring_layout(attack_graph, k=1, iterations=50, seed=42)\n",
    "\n",
    "    # Manual adjustment to separate nodes 3 and 4\n",
    "    pos[3] = pos[3] + np.array([0.1, 0.1])  # Move node 3 up and right\n",
    "    pos[4] = pos[4] + np.array([-0.1, -0.1])  # Move node 4 down and left\n",
    "\n",
    "    plt.figure(figsize=(10, 6))\n",
    "\n",
    "    # Draw edges with arrows\n",
    "    nx.draw_networkx_edges(attack_graph, pos, \n",
    "                        edge_color='gray',\n",
    "                        arrows=True,\n",
    "                        arrowsize=20,\n",
    "                        width=2)\n",
    "\n",
    "    # Create color map for nodes\n",
    "    node_colors = ['lightblue'] * len(attack_graph)  # Default color\n",
    "    node_colors[0] = 'lightgreen'  # Node 1\n",
    "    node_colors[5] = 'lightcoral'  # Node 6 \n",
    "    node_colors[8] = 'lightcoral'  # Node 9\n",
    "    node_colors[4] = 'lightblue'      # Node 5\n",
    "\n",
    "    # Draw nodes\n",
    "    nx.draw_networkx_nodes(attack_graph, pos,\n",
    "                        node_color=node_colors,\n",
    "                        node_size=700,\n",
    "                        edgecolors='darkblue',\n",
    "                        linewidths=2)\n",
    "\n",
    "    # Create two separate label dictionaries - using actual node numbers\n",
    "    #white_labels = {5: '5'}  # Only purple node gets white label\n",
    "    black_labels = {1: '1', 2: '2', 3: '3', 4: '4',5: '5', 6: '6', 7: '7', 8: '8', 9: '9'}\n",
    "\n",
    "    # Draw labels separately\n",
    "    nx.draw_networkx_labels(attack_graph, pos,\n",
    "                        font_size=12,\n",
    "                        font_weight='bold',\n",
    "                        font_color='white')\n",
    "\n",
    "    nx.draw_networkx_labels(attack_graph, pos,\n",
    "                        black_labels,\n",
    "                        font_size=12,\n",
    "                        font_weight='bold')\n",
    "\n",
    "    plt.title(\"Basic Attack Graph \\n with no Exploit Data\", pad=20, fontsize=14, fontweight='bold')\n",
    "    plt.axis('off')\n",
    "    plt.tight_layout()\n",
    "    plt.show()\n",
    "\n",
    "\n",
    "if image_mode:\n",
    "    graph_plotting()"
   ]
  }
 ],
 "metadata": {
  "kernelspec": {
   "display_name": "master",
   "language": "python",
   "name": "python3"
  },
  "language_info": {
   "codemirror_mode": {
    "name": "ipython",
    "version": 3
   },
   "file_extension": ".py",
   "mimetype": "text/x-python",
   "name": "python",
   "nbconvert_exporter": "python",
   "pygments_lexer": "ipython3",
   "version": "3.10.15"
  }
 },
 "nbformat": 4,
 "nbformat_minor": 2
}

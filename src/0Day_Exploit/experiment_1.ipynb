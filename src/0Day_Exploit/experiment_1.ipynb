{
 "cells": [
  {
   "cell_type": "markdown",
   "metadata": {},
   "source": [
    "## First Movement: Periodic Defense with Poisson Attack Pattern"
   ]
  },
  {
   "cell_type": "code",
   "execution_count": 23,
   "metadata": {},
   "outputs": [
    {
     "name": "stdout",
     "output_type": "stream",
     "text": [
      "This Cell is necessary or else my IDE will start running cells simultaneously which\n",
      "      then leads to issues with unfinished imports\n"
     ]
    }
   ],
   "source": [
    "print(\"\"\"This Cell is necessary or else my IDE will start running cells simultaneously which\n",
    "      then leads to issues with unfinished imports\"\"\")"
   ]
  },
  {
   "cell_type": "code",
   "execution_count": 24,
   "metadata": {},
   "outputs": [],
   "source": [
    "import os\n",
    "import logging\n",
    "import numpy as np\n",
    "from datetime import datetime\n",
    "from scipy.stats import poisson"
   ]
  },
  {
   "cell_type": "markdown",
   "metadata": {},
   "source": [
    "## New Stuff"
   ]
  },
  {
   "cell_type": "code",
   "execution_count": 25,
   "metadata": {},
   "outputs": [
    {
     "name": "stdout",
     "output_type": "stream",
     "text": [
      "Current settings: image_mode=False, debug_mode=False, RUN_BASELINE_ONLY=False\n"
     ]
    }
   ],
   "source": [
    "# Check if variables exist, otherwise default to False\n",
    "# image_mode = False\n",
    "\n",
    "image_mode = globals().get('image_mode', False)\n",
    "debug_mode = globals().get('debug_mode', False)\n",
    "RUN_BASELINE_ONLY = globals().get('RUN_BASELINE_ONLY', False)\n",
    "\n",
    "#image_mode = True\n",
    "debug_mode = False\n",
    "RUN_BASELINE_ONLY = False\n",
    "\n",
    "print(f\"Current settings: image_mode={image_mode}, debug_mode={debug_mode}, RUN_BASELINE_ONLY={RUN_BASELINE_ONLY}\")"
   ]
  },
  {
   "cell_type": "code",
   "execution_count": 26,
   "metadata": {},
   "outputs": [],
   "source": [
    "# Define experiment name as a variable for easy modification\n",
    "experiment_name = \"experiment_1\""
   ]
  },
  {
   "cell_type": "code",
   "execution_count": 27,
   "metadata": {},
   "outputs": [],
   "source": [
    "\n",
    "log_path = os.path.join(os.getcwd(), f'{experiment_name}.log')\n",
    "if os.path.exists(log_path):\n",
    "    os.remove(log_path)\n",
    "logger = logging.getLogger()\n",
    "handler = logging.FileHandler(log_path, mode='w')\n",
    "handler.setFormatter(logging.Formatter('%(message)s'))\n",
    "logger.addHandler(handler)\n",
    "logger.setLevel(logging.INFO)\n",
    "logger.info(f'[1] \"{experiment_name}.log\"')\n",
    "logger.info(f'[1] \"{datetime.now().strftime(\"%a %b %d %H:%M:%S %Y\")}\"')\n",
    "\n",
    "# Set up subgraph logger if not RUN_BASELINE_ONLY:\n",
    "if not RUN_BASELINE_ONLY:\n",
    "    subgraph_log_path = os.path.join(os.getcwd(), f'sub_{experiment_name}.log')\n",
    "    if os.path.exists(subgraph_log_path):\n",
    "        os.remove(subgraph_log_path)\n",
    "    subgraph_handler = logging.FileHandler(subgraph_log_path, mode='w')\n",
    "    subgraph_handler.setFormatter(logging.Formatter('%(message)s'))\n",
    "    \n",
    "\n",
    "# Function to switch between loggers\n",
    "def switch_logger(use_subgraph_logger=False):\n",
    "    \n",
    "    for hdlr in logger.handlers[:]:\n",
    "        logger.removeHandler(hdlr)\n",
    "        \n",
    "    # Add appropriate handler\n",
    "    if use_subgraph_logger:\n",
    "        logger.addHandler(subgraph_handler)\n",
    "        logger.info(f'[1] \"sub_{experiment_name}.log\"')\n",
    "        logger.info(f'[1] \"{datetime.now().strftime(\"%a %b %d %H:%M:%S %Y\")}\"')\n",
    "    else:\n",
    "        logger.addHandler(handler)"
   ]
  },
  {
   "cell_type": "code",
   "execution_count": 28,
   "metadata": {},
   "outputs": [],
   "source": [
    "# Global configuration\n",
    "# This is the default weight value we will insert any time we we \n",
    "# need to insert a weight value for a trivial edge in the graph\n",
    "# Why 0 ?  Because we have \"hardness = exnp(-w)\" so we get hardness = 1 for w = 0\n",
    "# hardness = 1 means that edge is trivial to traverse\n",
    "DEFAULT_WEIGHT_VALUE = 0  "
   ]
  },
  {
   "cell_type": "code",
   "execution_count": 29,
   "metadata": {},
   "outputs": [],
   "source": [
    "%run attack_graph_MARA.ipynb"
   ]
  },
  {
   "cell_type": "markdown",
   "metadata": {},
   "source": [
    "### Create Subgraphs"
   ]
  },
  {
   "cell_type": "code",
   "execution_count": 30,
   "metadata": {},
   "outputs": [
    {
     "name": "stdout",
     "output_type": "stream",
     "text": [
      "create subsgraph for defender concluded\n"
     ]
    }
   ],
   "source": [
    "# if given this will take current_drop_percentage from extrapolate as drop percentage\n",
    "# if not it will default to 20%\n",
    "%run create_subgraphs.ipynb"
   ]
  },
  {
   "cell_type": "markdown",
   "metadata": {},
   "source": [
    "## Old Stuff"
   ]
  },
  {
   "cell_type": "markdown",
   "metadata": {},
   "source": [
    "### Poisson Distribution Explanations\n",
    "\n",
    "#### Base Formula\n",
    "\n",
    "The Poisson distribution models the number of events occurring in a fixed interval. Its probability mass function is:\n",
    "\n",
    "\\begin{equation}\n",
    "P(X=x) = \\frac{\\lambda^k}{k!} \\cdot e^{-k}\n",
    "\\end{equation}\n",
    "\n",
    "Where $\\lambda$ is the average number of events per interval and $k$ is the count of events.\n",
    "\n",
    "#### Basic Explanation\n",
    "\n",
    "\n",
    "Definition of \"λ\" in our Specific Case\n",
    "In this security model, $\\lambda$ represents:\n",
    "\n",
    "$\\lambda = \\text{expected number of exploits per time unit}$.\n",
    "\n",
    "This corresponds to formula (10) in the paper.\n",
    "\n",
    "Basic Explanation\n",
    "Poisson distribution models attacker behavior with fixed defender checks:\n",
    "\n",
    "$\\lambda$ directly controls attacker's \"aggressiveness\" between defender checks.\n",
    "- Higher $\\lambda$ means attacker attempts more exploits (example: λ=2) in a given time period\n",
    "- Lower $\\lambda$ means fewer expected attack steps\n",
    "- Most likely: taking λ (or λ-1) steps\n",
    "- defense_rate not needed since checks happen at known times\n",
    "- Key insight: periodic defender pattern means attacker only needs to worry about own speed\n",
    "- This fits our intuition: when defender checks at predictable times, attacker can optimize their moves accordingly, focusing on maximizing progress during known safe periods."
   ]
  },
  {
   "cell_type": "code",
   "execution_count": 31,
   "metadata": {},
   "outputs": [],
   "source": [
    "attack_rate_list = [2]  \n",
    "defense_rate_list = [0]\n",
    "\n",
    "def random_steps(route, attack_rate=None, defense_rate=None, graph=None):\n",
    "    length = len(route)\n",
    "    if attack_rate is None:\n",
    "        attack_rate = 2\n",
    "    # Get PMF for values 0 to length-1\n",
    "    pmf = poisson.pmf(np.arange(length), attack_rate)\n",
    "    # Normalize \n",
    "    pmf = pmf / pmf.sum()\n",
    "    return pmf"
   ]
  },
  {
   "cell_type": "code",
   "execution_count": 32,
   "metadata": {},
   "outputs": [
    {
     "name": "stdout",
     "output_type": "stream",
     "text": [
      "We start with the baseline graph calculation!\n",
      "Now we are going to run the subgraph analysis\n",
      "The subgraph analysis is done!\n"
     ]
    }
   ],
   "source": [
    "# %run ctr-core_tests.ipynb\n",
    "%run exp_ctr-core.ipynb\n",
    "main()"
   ]
  },
  {
   "cell_type": "code",
   "execution_count": 33,
   "metadata": {},
   "outputs": [
    {
     "name": "stdout",
     "output_type": "stream",
     "text": [
      "[1] \"experiment_1.log\"\n",
      "[1] \"Sun May 04 15:43:02 2025\"\n",
      "\n",
      "\n",
      "\n",
      "================================================================================\n",
      "BASELINE RUN: BOTH ATTACKER AND DEFENDER HAVE FULL GRAPH KNOWLEDGE\n",
      "================================================================================\n",
      "\n",
      "\n",
      "\n",
      "Debug - Current Attack paths:\n",
      "  0: [1, 2, 3, 'c(6,9)']\n",
      "  1: [1, 2, 4, 'c(6,9)']\n",
      "  2: [1, 2, 5, 7, 8, 'c(6,9)']\n",
      "\n",
      "++++++++++++++++++++++++++++++++\n",
      "\n",
      "The virtual target nodeID is c(6,9)\n",
      "\n",
      "attack rate =  2 , defense rate =  0 \n",
      "\n",
      "\tequilibrium for multiobjective security game (MOSG)\n",
      "\n",
      "optimal defense strategy:\n",
      "         prob.\n",
      "2 0.000000e+00\n",
      "3 2.798527e-01\n",
      "4 2.798527e-01\n",
      "5 0.000000e+00\n",
      "7 0.000000e+00\n",
      "8 4.402946e-01\n",
      "\n",
      "worst case attack strategies per goal:\n",
      "          1\n",
      "1 0.3600737\n",
      "2 0.3600737\n",
      "3 0.2798527\n",
      "[1] 0.128\n",
      "\n",
      "Defender can keep attacker success below: 0.128\n",
      "Attacker can guarantee success probability of: 0.128\n",
      "\n"
     ]
    }
   ],
   "source": [
    "with open(experiment_name+'.log', 'r') as f:\n",
    "    print(f.read())"
   ]
  }
 ],
 "metadata": {
  "kernelspec": {
   "display_name": "master2",
   "language": "python",
   "name": "python3"
  },
  "language_info": {
   "codemirror_mode": {
    "name": "ipython",
    "version": 3
   },
   "file_extension": ".py",
   "mimetype": "text/x-python",
   "name": "python",
   "nbconvert_exporter": "python",
   "pygments_lexer": "ipython3",
   "version": "3.10.17"
  }
 },
 "nbformat": 4,
 "nbformat_minor": 2
}

{
 "cells": [
  {
   "cell_type": "markdown",
   "metadata": {},
   "source": [
    "## Third Movement: Exponential Defense with Geometric Attack Pattern"
   ]
  },
  {
   "cell_type": "code",
   "execution_count": 11,
   "metadata": {},
   "outputs": [
    {
     "name": "stdout",
     "output_type": "stream",
     "text": [
      "This Cell is necessary or else my IDE will start running cells simultaneously which\n",
      "      then leads to issues with unfinished imports\n"
     ]
    }
   ],
   "source": [
    "print(\"\"\"This Cell is necessary or else my IDE will start running cells simultaneously which\n",
    "      then leads to issues with unfinished imports\"\"\")"
   ]
  },
  {
   "cell_type": "code",
   "execution_count": 12,
   "metadata": {},
   "outputs": [],
   "source": [
    "import os\n",
    "import logging\n",
    "import numpy as np\n",
    "from datetime import datetime"
   ]
  },
  {
   "cell_type": "markdown",
   "metadata": {},
   "source": [
    "## New Stuff"
   ]
  },
  {
   "cell_type": "code",
   "execution_count": 13,
   "metadata": {},
   "outputs": [
    {
     "name": "stdout",
     "output_type": "stream",
     "text": [
      "Current settings: image_mode=False, debug_mode=False, RUN_BASELINE_ONLY=False\n"
     ]
    }
   ],
   "source": [
    "# Check if variables exist, otherwise default to False\n",
    "image_mode = globals().get('image_mode', False)\n",
    "debug_mode = globals().get('debug_mode', False)\n",
    "RUN_BASELINE_ONLY = globals().get('RUN_BASELINE_ONLY', False)\n",
    "\n",
    "# If you are NOT using \"extrapolate.ipynb\" uncomment any you want to set to true\n",
    "# however remember to re-comment them out later because otherwise extrapolate will be ignored\n",
    "#image_mode = True\n",
    "#debug_mode = True\n",
    "#RUN_BASELINE_ONLY = True\n",
    "\n",
    "print(f\"Current settings: image_mode={image_mode}, debug_mode={debug_mode}, RUN_BASELINE_ONLY={RUN_BASELINE_ONLY}\")"
   ]
  },
  {
   "cell_type": "code",
   "execution_count": 14,
   "metadata": {},
   "outputs": [],
   "source": [
    "\n",
    "experiment_name = \"experiment_2\""
   ]
  },
  {
   "cell_type": "code",
   "execution_count": 15,
   "metadata": {},
   "outputs": [],
   "source": [
    "\n",
    "log_path = os.path.join(os.getcwd(), f'{experiment_name}.log')\n",
    "if os.path.exists(log_path):\n",
    "    os.remove(log_path)\n",
    "logger = logging.getLogger()\n",
    "handler = logging.FileHandler(log_path, mode='w')\n",
    "handler.setFormatter(logging.Formatter('%(message)s'))\n",
    "logger.addHandler(handler)\n",
    "logger.setLevel(logging.INFO)\n",
    "logger.info(f'[1] \"{experiment_name}.log\"')\n",
    "logger.info(f'[1] \"{datetime.now().strftime(\"%a %b %d %H:%M:%S %Y\")}\"')\n",
    "\n",
    "# Set up subgraph logger if not RUN_BASELINE_ONLY:\n",
    "if not RUN_BASELINE_ONLY:\n",
    "    subgraph_log_path = os.path.join(os.getcwd(), f'sub_{experiment_name}.log')\n",
    "    if os.path.exists(subgraph_log_path):\n",
    "        os.remove(subgraph_log_path)\n",
    "    subgraph_handler = logging.FileHandler(subgraph_log_path, mode='w')\n",
    "    subgraph_handler.setFormatter(logging.Formatter('%(message)s'))\n",
    "    \n",
    "\n",
    "# Function to switch between loggers\n",
    "def switch_logger(use_subgraph_logger=False):\n",
    "    \n",
    "    for hdlr in logger.handlers[:]:\n",
    "        logger.removeHandler(hdlr)\n",
    "        \n",
    "    # Add appropriate handler\n",
    "    if use_subgraph_logger:\n",
    "        logger.addHandler(subgraph_handler)\n",
    "        logger.info(f'[1] \"sub_{experiment_name}.log\"')\n",
    "        logger.info(f'[1] \"{datetime.now().strftime(\"%a %b %d %H:%M:%S %Y\")}\"')\n",
    "    else:\n",
    "        logger.addHandler(handler)"
   ]
  },
  {
   "cell_type": "code",
   "execution_count": 16,
   "metadata": {},
   "outputs": [],
   "source": [
    "# Global configuration\n",
    "# This is the default weight value we will insert any time we we \n",
    "# need to insert a weight value for a trivial edge in the graph\n",
    "# Why 0 ?  Because we have \"hardness = exnp(-w)\" so we get hardness = 1 for w = 0\n",
    "# hardness = 1 means that edge is trivial to traverse\n",
    "DEFAULT_WEIGHT_VALUE = 0  "
   ]
  },
  {
   "cell_type": "code",
   "execution_count": 17,
   "metadata": {},
   "outputs": [],
   "source": [
    "%run attack_graph_MARA.ipynb"
   ]
  },
  {
   "cell_type": "markdown",
   "metadata": {},
   "source": [
    "### Create Subgraphs"
   ]
  },
  {
   "cell_type": "code",
   "execution_count": 18,
   "metadata": {},
   "outputs": [
    {
     "name": "stdout",
     "output_type": "stream",
     "text": [
      "create subsgraph for defender concluded\n"
     ]
    }
   ],
   "source": [
    "%run create_subgraphs.ipynb"
   ]
  },
  {
   "cell_type": "markdown",
   "metadata": {},
   "source": [
    "## Old Stuff"
   ]
  },
  {
   "cell_type": "markdown",
   "metadata": {},
   "source": [
    "### Geometric Distribution Explanations"
   ]
  },
  {
   "cell_type": "markdown",
   "metadata": {},
   "source": [
    "#### Base Formula\n",
    "\n",
    "The geometric distribution gives the probability of the first success occurring on the $k$-th trial in a series of independent Bernoulli trials. Its probability mass function is:\n",
    "\n",
    "\\begin{equation}\n",
    "P(X=x) = p \\cdot (1-p)^{x-1}\n",
    "\\end{equation}\n",
    "\n",
    "Where $p$ is the probability of success on each trial and $x$ is a positive integer.\n",
    "\n",
    "#### Definition of \"p\" in our Specific Case\n",
    "\n",
    "In my code, $p$ is defined as:\n",
    "\n",
    "\\begin{equation}\n",
    "p = \\frac{\\mathrm{defens erate}}{\\mathrm{attack rate}+\\mathrm{defense rate}}\n",
    "\\end{equation}\n",
    "\n",
    "which directly corresponds to formula (12) in the paper, where they define $p = \\frac{\\lambda_D}{\\lambda_D + \\lambda}$, with $\\lambda_D$ being the defender's rate and $\\lambda$ being the attacker's rate."
   ]
  },
  {
   "cell_type": "markdown",
   "metadata": {},
   "source": [
    "### Basic Explanation"
   ]
  },
  {
   "cell_type": "markdown",
   "metadata": {},
   "source": [
    "Geometric distribution models attacker behavior when defender checks randomly:\n",
    "- High defense_rate -> attacker plays it safe, prefers fewer steps (steep dropoff)\n",
    "- Low defense_rate -> attacker risks more steps (gradual decline)\n",
    "- Key insight: probability p = defense_rate/(attack_rate + defense_rate) controls how \n",
    "  \"risky\" each additional step becomes\n",
    "\n",
    "This fits our intuition: if attacker doesn't know WHEN checks happen (only how often),\n",
    "they become more cautious - especially when defender checks frequently"
   ]
  },
  {
   "cell_type": "markdown",
   "metadata": {},
   "source": [
    "<img src=\"images/GeometricDistr_DefenseRates.png\" width=\"50%\">"
   ]
  },
  {
   "cell_type": "code",
   "execution_count": null,
   "metadata": {},
   "outputs": [],
   "source": [
    "#attack_rate_list = [3]  \n",
    "#defense_rate_list = [3]\n",
    "\n",
    "def random_steps(route, attack_rate=None, defense_rate=None, graph=None):\n",
    "    \"\"\"Geometric distribution for randomly moving defender\"\"\"\n",
    "    # What is the prob that defender checks before attacker can make the next move?\n",
    "    p = defense_rate / (attack_rate + defense_rate)\n",
    "    x = np.arange(len(route))\n",
    "    pmf = p * np.power(1-p, x)\n",
    "    pmf = pmf / pmf.sum()\n",
    "    return pmf"
   ]
  },
  {
   "cell_type": "code",
   "execution_count": 20,
   "metadata": {},
   "outputs": [
    {
     "name": "stdout",
     "output_type": "stream",
     "text": [
      "We start with the baseline graph calculation!\n",
      "Now we are going to run the subgraph analysis\n",
      "The subgraph analysis is done!\n"
     ]
    }
   ],
   "source": [
    "# %run ctr-core_simple.ipynb\n",
    "%run exp_ctr-core.ipynb\n",
    "main()"
   ]
  },
  {
   "cell_type": "code",
   "execution_count": 21,
   "metadata": {},
   "outputs": [
    {
     "name": "stdout",
     "output_type": "stream",
     "text": [
      "[1] \"experiment_2.log\"\n",
      "[1] \"Sun May 04 15:47:35 2025\"\n",
      "\n",
      "\n",
      "\n",
      "================================================================================\n",
      "BASELINE RUN: BOTH ATTACKER AND DEFENDER HAVE FULL GRAPH KNOWLEDGE\n",
      "================================================================================\n",
      "\n",
      "\n",
      "\n",
      "Debug - Current Attack paths:\n",
      "  0: [1, 2, 3, 'c(6,9)']\n",
      "  1: [1, 2, 4, 'c(6,9)']\n",
      "  2: [1, 2, 5, 7, 8, 'c(6,9)']\n",
      "\n",
      "++++++++++++++++++++++++++++++++\n",
      "\n",
      "The virtual target nodeID is c(6,9)\n",
      "\n",
      "attack rate =  3 , defense rate =  3 \n",
      "\n",
      "\tequilibrium for multiobjective security game (MOSG)\n",
      "\n",
      "optimal defense strategy:\n",
      "         prob.\n",
      "2 0.000000e+00\n",
      "3 2.927842e-01\n",
      "4 2.927842e-01\n",
      "5 0.000000e+00\n",
      "7 0.000000e+00\n",
      "8 4.144315e-01\n",
      "\n",
      "worst case attack strategies per goal:\n",
      "          1\n",
      "1 0.3536079\n",
      "2 0.3536079\n",
      "3 0.2927842\n",
      "[1] 0.056\n",
      "\n",
      "Defender can keep attacker success below: 0.056\n",
      "Attacker can guarantee success probability of: 0.056\n",
      "\n"
     ]
    }
   ],
   "source": [
    "with open(experiment_name+'.log', 'r') as f:\n",
    "    print(f.read())"
   ]
  }
 ],
 "metadata": {
  "kernelspec": {
   "display_name": "master2",
   "language": "python",
   "name": "python3"
  },
  "language_info": {
   "codemirror_mode": {
    "name": "ipython",
    "version": 3
   },
   "file_extension": ".py",
   "mimetype": "text/x-python",
   "name": "python",
   "nbconvert_exporter": "python",
   "pygments_lexer": "ipython3",
   "version": "3.10.17"
  }
 },
 "nbformat": 4,
 "nbformat_minor": 2
}

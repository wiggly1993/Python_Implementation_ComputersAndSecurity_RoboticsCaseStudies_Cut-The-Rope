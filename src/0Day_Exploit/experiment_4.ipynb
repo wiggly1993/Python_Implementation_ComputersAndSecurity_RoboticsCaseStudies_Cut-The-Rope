{
 "cells": [
  {
   "cell_type": "markdown",
   "metadata": {},
   "source": [
    "## Fourth Movement: Random Defender with CVE Data"
   ]
  },
  {
   "cell_type": "code",
   "execution_count": 12,
   "metadata": {},
   "outputs": [
    {
     "name": "stdout",
     "output_type": "stream",
     "text": [
      "This Cell is necessary or else my IDE will start running cells simultaneously which\n",
      "      then leads to issues with unfinished imports\n"
     ]
    }
   ],
   "source": [
    "print(\"\"\"This Cell is necessary or else my IDE will start running cells simultaneously which\n",
    "      then leads to issues with unfinished imports\"\"\")"
   ]
  },
  {
   "cell_type": "code",
   "execution_count": 13,
   "metadata": {},
   "outputs": [],
   "source": [
    "import os\n",
    "import logging\n",
    "import numpy as np\n",
    "from datetime import datetime\n",
    "import matplotlib.pyplot as plt"
   ]
  },
  {
   "cell_type": "markdown",
   "metadata": {},
   "source": [
    "## New Stuff"
   ]
  },
  {
   "cell_type": "code",
   "execution_count": 14,
   "metadata": {},
   "outputs": [
    {
     "name": "stdout",
     "output_type": "stream",
     "text": [
      "Current settings: image_mode=False, debug_mode=False, RUN_BASELINE_ONLY=False\n"
     ]
    }
   ],
   "source": [
    "\n",
    "image_mode = globals().get('image_mode', False)\n",
    "debug_mode = globals().get('debug_mode', False)\n",
    "RUN_BASELINE_ONLY = globals().get('RUN_BASELINE_ONLY', False)\n",
    "\n",
    "# If you are NOT using \"extrapolate.ipynb\" uncomment any you want to set to true\n",
    "# however remember to re-comment them out later because otherwise extrapolate will be ignored\n",
    "#image_mode = True\n",
    "#debug_mode = True\n",
    "#RUN_BASELINE_ONLY = True\n",
    "\n",
    "print(f\"Current settings: image_mode={image_mode}, debug_mode={debug_mode}, RUN_BASELINE_ONLY={RUN_BASELINE_ONLY}\")"
   ]
  },
  {
   "cell_type": "code",
   "execution_count": 15,
   "metadata": {},
   "outputs": [],
   "source": [
    "\n",
    "experiment_name = \"experiment_4\""
   ]
  },
  {
   "cell_type": "code",
   "execution_count": 16,
   "metadata": {},
   "outputs": [],
   "source": [
    "\n",
    "log_path = os.path.join(os.getcwd(), f'{experiment_name}.log')\n",
    "if os.path.exists(log_path):\n",
    "    os.remove(log_path)\n",
    "logger = logging.getLogger()\n",
    "handler = logging.FileHandler(log_path, mode='w')\n",
    "handler.setFormatter(logging.Formatter('%(message)s'))\n",
    "logger.addHandler(handler)\n",
    "logger.setLevel(logging.INFO)\n",
    "logger.info(f'[1] \"{experiment_name}.log\"')\n",
    "logger.info(f'[1] \"{datetime.now().strftime(\"%a %b %d %H:%M:%S %Y\")}\"')\n",
    "\n",
    "# Set up subgraph logger if not RUN_BASELINE_ONLY:\n",
    "if not RUN_BASELINE_ONLY:\n",
    "    subgraph_log_path = os.path.join(os.getcwd(), f'sub_{experiment_name}.log')\n",
    "    if os.path.exists(subgraph_log_path):\n",
    "        os.remove(subgraph_log_path)\n",
    "    subgraph_handler = logging.FileHandler(subgraph_log_path, mode='w')\n",
    "    subgraph_handler.setFormatter(logging.Formatter('%(message)s'))\n",
    "    \n",
    "\n",
    "# Function to switch between loggers\n",
    "def switch_logger(use_subgraph_logger=False):\n",
    "    \n",
    "    for hdlr in logger.handlers[:]:\n",
    "        logger.removeHandler(hdlr)\n",
    "        \n",
    "    # Add appropriate handler\n",
    "    if use_subgraph_logger:\n",
    "        logger.addHandler(subgraph_handler)\n",
    "        logger.info(f'[1] \"sub_{experiment_name}.log\"')\n",
    "        logger.info(f'[1] \"{datetime.now().strftime(\"%a %b %d %H:%M:%S %Y\")}\"')\n",
    "    else:\n",
    "        logger.addHandler(handler)"
   ]
  },
  {
   "cell_type": "code",
   "execution_count": 17,
   "metadata": {},
   "outputs": [],
   "source": [
    "# Global configuration\n",
    "# This is the default weight value we will insert any time we we \n",
    "# need to insert a weight value for a trivial edge in the graph\n",
    "# Why 0 ?  Because we have \"hardness = exnp(-w)\" so we get hardness = 1 for w = 0\n",
    "# hardness = 1 means that edge is trivial to traverse\n",
    "DEFAULT_WEIGHT_VALUE = 0  "
   ]
  },
  {
   "cell_type": "code",
   "execution_count": 18,
   "metadata": {},
   "outputs": [],
   "source": [
    "%run attack_graph_MIR100.ipynb"
   ]
  },
  {
   "cell_type": "markdown",
   "metadata": {},
   "source": [
    "### Create Subgraphs"
   ]
  },
  {
   "cell_type": "code",
   "execution_count": 19,
   "metadata": {},
   "outputs": [
    {
     "name": "stdout",
     "output_type": "stream",
     "text": [
      "create subsgraph for defender concluded\n"
     ]
    }
   ],
   "source": [
    "%run create_subgraphs.ipynb"
   ]
  },
  {
   "cell_type": "markdown",
   "metadata": {},
   "source": [
    "## Old Stuff"
   ]
  },
  {
   "cell_type": "markdown",
   "metadata": {},
   "source": [
    "### Combined Random-Interval and Exploit-Dependent Distribution Explanations\n",
    "#### Base Formula\n",
    "This distribution models the probability of completing n exploits within a random time window, where both the defender's check interval and exploit difficulties vary:\n",
    "\\begin{equation}\n",
    "f_N(n) = \n",
    "\\begin{cases}\n",
    "\\left(\\frac{\\lambda_\\pi}{\\lambda_\\pi + \\lambda_D}\\right)^n & \\text{if } n \\geq 1 \\\\\n",
    "1 - Pr(E_1 \\leq W) & \\text{if } n = 0\n",
    "\\end{cases}\n",
    "\\end{equation}\n",
    "Where $\\lambda_\\pi = 1/\\bar{q}$ is the attack rate derived from exploit difficulties, and $\\lambda_D$ is the defender's check rate.\n",
    "\n",
    "#### Definition of Parameters in our Specific Case\n",
    "In the code:\n",
    "- Exploit success probabilities are derived from edge weights\n",
    "- A geometric mean of these probabilities ($\\bar{q}$) is used to calculate attack_rate\n",
    "- The probability parameter is calculated as $p = \\frac{\\text{attack\\_rate}}{\\text{attack\\_rate} + \\text{defense\\_rate}}$\n",
    "\n",
    "This corresponds to formula (13) in the paper, which simplifies to another geometric distribution with modified parameters.\n",
    "\n",
    "#### Basic Explanation\n",
    "This distribution combines the unpredictable defender checking pattern with varying exploit difficulties:\n",
    "\n",
    "- Defender checks at random times (exponentially distributed intervals)\n",
    "- Each exploit has different difficulty (derived from CVE data)\n",
    "- attack_rate is calculated as inverse of geometric mean of exploit probabilities\n",
    "- defense_rate directly impacts how far attacker can progress\n",
    "- Higher defense_rate → attacker progress more limited\n",
    "- Lower defense_rate → attacker can attempt more difficult exploits\n",
    "\n",
    "Key insight: This model captures the most realistic scenario where defenders have random checking patterns and attackers face varying technical challenges.\n",
    "\n",
    "This fits our intuition: In real-world environments, security teams respond at unpredictable intervals while attackers encounter exploits of varying difficulty, creating a complex interplay that this distribution effectively models."
   ]
  },
  {
   "cell_type": "markdown",
   "metadata": {},
   "source": [
    "### Run the Code"
   ]
  },
  {
   "cell_type": "code",
   "execution_count": 20,
   "metadata": {},
   "outputs": [],
   "source": [
    "attack_rate_list = [None]   \n",
    "# defense_rate_list = [1,2,3]  \n",
    "defense_rate_list = [3]  "
   ]
  },
  {
   "cell_type": "code",
   "execution_count": 21,
   "metadata": {},
   "outputs": [],
   "source": [
    "def random_steps(route, attack_rate=None, defense_rate=None, graph=None):\n",
    "    \"\"\"\n",
    "    Calculates probabilities for attacker movement along route.\n",
    "    Returns probability distribution over possible ending nodes.\n",
    "    \"\"\"\n",
    "\n",
    "    # Part 1: Extract hardness values from all edges and append them\n",
    "    # into one numpy array\n",
    "    # Calculate hardness values for each edge \n",
    "    hardness = []\n",
    "    for i in range(len(route) - 1):\n",
    "        start_node = route[i]\n",
    "        end_node = route[i + 1]\n",
    "        \n",
    "        # Initialize variables for max weight loop\n",
    "        weights = []\n",
    "        # Collect all weights for max\n",
    "        for edge in graph[start_node][end_node].values():\n",
    "            weights.append(edge.get('weight', DEFAULT_WEIGHT_VALUE))\n",
    "        # Get maximum weight\n",
    "        max_weight = max(weights) if weights else DEFAULT_WEIGHT_VALUE\n",
    "        \n",
    "        # Initialize variables for min weight loop\n",
    "        min_weights = []\n",
    "        # Collect all weights for min\n",
    "        for edge in graph[start_node][end_node].values():\n",
    "            min_weights.append(edge.get('weight', DEFAULT_WEIGHT_VALUE))\n",
    "        # Get minimum weight\n",
    "        min_weight = min(min_weights) if min_weights else DEFAULT_WEIGHT_VALUE\n",
    "            \n",
    "        # Convert weights to probabilities\n",
    "        # We could take max_weight or min_weight here\n",
    "        # hardness.append(np.exp(-max_weight))\n",
    "\n",
    "        # Important: We use min_weight here because of the following reason:\n",
    "        # Since the formula to calculate hardness in R is hardness = exp(-weight)\n",
    "        # taking the minimum weight will give us the maximum hardness\n",
    "        # which translates to the path being EASIEST to traverse.\n",
    "        # Yes hardness of 1 means path is trivial, hardness 0 means path is impossible\n",
    "        hardness.append(np.exp(-min_weight))\n",
    "\n",
    "    \n",
    "    # Convert to arrays\n",
    "    hardness = np.array(hardness)\n",
    "\n",
    "    # print(f'Hardness: {hardness}')\n",
    "    \n",
    "    # Calculate attack rate using geometric mean if not provided\n",
    "    if attack_rate is None:\n",
    "        # Geometric mean function (mirrors the R geomean function)\n",
    "        def geom_mean(x):\n",
    "            # I filter out zeros to avoid log(0)\n",
    "            positive_values = x[x > 0]\n",
    "            if len(positive_values) == 0:\n",
    "                return 1  # Default if all values are zero or array is empty\n",
    "            return np.exp(np.mean(np.log(positive_values)))\n",
    "        \n",
    "        attack_rate = 1 / geom_mean(hardness)\n",
    "    \n",
    "    # Calculate probability distribution using geometric distribution\n",
    "    # Equivalent to R's dgeom function\n",
    "    prob = attack_rate / (attack_rate + defense_rate)\n",
    "    \n",
    "    # Create range of values from 0 to length(route)-1\n",
    "    x_values = np.arange(len(route))\n",
    "    \n",
    "    # Calculate probability mass function (pmf) for geometric distribution\n",
    "    # pdf_d = geom.pmf(x_values, prob)\n",
    "    pdf_d = prob * (1-prob)**x_values\n",
    "    \n",
    "    # Normalize to ensure probabilities sum to 1\n",
    "    pdf_d = pdf_d / np.sum(pdf_d)\n",
    "    \n",
    "    # print(f\"This is the final pdf that is returned in the end: {pdf_d}\")\n",
    "    return pdf_d\n",
    "\n",
    "# Example usage:\n",
    "# route = [1, 2, 3, 4]\n",
    "# defense_rate = 2\n",
    "# pdf = random_steps(route, attack_graph=G, defense_rate=defense_rate)"
   ]
  },
  {
   "cell_type": "code",
   "execution_count": 22,
   "metadata": {},
   "outputs": [
    {
     "name": "stdout",
     "output_type": "stream",
     "text": [
      "We start with the baseline graph calculation!\n",
      "Now we are going to run the subgraph analysis\n",
      "The subgraph analysis is done!\n"
     ]
    }
   ],
   "source": [
    "# %run ctr-core_simple.ipynb\n",
    "%run exp_ctr-core.ipynb\n",
    "main()"
   ]
  },
  {
   "cell_type": "code",
   "execution_count": 23,
   "metadata": {},
   "outputs": [
    {
     "name": "stdout",
     "output_type": "stream",
     "text": [
      "[1] \"experiment_4.log\"\n",
      "[1] \"Sun May 04 15:55:57 2025\"\n",
      "\n",
      "\n",
      "\n",
      "================================================================================\n",
      "BASELINE RUN: BOTH ATTACKER AND DEFENDER HAVE FULL GRAPH KNOWLEDGE\n",
      "================================================================================\n",
      "\n",
      "\n",
      "\n",
      "Debug - Current Attack paths:\n",
      "  0: [0, 1, 5, 15, 'c(12,13,14,16)']\n",
      "  1: [0, 3, 6, 8, 'c(12,13,14,16)']\n",
      "  2: [0, 3, 6, 8, 10, 15, 'c(12,13,14,16)']\n",
      "  3: [0, 3, 8, 'c(12,13,14,16)']\n",
      "  4: [0, 3, 8, 10, 15, 'c(12,13,14,16)']\n",
      "  5: [0, 4, 7, 'c(12,13,14,16)']\n",
      "  6: [0, 4, 7, 10, 15, 'c(12,13,14,16)']\n",
      "  7: [0, 2, 'c(12,13,14,16)']\n",
      "  8: [0, 2, 9, 'c(12,13,14,16)']\n",
      "  9: [0, 2, 10, 15, 'c(12,13,14,16)']\n",
      "  10: [0, 2, 11, 'c(12,13,14,16)']\n",
      "\n",
      "++++++++++++++++++++++++++++++++\n",
      "\n",
      "The virtual target nodeID is c(12,13,14,16)\n",
      "\n",
      "attack rate =  None , defense rate =  3 \n",
      "\n",
      "\tequilibrium for multiobjective security game (MOSG)\n",
      "\n",
      "optimal defense strategy:\n",
      "         prob.\n",
      "1 0.000000e+00\n",
      "10 0.000000e+00\n",
      "11 2.190096e-01\n",
      "15 3.232338e-01\n",
      "2 0.000000e+00\n",
      "3 0.000000e+00\n",
      "4 0.000000e+00\n",
      "5 0.000000e+00\n",
      "6 0.000000e+00\n",
      "7 8.512203e-02\n",
      "8 3.726345e-01\n",
      "9 0.000000e+00\n",
      "\n",
      "worst case attack strategies per goal:\n",
      "          1\n",
      "1 0.0000000\n",
      "2 0.2270047\n",
      "3 0.0000000\n",
      "4 0.0000000\n",
      "5 0.0000000\n",
      "6 0.2528026\n",
      "7 0.2376006\n",
      "8 0.0000000\n",
      "9 0.0000000\n",
      "10 0.0000000\n",
      "11 0.2825921\n",
      "[1] 0.042\n",
      "\n",
      "Defender can keep attacker success below: 0.042\n",
      "Attacker can guarantee success probability of: 0.042\n",
      "\n"
     ]
    }
   ],
   "source": [
    "with open(experiment_name+'.log', 'r') as f:\n",
    "    print(f.read())"
   ]
  }
 ],
 "metadata": {
  "kernelspec": {
   "display_name": "master2",
   "language": "python",
   "name": "python3"
  },
  "language_info": {
   "codemirror_mode": {
    "name": "ipython",
    "version": 3
   },
   "file_extension": ".py",
   "mimetype": "text/x-python",
   "name": "python",
   "nbconvert_exporter": "python",
   "pygments_lexer": "ipython3",
   "version": "3.10.17"
  }
 },
 "nbformat": 4,
 "nbformat_minor": 2
}

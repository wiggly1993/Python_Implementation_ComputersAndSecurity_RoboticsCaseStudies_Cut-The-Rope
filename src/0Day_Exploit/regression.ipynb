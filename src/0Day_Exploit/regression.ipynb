{
 "cells": [
  {
   "cell_type": "code",
   "execution_count": 174,
   "metadata": {},
   "outputs": [
    {
     "name": "stdout",
     "output_type": "stream",
     "text": [
      "This Cell is necessary or else my IDE will start running cells simultaneously which\n",
      "      then leads to issues with unfinished imports\n"
     ]
    }
   ],
   "source": [
    "print(\"\"\"This Cell is necessary or else my IDE will start running cells simultaneously which\n",
    "      then leads to issues with unfinished imports\"\"\")"
   ]
  },
  {
   "cell_type": "code",
   "execution_count": 175,
   "metadata": {},
   "outputs": [],
   "source": [
    "import pandas as pd\n",
    "import numpy as np\n",
    "import matplotlib.pyplot as plt\n",
    "from scipy import stats\n",
    "from sklearn.linear_model import LinearRegression\n",
    "from sklearn.preprocessing import PolynomialFeatures\n",
    "from sklearn.metrics import r2_score, mean_squared_error\n"
   ]
  },
  {
   "cell_type": "code",
   "execution_count": 176,
   "metadata": {},
   "outputs": [],
   "source": [
    "# Load the CSV data\n",
    "base_name = 'experiment_4'\n",
    "file_path = f'{base_name}_extrapolation_results.csv'\n",
    "data = pd.read_csv(file_path)"
   ]
  },
  {
   "cell_type": "code",
   "execution_count": 177,
   "metadata": {},
   "outputs": [
    {
     "name": "stdout",
     "output_type": "stream",
     "text": [
      "Loaded data:\n",
      "   Drop Percentage  Dropped Nodes  Avg Total Nodes Dropped  \\\n",
      "0             10.0              1                     1.59   \n",
      "1             20.0              2                     3.04   \n",
      "2             27.0              3                     4.39   \n",
      "3             35.0              4                     5.64   \n",
      "4             43.0              5                     6.75   \n",
      "5             50.0              6                     7.76   \n",
      "6             65.0              7                     8.68   \n",
      "7             70.0              8                     9.51   \n",
      "8             75.0              9                    10.27   \n",
      "\n",
      "   Actual Drop Percentage  Average Success  Baseline  Difference  \n",
      "0                9.352941            0.048     0.042       0.006  \n",
      "1               17.882353            0.053     0.042       0.011  \n",
      "2               25.823529            0.057     0.042       0.015  \n",
      "3               33.176471            0.061     0.042       0.019  \n",
      "4               39.705882            0.063     0.042       0.021  \n",
      "5               45.647059            0.065     0.042       0.023  \n",
      "6               51.058824            0.067     0.042       0.025  \n",
      "7               55.941176            0.068     0.042       0.026  \n",
      "8               60.411765            0.068     0.042       0.026  \n"
     ]
    }
   ],
   "source": [
    "# Display the loaded data\n",
    "print(\"Loaded data:\")\n",
    "print(data)"
   ]
  },
  {
   "cell_type": "code",
   "execution_count": 178,
   "metadata": {},
   "outputs": [],
   "source": [
    "# Extract the variables for regression\n",
    "X = data['Actual Drop Percentage'].values.reshape(-1, 1)  # Independent variable\n",
    "y = data['Average Success'].values  # Dependent variable"
   ]
  },
  {
   "cell_type": "code",
   "execution_count": 179,
   "metadata": {},
   "outputs": [],
   "source": [
    "# 1. Linear Regression\n",
    "linear_model = LinearRegression()\n",
    "linear_model.fit(X, y)\n",
    "y_pred_linear = linear_model.predict(X)\n",
    "\n",
    "r2_linear = r2_score(y, y_pred_linear)\n",
    "mse_linear = mean_squared_error(y, y_pred_linear)"
   ]
  },
  {
   "cell_type": "code",
   "execution_count": 180,
   "metadata": {},
   "outputs": [],
   "source": [
    "# 2. Polynomial Regression (degree 2)\n",
    "poly_features = PolynomialFeatures(degree=2)\n",
    "X_poly = poly_features.fit_transform(X)\n",
    "poly_model = LinearRegression()\n",
    "poly_model.fit(X_poly, y)\n",
    "y_pred_poly = poly_model.predict(X_poly)\n",
    "\n",
    "r2_poly = r2_score(y, y_pred_poly)\n",
    "mse_poly = mean_squared_error(y, y_pred_poly)"
   ]
  },
  {
   "cell_type": "code",
   "execution_count": 181,
   "metadata": {},
   "outputs": [],
   "source": [
    "# 3. Logistic Regression (sigmoid function)\n",
    "from scipy.optimize import curve_fit\n",
    "\n",
    "# Define the logistic function\n",
    "def logistic_function(x, L, k, x0):\n",
    "    \"\"\"\n",
    "    Logistic function (sigmoid curve)\n",
    "    L: the curve's maximum value\n",
    "    k: the steepness\n",
    "    x0: the x-value of the sigmoid's midpoint\n",
    "    \"\"\"\n",
    "    return L / (1 + np.exp(-k * (x - x0)))"
   ]
  },
  {
   "cell_type": "code",
   "execution_count": 182,
   "metadata": {},
   "outputs": [],
   "source": [
    "# Flatten the arrays for curve_fit\n",
    "X_flat = X.flatten()\n",
    "    \n",
    "# Initial parameter estimates\n",
    "p0 = [0.3, 0.05, 40]  # initial guess for [L, k, x0]\n",
    "    \n",
    "# Fit the logistic function\n",
    "params, params_covariance = curve_fit(logistic_function, X_flat, y, p0=p0)\n",
    "    \n",
    "# Extract the parameters\n",
    "L_fit, k_fit, x0_fit = params\n",
    "    \n",
    "# Generate predictions\n",
    "y_pred_logistic = logistic_function(X_flat, L_fit, k_fit, x0_fit)\n",
    "    \n",
    "# Calculate metrics\n",
    "r2_logistic = r2_score(y, y_pred_logistic)\n",
    "mse_logistic = mean_squared_error(y, y_pred_logistic)"
   ]
  },
  {
   "cell_type": "code",
   "execution_count": 183,
   "metadata": {},
   "outputs": [],
   "source": [
    "# 4. Logarithmic Regression\n",
    "# Define the logarithmic function\n",
    "def logarithmic_function(x, a, b):\n",
    "    \"\"\"\n",
    "    Logarithmic function of the form: a + b * log(x)\n",
    "    a: intercept\n",
    "    b: scaling factor\n",
    "    \"\"\"\n",
    "    # Add a small constant to avoid log(0)\n",
    "    return a + b * np.log(x + 0.1)"
   ]
  },
  {
   "cell_type": "code",
   "execution_count": 184,
   "metadata": {},
   "outputs": [],
   "source": [
    "# Flatten arrays for curve_fit\n",
    "X_flat = X.flatten()\n",
    "\n",
    "# Initial parameter estimates\n",
    "p0_log = [0.1, 0.02]  # initial guess for [a, b]\n",
    "\n",
    "# Fit the logarithmic function\n",
    "params_log, params_covariance_log = curve_fit(logarithmic_function, X_flat, y, p0=p0_log)\n",
    "\n",
    "# Extract the parameters\n",
    "a_fit, b_fit = params_log\n",
    "\n",
    "# Generate predictions\n",
    "y_pred_log = logarithmic_function(X_flat, a_fit, b_fit)\n",
    "\n",
    "# Calculate metrics\n",
    "r2_log = r2_score(y, y_pred_log)\n",
    "mse_log = mean_squared_error(y, y_pred_log)"
   ]
  },
  {
   "cell_type": "code",
   "execution_count": 185,
   "metadata": {},
   "outputs": [
    {
     "data": {
      "text/plain": [
       "<Figure size 1200x800 with 0 Axes>"
      ]
     },
     "execution_count": 185,
     "metadata": {},
     "output_type": "execute_result"
    },
    {
     "data": {
      "text/plain": [
       "<Figure size 1200x800 with 0 Axes>"
      ]
     },
     "metadata": {},
     "output_type": "display_data"
    }
   ],
   "source": [
    "plt.figure(figsize=(12, 8)) "
   ]
  },
  {
   "cell_type": "code",
   "execution_count": 186,
   "metadata": {},
   "outputs": [
    {
     "data": {
      "text/plain": [
       "<matplotlib.legend.Legend at 0x1661fa110>"
      ]
     },
     "execution_count": 186,
     "metadata": {},
     "output_type": "execute_result"
    },
    {
     "data": {
      "image/png": "[encoded data removed]",
      "text/plain": [
       "<Figure size 640x480 with 1 Axes>"
      ]
     },
     "metadata": {},
     "output_type": "display_data"
    }
   ],
   "source": [
    "# Create a range of x values for prediction\n",
    "x_range = np.linspace(0, 100, 100).reshape(-1, 1)\n",
    "\n",
    "# Generate predictions for the range\n",
    "y_pred_linear_range = linear_model.predict(x_range)\n",
    "y_pred_poly_range = poly_model.predict(poly_features.transform(x_range))\n",
    "y_pred_log_range = logarithmic_function(x_range.flatten(), a_fit, b_fit)\n",
    "y_pred_logistic_range = logistic_function(x_range.flatten(), L_fit, k_fit, x0_fit)\n",
    "\n",
    "# Plot the actual data points\n",
    "plt.ylim(0, 0.25)\n",
    "plt.scatter(X, y, color='blue', label='Actual data points')\n",
    "\n",
    "# # Plot the regression lines\n",
    "# plt.plot(x_range, y_pred_linear_range, color='red', \n",
    "#          label=f'Linear (R²={r2_linear:.4f}, MSE={mse_linear:.6f})')\n",
    "\n",
    "# Plot the logistic regression curve\n",
    "plt.plot(x_range, y_pred_logistic_range, color='orange', \n",
    "         label=f'Logistic (R²={r2_logistic:.4f}, MSE={mse_logistic:.6f})')\n",
    "\n",
    "# # Plot the logarithmic regression curve\n",
    "# plt.plot(x_range, y_pred_log_range, color='orange', \n",
    "#          label=f'Logarithmic (R²={r2_log:.4f}, MSE={mse_log:.6f})')\n",
    "\n",
    "# Add labels and title\n",
    "plt.xlabel('Node Drop Percentage [%]')\n",
    "plt.ylabel('Average Attacker Success [%]')\n",
    "plt.title('Regression Analysis of Node Drop Percentage vs. Average Success')\n",
    "plt.grid(True, linestyle='--', alpha=0.7)\n",
    "plt.legend()"
   ]
  },
  {
   "cell_type": "code",
   "execution_count": 187,
   "metadata": {},
   "outputs": [],
   "source": [
    "def predict_success(drop_percentage, model_type='linear'):\n",
    "    \"\"\"\n",
    "    Predict Average Success for given drop percentage.\n",
    "    \n",
    "    Parameters:\n",
    "    drop_percentage (float or list): The drop percentage(s) to predict for\n",
    "    model_type (str): 'linear', 'logistic', or 'logarithmic'\n",
    "    \n",
    "    Returns:\n",
    "    float or array: Predicted Average Success value(s)\n",
    "    \"\"\"\n",
    "    # Convert to numpy array if it's a list\n",
    "    if isinstance(drop_percentage, list):\n",
    "        dp_array = np.array(drop_percentage)\n",
    "    else:\n",
    "        dp_array = np.array([drop_percentage])\n",
    "    \n",
    "    if model_type.lower() == 'linear':\n",
    "        return linear_model.predict(dp_array.reshape(-1, 1))\n",
    "    elif model_type.lower() == 'logistic':\n",
    "        return logistic_function(dp_array, L_fit, k_fit, x0_fit)\n",
    "    elif model_type.lower() == 'logarithmic':\n",
    "        return logarithmic_function(dp_array, a_fit, b_fit)\n",
    "    else:\n",
    "        raise ValueError(\"Model type must be 'linear', 'logistic', or 'logarithmic'\")"
   ]
  },
  {
   "cell_type": "code",
   "execution_count": 188,
   "metadata": {},
   "outputs": [
    {
     "name": "stdout",
     "output_type": "stream",
     "text": [
      "\n",
      "Predictions for test percentages (Logistic Regression):\n",
      "Drop Percentage | Logistic Prediction\n",
      "----------------------------------------\n",
      "            10 | 0.048272\n",
      "            20 | 0.054295\n",
      "            30 | 0.059311\n",
      "            40 | 0.063274\n",
      "            50 | 0.066276\n",
      "            60 | 0.068479\n",
      "            70 | 0.070057\n",
      "            80 | 0.071169\n",
      "            90 | 0.071942\n",
      "           100 | 0.072477\n"
     ]
    }
   ],
   "source": [
    "# Example usage of the prediction function - Logistic Regression only\n",
    "test_percentages = [10, 20, 30, 40, 50, 60, 70, 80, 90, 100]\n",
    "print(\"\\nPredictions for test percentages (Logistic Regression):\")\n",
    "print(\"Drop Percentage | Logistic Prediction\")\n",
    "print(\"-\" * 40)\n",
    "\n",
    "for percentage in test_percentages:\n",
    "    logistic_pred = predict_success(percentage, 'logistic')[0]\n",
    "    print(f\"{percentage:14} | {logistic_pred:.6f}\")"
   ]
  },
  {
   "cell_type": "code",
   "execution_count": 189,
   "metadata": {},
   "outputs": [
    {
     "name": "stdout",
     "output_type": "stream",
     "text": [
      "\n",
      "Logistic Regression Equation:\n",
      "Average Success = 0.073627 / (1 + exp(-0.038878 × (Actual Drop Percentage - -6.560861)))\n"
     ]
    }
   ],
   "source": [
    "# # Show the plot\n",
    "# plt.tight_layout()\n",
    "# plt.savefig('regression_plot.png')  # Save the plot to a file\n",
    "# plt.show()\n",
    "\n",
    "# Print the model equations\n",
    "linear_slope = linear_model.coef_[0]\n",
    "linear_intercept = linear_model.intercept_\n",
    "# print(\"\\nLinear Regression Equation:\")\n",
    "# print(f\"Average Success = {linear_slope:.6f} × (Actual Drop Percentage) + {linear_intercept:.6f}\")\n",
    "\n",
    "print(\"\\nLogistic Regression Equation:\")\n",
    "print(f\"Average Success = {L_fit:.6f} / (1 + exp(-{k_fit:.6f} × (Actual Drop Percentage - {x0_fit:.6f})))\")\n",
    "\n",
    "# print(\"\\nLogarithmic Regression Equation:\")\n",
    "# print(f\"Average Success = {a_fit:.6f} + {b_fit:.6f} × log(Actual Drop Percentage + 0.1)\")"
   ]
  },
  {
   "cell_type": "code",
   "execution_count": 190,
   "metadata": {},
   "outputs": [
    {
     "name": "stdout",
     "output_type": "stream",
     "text": [
      "\n",
      "Results saved to experiment_4_regression_results.log\n"
     ]
    }
   ],
   "source": [
    "# Save predictions and coefficients to log file\n",
    "log_file_path = f\"{base_name}_regression_results.log\"\n",
    "with open(log_file_path, 'w') as log_file:\n",
    "    log_file.write(f\"===== REGRESSION RESULTS FOR {base_name} =====\\n\\n\")\n",
    "    \n",
    "    # Save logistic regression equation parameters\n",
    "    log_file.write(\"LOGISTIC REGRESSION EQUATION PARAMETERS:\\n\")\n",
    "    log_file.write(f\"L (curve's maximum value): {L_fit:.6f}\\n\")\n",
    "    log_file.write(f\"k (steepness): {k_fit:.6f}\\n\")\n",
    "    log_file.write(f\"x0 (sigmoid's midpoint): {x0_fit:.6f}\\n\\n\")\n",
    "    log_file.write(f\"Equation: Average Success = {L_fit:.6f} / (1 + exp(-{k_fit:.6f} × (Actual Drop Percentage - {x0_fit:.6f})))\\n\\n\")\n",
    "    \n",
    "    # Save logistic regression predictions\n",
    "    log_file.write(\"LOGISTIC REGRESSION PREDICTIONS:\\n\")\n",
    "    log_file.write(\"Drop Percentage | Logistic Prediction\\n\")\n",
    "    log_file.write(\"-\" * 40 + \"\\n\")\n",
    "    for percentage in test_percentages:\n",
    "        logistic_pred = predict_success(percentage, 'logistic')[0]\n",
    "        log_file.write(f\"{percentage:14} | {logistic_pred:.6f}\\n\")\n",
    "    \n",
    "    # Save metrics\n",
    "    log_file.write(f\"\\nMETRICS:\\n\")\n",
    "    log_file.write(f\"R-squared: {r2_logistic:.6f}\\n\")\n",
    "    log_file.write(f\"Mean Squared Error: {mse_logistic:.6f}\\n\")\n",
    "\n",
    "print(f\"\\nResults saved to {log_file_path}\")"
   ]
  }
 ],
 "metadata": {
  "kernelspec": {
   "display_name": "master",
   "language": "python",
   "name": "python3"
  },
  "language_info": {
   "codemirror_mode": {
    "name": "ipython",
    "version": 3
   },
   "file_extension": ".py",
   "mimetype": "text/x-python",
   "name": "python",
   "nbconvert_exporter": "python",
   "pygments_lexer": "ipython3",
   "version": "3.10.15"
  }
 },
 "nbformat": 4,
 "nbformat_minor": 2
}

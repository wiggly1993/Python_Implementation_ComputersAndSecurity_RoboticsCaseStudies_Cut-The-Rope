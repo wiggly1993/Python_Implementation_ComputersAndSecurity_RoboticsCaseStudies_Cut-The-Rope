{
 "cells": [
  {
   "cell_type": "code",
   "execution_count": 17,
   "metadata": {},
   "outputs": [
    {
     "name": "stdout",
     "output_type": "stream",
     "text": [
      "This Cell is necessary or else my IDE will start running cells simultaneously which\n",
      "      then leads to issues with unfinished imports\n"
     ]
    }
   ],
   "source": [
    "print(\"\"\"This Cell is necessary or else my IDE will start running cells simultaneously which\n",
    "      then leads to issues with unfinished imports\"\"\")"
   ]
  },
  {
   "cell_type": "code",
   "execution_count": 18,
   "metadata": {},
   "outputs": [],
   "source": [
    "import pandas as pd\n",
    "import numpy as np\n",
    "import matplotlib.pyplot as plt\n",
    "from scipy import stats\n",
    "from sklearn.linear_model import LinearRegression\n",
    "from sklearn.preprocessing import PolynomialFeatures\n",
    "from sklearn.metrics import r2_score, mean_squared_error\n"
   ]
  },
  {
   "cell_type": "code",
   "execution_count": 19,
   "metadata": {},
   "outputs": [],
   "source": [
    "# Load the CSV data\n",
    "file_path = 'experiment_1_extrapolation_results.csv'\n",
    "data = pd.read_csv(file_path)"
   ]
  },
  {
   "cell_type": "code",
   "execution_count": 20,
   "metadata": {},
   "outputs": [
    {
     "name": "stdout",
     "output_type": "stream",
     "text": [
      "Loaded data:\n",
      "   Drop Percentage  Dropped Nodes  Avg Total Nodes Dropped  \\\n",
      "0             20.0              1                     1.57   \n",
      "1             35.0              2                     2.89   \n",
      "2             50.0              3                     4.20   \n",
      "3             65.0              4                     5.24   \n",
      "4             75.0              5                     6.02   \n",
      "\n",
      "   Actual Drop Percentage  Average Success  Baseline  Difference  \n",
      "0               17.444444            0.161     0.128       0.033  \n",
      "1               32.111111            0.187     0.128       0.059  \n",
      "2               46.666667            0.203     0.128       0.075  \n",
      "3               58.222222            0.208     0.128       0.080  \n",
      "4               66.888889            0.214     0.128       0.086  \n"
     ]
    }
   ],
   "source": [
    "# Display the loaded data\n",
    "print(\"Loaded data:\")\n",
    "print(data)"
   ]
  },
  {
   "cell_type": "code",
   "execution_count": 21,
   "metadata": {},
   "outputs": [],
   "source": [
    "# Extract the variables for regression\n",
    "X = data['Actual Drop Percentage'].values.reshape(-1, 1)  # Independent variable\n",
    "y = data['Average Success'].values  # Dependent variable"
   ]
  },
  {
   "cell_type": "code",
   "execution_count": 22,
   "metadata": {},
   "outputs": [],
   "source": [
    "# 1. Linear Regression\n",
    "linear_model = LinearRegression()\n",
    "linear_model.fit(X, y)\n",
    "y_pred_linear = linear_model.predict(X)\n",
    "\n",
    "r2_linear = r2_score(y, y_pred_linear)\n",
    "mse_linear = mean_squared_error(y, y_pred_linear)"
   ]
  },
  {
   "cell_type": "code",
   "execution_count": 23,
   "metadata": {},
   "outputs": [],
   "source": [
    "# 2. Polynomial Regression (degree 2)\n",
    "poly_features = PolynomialFeatures(degree=2)\n",
    "X_poly = poly_features.fit_transform(X)\n",
    "poly_model = LinearRegression()\n",
    "poly_model.fit(X_poly, y)\n",
    "y_pred_poly = poly_model.predict(X_poly)\n",
    "\n",
    "r2_poly = r2_score(y, y_pred_poly)\n",
    "mse_poly = mean_squared_error(y, y_pred_poly)"
   ]
  },
  {
   "cell_type": "code",
   "execution_count": 24,
   "metadata": {},
   "outputs": [],
   "source": [
    "# 3. Logistic Regression (sigmoid function)\n",
    "from scipy.optimize import curve_fit\n",
    "\n",
    "# Define the logistic function\n",
    "def logistic_function(x, L, k, x0):\n",
    "    \"\"\"\n",
    "    Logistic function (sigmoid curve)\n",
    "    L: the curve's maximum value\n",
    "    k: the steepness\n",
    "    x0: the x-value of the sigmoid's midpoint\n",
    "    \"\"\"\n",
    "    return L / (1 + np.exp(-k * (x - x0)))"
   ]
  },
  {
   "cell_type": "code",
   "execution_count": 25,
   "metadata": {},
   "outputs": [],
   "source": [
    "# Flatten the arrays for curve_fit\n",
    "X_flat = X.flatten()\n",
    "    \n",
    "# Initial parameter estimates\n",
    "p0 = [0.3, 0.05, 40]  # initial guess for [L, k, x0]\n",
    "    \n",
    "# Fit the logistic function\n",
    "params, params_covariance = curve_fit(logistic_function, X_flat, y, p0=p0)\n",
    "    \n",
    "# Extract the parameters\n",
    "L_fit, k_fit, x0_fit = params\n",
    "    \n",
    "# Generate predictions\n",
    "y_pred_logistic = logistic_function(X_flat, L_fit, k_fit, x0_fit)\n",
    "    \n",
    "# Calculate metrics\n",
    "r2_logistic = r2_score(y, y_pred_logistic)\n",
    "mse_logistic = mean_squared_error(y, y_pred_logistic)"
   ]
  },
  {
   "cell_type": "code",
   "execution_count": 26,
   "metadata": {},
   "outputs": [],
   "source": [
    "# 4. Logarithmic Regression\n",
    "# Define the logarithmic function\n",
    "def logarithmic_function(x, a, b):\n",
    "    \"\"\"\n",
    "    Logarithmic function of the form: a + b * log(x)\n",
    "    a: intercept\n",
    "    b: scaling factor\n",
    "    \"\"\"\n",
    "    # Add a small constant to avoid log(0)\n",
    "    return a + b * np.log(x + 0.1)"
   ]
  },
  {
   "cell_type": "code",
   "execution_count": 27,
   "metadata": {},
   "outputs": [],
   "source": [
    "# Flatten arrays for curve_fit\n",
    "X_flat = X.flatten()\n",
    "\n",
    "# Initial parameter estimates\n",
    "p0_log = [0.1, 0.02]  # initial guess for [a, b]\n",
    "\n",
    "# Fit the logarithmic function\n",
    "params_log, params_covariance_log = curve_fit(logarithmic_function, X_flat, y, p0=p0_log)\n",
    "\n",
    "# Extract the parameters\n",
    "a_fit, b_fit = params_log\n",
    "\n",
    "# Generate predictions\n",
    "y_pred_log = logarithmic_function(X_flat, a_fit, b_fit)\n",
    "\n",
    "# Calculate metrics\n",
    "r2_log = r2_score(y, y_pred_log)\n",
    "mse_log = mean_squared_error(y, y_pred_log)"
   ]
  },
  {
   "cell_type": "code",
   "execution_count": 28,
   "metadata": {},
   "outputs": [
    {
     "data": {
      "text/plain": [
       "<Figure size 1200x800 with 0 Axes>"
      ]
     },
     "execution_count": 28,
     "metadata": {},
     "output_type": "execute_result"
    },
    {
     "data": {
      "text/plain": [
       "<Figure size 1200x800 with 0 Axes>"
      ]
     },
     "metadata": {},
     "output_type": "display_data"
    }
   ],
   "source": [
    "plt.figure(figsize=(12, 8)) "
   ]
  },
  {
   "cell_type": "code",
   "execution_count": 45,
   "metadata": {},
   "outputs": [
    {
     "data": {
      "text/plain": [
       "<matplotlib.legend.Legend at 0x12f8ce890>"
      ]
     },
     "execution_count": 45,
     "metadata": {},
     "output_type": "execute_result"
    },
    {
     "data": {
      "image/png": "[encoded data removed]",
      "text/plain": [
       "<Figure size 640x480 with 1 Axes>"
      ]
     },
     "metadata": {},
     "output_type": "display_data"
    }
   ],
   "source": [
    "# Create a range of x values for prediction\n",
    "x_range = np.linspace(0, 100, 100).reshape(-1, 1)\n",
    "\n",
    "# Generate predictions for the range\n",
    "y_pred_linear_range = linear_model.predict(x_range)\n",
    "y_pred_poly_range = poly_model.predict(poly_features.transform(x_range))\n",
    "y_pred_log_range = logarithmic_function(x_range.flatten(), a_fit, b_fit)\n",
    "y_pred_logistic_range = logistic_function(x_range.flatten(), L_fit, k_fit, x0_fit)\n",
    "\n",
    "# Plot the actual data points\n",
    "plt.ylim(0, 0.25)\n",
    "plt.scatter(X, y, color='blue', label='Actual data points')\n",
    "\n",
    "# # Plot the regression lines\n",
    "# plt.plot(x_range, y_pred_linear_range, color='red', \n",
    "#          label=f'Linear (R²={r2_linear:.4f}, MSE={mse_linear:.6f})')\n",
    "\n",
    "# Plot the logistic regression curve\n",
    "plt.plot(x_range, y_pred_logistic_range, color='purple', \n",
    "         label=f'Logistic (R²={r2_logistic:.4f}, MSE={mse_logistic:.6f})')\n",
    "\n",
    "# # Plot the logarithmic regression curve\n",
    "# plt.plot(x_range, y_pred_log_range, color='orange', \n",
    "#          label=f'Logarithmic (R²={r2_log:.4f}, MSE={mse_log:.6f})')\n",
    "\n",
    "# Add labels and title\n",
    "plt.xlabel('Node Drop Percentage [%]')\n",
    "plt.ylabel('Average Attacker Success [%]')\n",
    "plt.title('Regression Analysis of Node Drop Percentage vs. Average Success')\n",
    "plt.grid(True, linestyle='--', alpha=0.7)\n",
    "plt.legend()"
   ]
  },
  {
   "cell_type": "code",
   "execution_count": 39,
   "metadata": {},
   "outputs": [],
   "source": [
    "def predict_success(drop_percentage, model_type='linear'):\n",
    "    \"\"\"\n",
    "    Predict Average Success for given drop percentage.\n",
    "    \n",
    "    Parameters:\n",
    "    drop_percentage (float or list): The drop percentage(s) to predict for\n",
    "    model_type (str): 'linear', 'logistic', or 'logarithmic'\n",
    "    \n",
    "    Returns:\n",
    "    float or array: Predicted Average Success value(s)\n",
    "    \"\"\"\n",
    "    # Convert to numpy array if it's a list\n",
    "    if isinstance(drop_percentage, list):\n",
    "        dp_array = np.array(drop_percentage)\n",
    "    else:\n",
    "        dp_array = np.array([drop_percentage])\n",
    "    \n",
    "    if model_type.lower() == 'linear':\n",
    "        return linear_model.predict(dp_array.reshape(-1, 1))\n",
    "    elif model_type.lower() == 'logistic':\n",
    "        return logistic_function(dp_array, L_fit, k_fit, x0_fit)\n",
    "    elif model_type.lower() == 'logarithmic':\n",
    "        return logarithmic_function(dp_array, a_fit, b_fit)\n",
    "    else:\n",
    "        raise ValueError(\"Model type must be 'linear', 'logistic', or 'logarithmic'\")"
   ]
  },
  {
   "cell_type": "code",
   "execution_count": 43,
   "metadata": {},
   "outputs": [
    {
     "name": "stdout",
     "output_type": "stream",
     "text": [
      "\n",
      "Predictions for test percentages:\n",
      "Drop Percentage | Linear Prediction | Logistic Prediction | Logarithmic Prediction\n",
      "-------------------------------------------------------------------------------------\n",
      "            10 | 0.159028 | 0.143873 | 0.140239\n",
      "            20 | 0.169409 | 0.166373 | 0.167387\n",
      "            30 | 0.179790 | 0.183849 | 0.183317\n",
      "            40 | 0.190171 | 0.196389 | 0.194633\n",
      "            50 | 0.200552 | 0.204883 | 0.203416\n",
      "            60 | 0.210933 | 0.210416 | 0.210595\n",
      "            70 | 0.221314 | 0.213927 | 0.216667\n"
     ]
    }
   ],
   "source": [
    "# Example usage of the prediction function\n",
    "test_percentages = [10, 20, 30, 40, 50, 60, 70]\n",
    "print(\"\\nPredictions for test percentages:\")\n",
    "print(\"Drop Percentage | Linear Prediction | Logistic Prediction | Logarithmic Prediction\")\n",
    "print(\"-\" * 85)\n",
    "\n",
    "for percentage in test_percentages:\n",
    "    linear_pred = predict_success(percentage, 'linear')[0]\n",
    "    logistic_pred = predict_success(percentage, 'logistic')[0]\n",
    "    log_pred = predict_success(percentage, 'logarithmic')[0]\n",
    "    print(f\"{percentage:14} | {linear_pred:.6f} | {logistic_pred:.6f} | {log_pred:.6f}\")"
   ]
  },
  {
   "cell_type": "code",
   "execution_count": null,
   "metadata": {},
   "outputs": [
    {
     "data": {
      "text/plain": [
       "<Figure size 640x480 with 0 Axes>"
      ]
     },
     "metadata": {},
     "output_type": "display_data"
    },
    {
     "name": "stdout",
     "output_type": "stream",
     "text": [
      "\n",
      "Linear Regression Equation:\n",
      "Average Success = 0.001038 × (Actual Drop Percentage) + 0.148647\n",
      "\n",
      "Logistic Regression Equation:\n",
      "Average Success = 0.219607 / (1 + exp(-0.049782 × (Actual Drop Percentage - -2.890347)))\n",
      "\n",
      "Logarithmic Regression Equation:\n",
      "Average Success = 0.049011 + 0.039449 × log(Actual Drop Percentage + 0.1)\n"
     ]
    }
   ],
   "source": [
    "# Show the plot\n",
    "plt.tight_layout()\n",
    "plt.savefig('regression_plot.png')  # Save the plot to a file\n",
    "plt.show()\n",
    "\n",
    "# Print the model equations\n",
    "linear_slope = linear_model.coef_[0]\n",
    "linear_intercept = linear_model.intercept_\n",
    "print(\"\\nLinear Regression Equation:\")\n",
    "print(f\"Average Success = {linear_slope:.6f} × (Actual Drop Percentage) + {linear_intercept:.6f}\")\n",
    "\n",
    "print(\"\\nLogistic Regression Equation:\")\n",
    "print(f\"Average Success = {L_fit:.6f} / (1 + exp(-{k_fit:.6f} × (Actual Drop Percentage - {x0_fit:.6f})))\")\n",
    "\n",
    "print(\"\\nLogarithmic Regression Equation:\")\n",
    "print(f\"Average Success = {a_fit:.6f} + {b_fit:.6f} × log(Actual Drop Percentage + 0.1)\")"
   ]
  }
 ],
 "metadata": {
  "kernelspec": {
   "display_name": "master",
   "language": "python",
   "name": "python3"
  },
  "language_info": {
   "codemirror_mode": {
    "name": "ipython",
    "version": 3
   },
   "file_extension": ".py",
   "mimetype": "text/x-python",
   "name": "python",
   "nbconvert_exporter": "python",
   "pygments_lexer": "ipython3",
   "version": "3.10.15"
  }
 },
 "nbformat": 4,
 "nbformat_minor": 2
}

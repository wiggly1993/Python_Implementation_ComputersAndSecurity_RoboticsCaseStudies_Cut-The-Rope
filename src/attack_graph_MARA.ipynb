{
 "cells": [
  {
   "cell_type": "code",
   "execution_count": 3,
   "metadata": {},
   "outputs": [],
   "source": [
    "import networkx as nx # type: ignore\n",
    "import matplotlib.pyplot as plt # type: ignore"
   ]
  },
  {
   "cell_type": "code",
   "execution_count": 8,
   "metadata": {},
   "outputs": [],
   "source": [
    "# Create a directed graph\n",
    "attack_graph = nx.DiGraph()\n",
    "\n",
    "# Define edges according to the original R code’s structure\n",
    "edges = [\n",
    "    (1, 2),             # 1 -> 2\n",
    "    (2, 3), (2, 4), (2, 5),  # 2 -> 3,4,5 \n",
    "    (3, 6), (4, 6),          # 3,4 -> 6\n",
    "    (5, 7), (7, 8), (8, 9)   # 5 -> 7 -> 8 -> 9\n",
    "]\n",
    "\n",
    "attack_graph.add_edges_from(edges)"
   ]
  },
  {
   "cell_type": "code",
   "execution_count": 10,
   "metadata": {},
   "outputs": [],
   "source": [
    "# Set default weight=1 for all edges, analogous to the R code\n",
    "nx.set_edge_attributes(attack_graph, 1, 'weight')\n",
    "\n",
    "# Compute topological order of nodes\n",
    "node_order = list(nx.topological_sort(attack_graph))"
   ]
  },
  {
   "cell_type": "code",
   "execution_count": 14,
   "metadata": {},
   "outputs": [],
   "source": [
    "# print(\"DEBUG: Number of nodes in attack_graph:\", attack_graph.number_of_nodes())\n",
    "# print(\"DEBUG: Number of edges in attack_graph:\", attack_graph.number_of_edges())\n",
    "# print(\"DEBUG: Edges in the attack_graph (with attributes):\")\n",
    "# for u, v, data in attack_graph.edges(data=True):\n",
    "#     print(f\"  {u} -> {v}, weight={data['weight']}\")\n",
    "\n",
    "# print(\"DEBUG: Topological order of nodes:\", node_order)"
   ]
  },
  {
   "cell_type": "code",
   "execution_count": 15,
   "metadata": {},
   "outputs": [],
   "source": [
    "# pos = nx.spring_layout(attack_graph, seed=42)  # for reproducible layout\n",
    "# nx.draw(attack_graph, pos, with_labels=True, node_color='lightblue', edge_color='gray')\n",
    "# plt.title(\"Debug Visualization of Attack Graph\")\n",
    "# plt.show()\n"
   ]
  }
 ],
 "metadata": {
  "kernelspec": {
   "display_name": "master",
   "language": "python",
   "name": "python3"
  },
  "language_info": {
   "codemirror_mode": {
    "name": "ipython",
    "version": 3
   },
   "file_extension": ".py",
   "mimetype": "text/x-python",
   "name": "python",
   "nbconvert_exporter": "python",
   "pygments_lexer": "ipython3",
   "version": "3.10.15"
  }
 },
 "nbformat": 4,
 "nbformat_minor": 2
}

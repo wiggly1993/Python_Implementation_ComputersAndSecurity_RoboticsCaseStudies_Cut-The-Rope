{
 "cells": [
  {
   "cell_type": "code",
   "execution_count": 10,
   "metadata": {},
   "outputs": [],
   "source": [
    "import networkx as nx # type: ignore\n",
    "import matplotlib.pyplot as plt # type: ignore"
   ]
  },
  {
   "cell_type": "code",
   "execution_count": 2,
   "metadata": {},
   "outputs": [],
   "source": [
    "# Create a directed graph\n",
    "attack_graph = nx.DiGraph()\n",
    "\n",
    "# Add edges according to the attack tree structure\n",
    "edges = [\n",
    "    (1, 2),        # 1 -> 2\n",
    "    (2, 3), (2, 4), (2, 5),  # 2 -> 3,4,5 \n",
    "    (3, 6), (4, 6),          # 3,4 -> 6\n",
    "    (5, 7), (7, 8), (8, 9)   # 5 -> 7 -> 8 -> 9\n",
    "]\n",
    "\n",
    "# Add edges to the graph\n",
    "attack_graph.add_edges_from(edges)\n",
    "\n",
    "# Set default weight=1 for all edges\n",
    "nx.set_edge_attributes(attack_graph, 1, 'weight')  # All edges get weight=1"
   ]
  },
  {
   "cell_type": "code",
   "execution_count": 15,
   "metadata": {},
   "outputs": [],
   "source": [
    "# Get topological sort of nodes (analogous to R's topo_sort)\n",
    "node_order = list(nx.topological_sort(attack_graph))\n",
    "#print(f\"Node order: {node_order}\")  # Shows order like [1,2,3,4,5,7,8,9]"
   ]
  },
  {
   "cell_type": "code",
   "execution_count": 12,
   "metadata": {},
   "outputs": [],
   "source": [
    "# # Print parents (predecessors) for each node\n",
    "# for node in attack_graph.nodes():\n",
    "#     parents = list(attack_graph.predecessors(node))\n",
    "#     print(f\"Node {node} has parents: {parents}\")"
   ]
  },
  {
   "cell_type": "code",
   "execution_count": 13,
   "metadata": {},
   "outputs": [],
   "source": [
    "# # Basic visualization\n",
    "# plt.figure(figsize=(5,5))\n",
    "# pos = nx.spring_layout(attack_graph)\n",
    "# nx.draw(attack_graph, pos, with_labels=True, node_color='lightblue', \n",
    "#         node_size=500, arrowsize=20)\n",
    "# plt.title(\"Attack Graph\")\n",
    "# plt.show()"
   ]
  }
 ],
 "metadata": {
  "kernelspec": {
   "display_name": "master",
   "language": "python",
   "name": "python3"
  },
  "language_info": {
   "codemirror_mode": {
    "name": "ipython",
    "version": 3
   },
   "file_extension": ".py",
   "mimetype": "text/x-python",
   "name": "python",
   "nbconvert_exporter": "python",
   "pygments_lexer": "ipython3",
   "version": "3.10.15"
  }
 },
 "nbformat": 4,
 "nbformat_minor": 2
}

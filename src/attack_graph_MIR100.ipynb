{
 "cells": [
  {
   "cell_type": "code",
   "execution_count": 13,
   "metadata": {},
   "outputs": [],
   "source": [
    "import networkx as nx # type: ignore\n",
    "import matplotlib.pyplot as plt # type: ignore\n",
    "import numpy as np # type: ignore\n",
    "\n",
    "# Create a directed graph\n",
    "attack_graph = nx.DiGraph()"
   ]
  },
  {
   "cell_type": "code",
   "execution_count": 14,
   "metadata": {},
   "outputs": [],
   "source": [
    "def create_base_graph():\n",
    "    attack_graph = nx.DiGraph()\n",
    "    \n",
    "    edges = [\n",
    "        (1, 5), (5, 15), (15, 12), (11, 13), (15, 13),\n",
    "        (3, 6), (3, 8), (6, 8), (4, 7), (2, 9),\n",
    "        (2, 10), (8, 10), (7, 10), (2, 11), (10, 15),\n",
    "        (8, 14), (9, 14), (11, 14), (7, 14), (11, 16),\n",
    "        (7, 16), (2, 16), (8, 16), (15, 16)\n",
    "    ]\n",
    "    \n",
    "    attack_graph.add_edges_from(edges)\n",
    "    return attack_graph"
   ]
  },
  {
   "cell_type": "code",
   "execution_count": 15,
   "metadata": {},
   "outputs": [],
   "source": [
    "def add_edge_probabilities(graph):\n",
    "    # Exactly matching R: edgeProbs <- c(0.111265, 0.111265, 0.47287625, ...)\n",
    "    edge_probs = [\n",
    "        0.111265, 0.111265, 0.47287625, 0.47287625, 0.47287625,\n",
    "        0.3449215, 0.47287625, 1, 0.3449215, 0.47287625,\n",
    "        1, 1, 1, 0.47287625, 0.47287625,\n",
    "        0.47287625, 0.47287625, 0.47287625, 0.47287625, 0.47287625,\n",
    "        0.3449215, 0.3449215, 0.3449215, 1\n",
    "    ]\n",
    "    \n",
    "    # Add probabilities to each edge in order\n",
    "    for (u, v), prob in zip(graph.edges(), edge_probs):\n",
    "        graph[u][v]['edge_probabilities'] = prob\n",
    "    \n",
    "    return graph"
   ]
  },
  {
   "cell_type": "code",
   "execution_count": 16,
   "metadata": {},
   "outputs": [],
   "source": [
    "def add_edge_weights(graph):\n",
    "    # Matching R: weight = -log(edgeProbs)\n",
    "    for u, v in graph.edges():\n",
    "        prob = graph[u][v]['edge_probabilities']\n",
    "        graph[u][v]['weight'] = -np.log(prob)\n",
    "    \n",
    "    return graph"
   ]
  },
  {
   "cell_type": "code",
   "execution_count": 17,
   "metadata": {},
   "outputs": [],
   "source": [
    "def verify_graph(graph):\n",
    "    print(\"Graph verification:\")\n",
    "    print(f\"Number of nodes: {graph.number_of_nodes()}\")\n",
    "    print(f\"Number of edges: {graph.number_of_edges()}\")\n",
    "    \n",
    "    #Uncomment for detailed edge verification\n",
    "    print(\"\\nEdge details:\")\n",
    "    for u, v, data in graph.edges(data=True):\n",
    "        print(f\"Edge {u}->{v}: prob={data['edge_probabilities']:.6f}, weight={data['weight']:.6f}\")"
   ]
  },
  {
   "cell_type": "code",
   "execution_count": 18,
   "metadata": {},
   "outputs": [],
   "source": [
    "def create_mir100_attack_graph():\n",
    "    # Create base structure\n",
    "    graph = create_base_graph()\n",
    "    \n",
    "    # Add edge probabilities\n",
    "    graph = add_edge_probabilities(graph)\n",
    "    \n",
    "    # Add weights\n",
    "    graph = add_edge_weights(graph)\n",
    "    \n",
    "    # Compute topological order (matching R's topo_sort)\n",
    "    node_order = list(nx.topological_sort(graph))\n",
    "    \n",
    "    # Verify the graph\n",
    "    #verify_graph(graph)\n",
    "    \n",
    "    return graph, node_order\n",
    "\n",
    "# Create the graph\n",
    "attack_graph, node_order = create_mir100_attack_graph()"
   ]
  }
 ],
 "metadata": {
  "kernelspec": {
   "display_name": "master",
   "language": "python",
   "name": "python3"
  },
  "language_info": {
   "codemirror_mode": {
    "name": "ipython",
    "version": 3
   },
   "file_extension": ".py",
   "mimetype": "text/x-python",
   "name": "python",
   "nbconvert_exporter": "python",
   "pygments_lexer": "ipython3",
   "version": "3.10.15"
  }
 },
 "nbformat": 4,
 "nbformat_minor": 2
}

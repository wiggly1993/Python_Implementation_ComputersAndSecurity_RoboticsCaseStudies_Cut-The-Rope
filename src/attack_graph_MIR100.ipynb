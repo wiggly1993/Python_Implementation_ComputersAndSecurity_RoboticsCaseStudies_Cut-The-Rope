{
 "cells": [
  {
   "cell_type": "code",
   "execution_count": 2,
   "metadata": {},
   "outputs": [],
   "source": [
    "import networkx as nx # type: ignore\n",
    "import matplotlib.pyplot as plt # type: ignore\n",
    "\n",
    "# Create a directed graph\n",
    "attack_graph = nx.DiGraph()"
   ]
  },
  {
   "cell_type": "code",
   "execution_count": 3,
   "metadata": {},
   "outputs": [],
   "source": [
    "# Define edges for MIR100 robot \n",
    "# Format: (source, target, {'weight': 1, 'edge_probabilities': probability})\n",
    "edges_with_probabilities = [\n",
    "    # Paths from entry points\n",
    "    (1, 5, {'weight': 1, 'edge_probabilities': 0.8}),\n",
    "    (2, 5, {'weight': 1, 'edge_probabilities': 0.7}),\n",
    "    (3, 6, {'weight': 1, 'edge_probabilities': 0.9}),\n",
    "    (4, 6, {'weight': 1, 'edge_probabilities': 0.6}),\n",
    "    \n",
    "    # Internal paths\n",
    "    (5, 15, {'weight': 1, 'edge_probabilities': 0.8}),\n",
    "    (6, 8, {'weight': 1, 'edge_probabilities': 0.7}),\n",
    "    (7, 8, {'weight': 1, 'edge_probabilities': 0.8}),\n",
    "    (8, 10, {'weight': 1, 'edge_probabilities': 0.6}),\n",
    "    (8, 11, {'weight': 1, 'edge_probabilities': 0.7}),\n",
    "    (9, 11, {'weight': 1, 'edge_probabilities': 0.8}),\n",
    "    (10, 16, {'weight': 1, 'edge_probabilities': 0.7}),\n",
    "    (11, 16, {'weight': 1, 'edge_probabilities': 0.8}),\n",
    "    (15, 16, {'weight': 1, 'edge_probabilities': 0.9})\n",
    "]"
   ]
  },
  {
   "cell_type": "code",
   "execution_count": 4,
   "metadata": {},
   "outputs": [],
   "source": [
    "# Add edges with their attributes\n",
    "attack_graph.add_edges_from([(u, v, attr) for u, v, attr in edges_with_probabilities])\n",
    "\n",
    "# Compute topological order of nodes\n",
    "node_order = list(nx.topological_sort(attack_graph))"
   ]
  },
  {
   "cell_type": "code",
   "execution_count": 5,
   "metadata": {},
   "outputs": [
    {
     "name": "stdout",
     "output_type": "stream",
     "text": [
      "Graph verification:\n",
      "Number of nodes: 13\n",
      "Number of edges: 13\n"
     ]
    }
   ],
   "source": [
    "# After loading the graph\n",
    "print(\"Graph verification:\")\n",
    "print(f\"Number of nodes: {len(attack_graph.nodes)}\")\n",
    "print(f\"Number of edges: {len(attack_graph.edges)}\")\n",
    "\n",
    "# In random_steps, add debugging:\n",
    "def random_steps(route, attack_rate=None, defense_rate=None, graph=None):\n",
    "    if graph is None:\n",
    "        graph = attack_graph\n",
    "    \n",
    "    print(f\"Checking edge properties for route: {route}\")\n",
    "    for i in range(len(route)-1):\n",
    "        edge = (route[i], route[i+1])\n",
    "        print(f\"Edge {edge}: {graph.edges[edge].get('edge_probabilities', 'Not found')}\")"
   ]
  }
 ],
 "metadata": {
  "kernelspec": {
   "display_name": "master",
   "language": "python",
   "name": "python3"
  },
  "language_info": {
   "codemirror_mode": {
    "name": "ipython",
    "version": 3
   },
   "file_extension": ".py",
   "mimetype": "text/x-python",
   "name": "python",
   "nbconvert_exporter": "python",
   "pygments_lexer": "ipython3",
   "version": "3.10.15"
  }
 },
 "nbformat": 4,
 "nbformat_minor": 2
}

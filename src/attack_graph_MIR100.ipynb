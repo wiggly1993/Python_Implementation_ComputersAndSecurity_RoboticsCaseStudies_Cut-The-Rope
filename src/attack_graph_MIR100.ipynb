{
 "cells": [
  {
   "cell_type": "code",
   "execution_count": 7,
   "metadata": {},
   "outputs": [],
   "source": [
    "import networkx as nx\n",
    "import numpy as np\n"
   ]
  },
  {
   "cell_type": "code",
   "execution_count": 8,
   "metadata": {},
   "outputs": [],
   "source": [
    "\n",
    "def create_base_graph():\n",
    "    \"\"\"\n",
    "    Create the base directed graph with edges (no probabilities yet).\n",
    "    \"\"\"\n",
    "    G = nx.DiGraph()\n",
    "    \n",
    "    edges = [\n",
    "        (1, 5), (5, 15), (15, 12), (11, 13), (15, 13),\n",
    "        (3, 6), (3, 8), (6, 8), (4, 7), (2, 9),\n",
    "        (2, 10), (8, 10), (7, 10), (2, 11), (10, 15),\n",
    "        (8, 14), (9, 14), (11, 14), (7, 14), (11, 16),\n",
    "        (7, 16), (2, 16), (8, 16), (15, 16)\n",
    "    ]\n",
    "    \n",
    "    G.add_edges_from(edges)\n",
    "    return G\n",
    "\n",
    "def add_edge_probabilities(G):\n",
    "    \"\"\"\n",
    "    Add 'prob' attribute to edges, matching the *exact* R code's vector in the\n",
    "    *exact* order the edges were originally listed (to avoid inconsistent ordering).\n",
    "    \"\"\"\n",
    "    # The edges *must* be listed in precisely the same order as in R.\n",
    "    # Then we assign probabilities in that order.\n",
    "    edges_in_order = [\n",
    "        (1, 5), (5, 15), (15, 12), (11, 13), (15, 13),\n",
    "        (3, 6), (3, 8), (6, 8), (4, 7), (2, 9),\n",
    "        (2, 10), (8, 10), (7, 10), (2, 11), (10, 15),\n",
    "        (8, 14), (9, 14), (11, 14), (7, 14), (11, 16),\n",
    "        (7, 16), (2, 16), (8, 16), (15, 16)\n",
    "    ]\n",
    "    \n",
    "    # Match the R probabilities *in the same order*:\n",
    "    # c(0.111265, 0.111265, 0.47287625, 0.47287625, 0.47287625,\n",
    "    #   0.3449215, 0.47287625, 1, 0.3449215, 0.47287625,\n",
    "    #   1, 1, 1, 0.47287625, 0.47287625,\n",
    "    #   0.47287625, 0.47287625, 0.47287625, 0.47287625, 0.47287625,\n",
    "    #   0.3449215, 0.3449215, 0.3449215, 1)\n",
    "    edge_probs = [\n",
    "        0.111265, 0.111265, 0.47287625, 0.47287625, 0.47287625,\n",
    "        0.3449215, 0.47287625, 1.0, 0.3449215, 0.47287625,\n",
    "        1.0, 1.0, 1.0, 0.47287625, 0.47287625,\n",
    "        0.47287625, 0.47287625, 0.47287625, 0.47287625, 0.47287625,\n",
    "        0.3449215, 0.3449215, 0.3449215, 1.0\n",
    "    ]\n",
    "    \n",
    "    # Now explicitly assign each probability in that fixed order:\n",
    "    for (u, v), p in zip(edges_in_order, edge_probs):\n",
    "        if G.has_edge(u, v):\n",
    "            G[u][v]['prob'] = p\n",
    "        else:\n",
    "            # If for some reason an edge is missing, you might raise an error or skip\n",
    "            raise ValueError(f\"Edge ({u}->{v}) not found in the graph. Check definitions!\")\n",
    "    \n",
    "    return G\n",
    "\n",
    "\n",
    "def add_edge_weights(G):\n",
    "    \"\"\"\n",
    "    'weight' = -log(prob), same as the R code (with potential -0.0 -> 0.0 cleanup).\n",
    "    \"\"\"\n",
    "    for u, v in G.edges():\n",
    "        p = G[u][v]['prob']\n",
    "        w = -np.log(p)\n",
    "        if abs(w) < 1e-14:\n",
    "            w = 0.0\n",
    "        G[u][v]['weight'] = w\n",
    "    return G\n",
    "\n",
    "def create_mir100_attack_graph():\n",
    "    \"\"\"\n",
    "    Create the base MIR100 graph with 'prob' and 'weight' attributes.\n",
    "    \"\"\"\n",
    "    G = create_base_graph()\n",
    "    G = add_edge_probabilities(G)\n",
    "    G = add_edge_weights(G)\n",
    "    return G"
   ]
  },
  {
   "cell_type": "code",
   "execution_count": 10,
   "metadata": {},
   "outputs": [
    {
     "data": {
      "text/plain": [
       "<networkx.classes.digraph.DiGraph at 0x1124baf80>"
      ]
     },
     "execution_count": 10,
     "metadata": {},
     "output_type": "execute_result"
    }
   ],
   "source": [
    "def create_mir100_attack_graph():\n",
    "    \"\"\"\n",
    "    Create the graph, add probabilities, compute weights, etc.\n",
    "    \"\"\"\n",
    "    G = create_base_graph()\n",
    "    G = add_edge_probabilities(G)\n",
    "    G = add_edge_weights(G)\n",
    "    return G\n",
    "\n",
    "attack_graph = create_mir100_attack_graph()"
   ]
  }
 ],
 "metadata": {
  "kernelspec": {
   "display_name": "master",
   "language": "python",
   "name": "python3"
  },
  "language_info": {
   "codemirror_mode": {
    "name": "ipython",
    "version": 3
   },
   "file_extension": ".py",
   "mimetype": "text/x-python",
   "name": "python",
   "nbconvert_exporter": "python",
   "pygments_lexer": "ipython3",
   "version": "3.10.15"
  }
 },
 "nbformat": 4,
 "nbformat_minor": 2
}

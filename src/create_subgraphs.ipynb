{
 "cells": [
  {
   "cell_type": "code",
   "execution_count": null,
   "metadata": {},
   "outputs": [],
   "source": [
    "import random\n",
    "import networkx as nx\n",
    "from copy import deepcopy\n",
    "import matplotlib.pyplot as plt\n",
    "import networkx as nx"
   ]
  },
  {
   "cell_type": "code",
   "execution_count": null,
   "metadata": {},
   "outputs": [],
   "source": [
    "full_attack_graph = deepcopy(attack_graph)"
   ]
  },
  {
   "cell_type": "markdown",
   "metadata": {},
   "source": [
    "### Assumptions\n",
    "\n",
    "For now I assume the following\n",
    "- target nodes can NOT be dropped. The defender is aware of all critical assets in his system\n",
    "- Entry nodes can be dropped. The defender might not be aware of all entry points into the graph\n",
    "- Intermediate nodes can be dropped.\n",
    "\n",
    "When Plotting:\n",
    "- If entry node (green) has been dropped I will colour the \"new\" entry nodes green instead\n",
    "- If some intermediate node has been dropped and a path now ends in a \"dead end\", this will not be turned red, as the defender still is aware that this is not a target node."
   ]
  },
  {
   "cell_type": "code",
   "execution_count": null,
   "metadata": {},
   "outputs": [],
   "source": [
    "def create_defender_subgraph(graph, drop_percentage=0.2):\n",
    "    \"\"\"\n",
    "    Creates a subgraph for the defender by removing a percentage of non-target nodes.\n",
    "    \n",
    "    Args:\n",
    "        graph: NetworkX graph\n",
    "        drop_percentage: Percentage of non-target nodes to drop (default: 0.2)\n",
    "        \n",
    "    Returns:\n",
    "        NetworkX subgraph with random nodes removed\n",
    "    \"\"\"\n",
    "    \n",
    "    # Make a deep copy to avoid modifying the original\n",
    "    sub_graph = deepcopy(graph)\n",
    "    \n",
    "    # Identify target nodes (nodes with no outgoing edges)\n",
    "    target_nodes = []\n",
    "    for n, d in sub_graph.out_degree():\n",
    "        if d == 0:\n",
    "            target_nodes.append(n)\n",
    "    \n",
    "    print(f\"Identified {len(target_nodes)} target nodes: {target_nodes}\")\n",
    "    \n",
    "    # Create list of non-target nodes that can be dropped\n",
    "    droppable_nodes = []\n",
    "    for n in sub_graph.nodes():\n",
    "        if n not in target_nodes:\n",
    "            droppable_nodes.append(n)\n",
    "    \n",
    "    # Calculate how many nodes to drop\n",
    "    num_to_drop = max(1, int(len(droppable_nodes) * drop_percentage))\n",
    "    \n",
    "    # Randomly select nodes to drop\n",
    "    nodes_to_drop = random.sample(droppable_nodes, num_to_drop)\n",
    "    print(f\"Dropping {len(nodes_to_drop)} nodes: {nodes_to_drop}\")\n",
    "    \n",
    "    # Remove selected nodes\n",
    "    sub_graph.remove_nodes_from(nodes_to_drop)\n",
    "    \n",
    "    print(f\"Original graph had {len(graph.nodes())} nodes, subgraph has {len(sub_graph.nodes())} nodes\")\n",
    "    \n",
    "    return sub_graph"
   ]
  },
  {
   "cell_type": "code",
   "execution_count": null,
   "metadata": {},
   "outputs": [],
   "source": [
    "# defender_subgraph = create_defender_subgraph(pre_sub_graph)\n",
    "# defender_subgraphs_list = []\n",
    "# defender_subgraphs_list.append(pre_sub_graph)\n",
    "\n",
    "# create 3 different subgraphs and store them in a list\n",
    "defender_subgraphs_list = [create_defender_subgraph(full_attack_graph) for _ in range(3)]"
   ]
  },
  {
   "cell_type": "markdown",
   "metadata": {},
   "source": [
    "### Plot it"
   ]
  },
  {
   "cell_type": "code",
   "execution_count": null,
   "metadata": {},
   "outputs": [],
   "source": [
    "def visualize_subgraphs(subgraph_list, original_graph=None):\n",
    "    \"\"\"\n",
    "    Visualizes the last 3 defender's subgraphs side by side.\n",
    "    \"\"\"\n",
    "\n",
    "    # Take only the last 3 graphs\n",
    "    graphs_to_show = subgraph_list[-3:] if len(subgraph_list) >= 3 else subgraph_list\n",
    "    num_graphs = len(graphs_to_show)\n",
    "    \n",
    "    # Create subplot figure\n",
    "    fig, axes = plt.subplots(1, num_graphs, figsize=(6*num_graphs, 6))\n",
    "    \n",
    "    # Handle case when only one graph (axes not array)\n",
    "    if num_graphs == 1:\n",
    "        axes = [axes]\n",
    "    \n",
    "    for i, subgraph in enumerate(graphs_to_show):\n",
    "        # If no original graph provided, use the subgraph\n",
    "        orig_graph = original_graph if original_graph else subgraph\n",
    "        \n",
    "        # Identify original target nodes\n",
    "        original_target_nodes = [n for n, d in orig_graph.out_degree() if d == 0]\n",
    "        \n",
    "        # Identify entry nodes in subgraph\n",
    "        entry_nodes = [n for n, d in subgraph.in_degree() if d == 0]\n",
    "        \n",
    "        # Use spring layout\n",
    "        pos = nx.spring_layout(subgraph, k=1, iterations=50, seed=42)\n",
    "        \n",
    "        # Draw edges with arrows\n",
    "        nx.draw_networkx_edges(subgraph, pos, \n",
    "                              edge_color='gray',\n",
    "                              arrows=True,\n",
    "                              arrowsize=15,\n",
    "                              width=1.5,\n",
    "                              ax=axes[i])\n",
    "        \n",
    "        # Create color map for nodes\n",
    "        node_colors = ['lightgreen' if node in entry_nodes else \n",
    "                      'lightcoral' if node in original_target_nodes else \n",
    "                      'lightblue' for node in subgraph.nodes()]\n",
    "        \n",
    "        # Draw nodes\n",
    "        nx.draw_networkx_nodes(subgraph, pos,\n",
    "                              node_color=node_colors,\n",
    "                              node_size=500,\n",
    "                              edgecolors='darkblue',\n",
    "                              linewidths=1.5,\n",
    "                              ax=axes[i])\n",
    "        \n",
    "        # Create and draw labels\n",
    "        labels = {node: str(node) for node in subgraph.nodes()}\n",
    "        nx.draw_networkx_labels(subgraph, pos,\n",
    "                               labels,\n",
    "                               font_size=10,\n",
    "                               font_weight='bold',\n",
    "                               ax=axes[i])\n",
    "        \n",
    "        axes[i].set_title(f\"Defender's Subgraph {i+1}\", fontsize=12, fontweight='bold')\n",
    "        axes[i].axis('off')\n",
    "    \n",
    "    plt.tight_layout()\n",
    "    plt.show()"
   ]
  },
  {
   "cell_type": "code",
   "execution_count": null,
   "metadata": {},
   "outputs": [],
   "source": [
    "visualize_subgraphs(defender_subgraphs_list)"
   ]
  },
  {
   "cell_type": "code",
   "execution_count": null,
   "metadata": {},
   "outputs": [],
   "source": [
    "print(\"create subsgraph for defender concluded\")"
   ]
  }
 ],
 "metadata": {
  "kernelspec": {
   "display_name": "master",
   "language": "python",
   "name": "python3"
  },
  "language_info": {
   "codemirror_mode": {
    "name": "ipython",
    "version": 3
   },
   "file_extension": ".py",
   "mimetype": "text/x-python",
   "name": "python",
   "nbconvert_exporter": "python",
   "pygments_lexer": "ipython3",
   "version": "3.10.15"
  }
 },
 "nbformat": 4,
 "nbformat_minor": 2
}

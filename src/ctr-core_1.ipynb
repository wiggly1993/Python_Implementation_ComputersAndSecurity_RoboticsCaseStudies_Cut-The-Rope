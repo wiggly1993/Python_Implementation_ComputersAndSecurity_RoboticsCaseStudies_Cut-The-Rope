{
 "cells": [
  {
   "cell_type": "code",
   "execution_count": 1,
   "metadata": {},
   "outputs": [],
   "source": [
    "import networkx as nx\n",
    "import numpy as np\n",
    "from scipy.optimize import linprog"
   ]
  },
  {
   "cell_type": "code",
   "execution_count": 2,
   "metadata": {},
   "outputs": [],
   "source": [
    "%run \"attack_graph_MARA.ipynb\""
   ]
  },
  {
   "cell_type": "code",
   "execution_count": 3,
   "metadata": {},
   "outputs": [
    {
     "name": "stdout",
     "output_type": "stream",
     "text": [
      "Nodes before: [1, 2, 3, 4, 5, 6, 7, 8, 9]\n"
     ]
    }
   ],
   "source": [
    "# Print nodes before\n",
    "print(\"Nodes before:\", list(attack_graph.nodes()))"
   ]
  },
  {
   "cell_type": "code",
   "execution_count": 4,
   "metadata": {},
   "outputs": [],
   "source": [
    "def find_and_add_entry_node(graph):\n",
    "    \"\"\"\n",
    "    Find nodes with no incoming edges and add virtual entry node if needed\n",
    "    \"\"\"\n",
    "    # Find nodes with in-degree = 0 (no incoming edges)\n",
    "    # Before: graph has nodes [1,2,3,4,5]\n",
    "    # roots = [1] (node with no incoming edges)\n",
    "    roots = [n for n,d in graph.in_degree() if d == 0]\n",
    "    \n",
    "    # If multiple root nodes found\n",
    "    if len(roots) > 1:\n",
    "        # Add new virtual entry node\n",
    "        # Before: nodes = [1,2,3,4,5]\n",
    "        # After: nodes = [\"attacker_entry_node\",1,2,3,4,5] \n",
    "        entry = \"attacker_entry_node\"\n",
    "        graph.add_node(entry)\n",
    "        \n",
    "        # Add edges from entry node to all roots with weight 1\n",
    "        # Creates edges like: (\"attacker_entry_node\" -> 1), (\"attacker_entry_node\" -> 2)\n",
    "        for root in roots:\n",
    "            graph.add_edge(entry, root, weight=1)\n",
    "            \n",
    "        return entry, graph\n",
    "    else:\n",
    "        # If single root, use it as entry\n",
    "        return roots[0], graph"
   ]
  },
  {
   "cell_type": "code",
   "execution_count": 5,
   "metadata": {},
   "outputs": [
    {
     "name": "stdout",
     "output_type": "stream",
     "text": [
      "Nodes after: [1, 2, 3, 4, 5, 6, 7, 8, 9]\n"
     ]
    }
   ],
   "source": [
    "# Run function\n",
    "entry, attack_graph = find_and_add_entry_node(attack_graph)\n",
    "\n",
    "# Print nodes after \n",
    "print(\"Nodes after:\", list(attack_graph.nodes()))"
   ]
  },
  {
   "cell_type": "code",
   "execution_count": 30,
   "metadata": {},
   "outputs": [],
   "source": [
    "def process_target_nodes(graph):\n",
    "    \"\"\"\n",
    "    Merge all target nodes (nodes with out-degree 0) into single target\n",
    "    \"\"\"\n",
    "    # Find nodes with out-degree = 0 (target nodes)\n",
    "    # Before: graph has nodes [1,2,3,4,5,6] where 5,6 are targets\n",
    "    # target_list = [5,6]\n",
    "    target_list = [n for n,d in graph.out_degree() if d == 0]\n",
    "    \n",
    "    # Create mapping for node contraction\n",
    "    # Before: nodes = [1,2,3,4,5,6]\n",
    "    # vertex_no = {1:1, 2:2, 3:3, 4:4, 5:8, 6:8} where 8 is joint vertex number\n",
    "    joint_vertex = graph.number_of_nodes() - len(target_list) + 1\n",
    "    vertex_no = {node: i+1 for i, node in enumerate(graph.nodes()) \n",
    "                if node not in target_list}\n",
    "    \n",
    "    # Add joint vertex number for all targets\n",
    "    for target in target_list:\n",
    "        vertex_no[target] = joint_vertex\n",
    "        \n",
    "    # Contract nodes according to mapping\n",
    "    # This merges nodes with same mapping number\n",
    "    graph = nx.quotient_graph(graph, \n",
    "                            lambda x, y: vertex_no[x] == vertex_no[y],\n",
    "                            relabel=True)\n",
    "    \n",
    "    return graph, vertex_no"
   ]
  },
  {
   "cell_type": "code",
   "execution_count": 31,
   "metadata": {},
   "outputs": [],
   "source": [
    "def generate_game_elements(graph, entry_node):\n",
    "    \"\"\"\n",
    "    Generate attack routes and action spaces for both players\n",
    "    \"\"\"\n",
    "    # Find new target after contraction (node with out-degree 0)\n",
    "    # target_list = [8] (merged target node)\n",
    "    target_list = [n for n,d in graph.out_degree() if d == 0]\n",
    "    \n",
    "    # Get all simple paths from entry to target\n",
    "    # routes = [[1,2,8], [1,3,4,8], [1,5,6,7,8]]\n",
    "    routes = list(nx.all_simple_paths(graph, entry_node, target_list[0]))\n",
    "    \n",
    "    # Get unique nodes across all paths\n",
    "    # V = [1,2,3,4,5,6,7,8]\n",
    "    V = sorted(list(set([node for path in routes for node in path])))\n",
    "    \n",
    "    # Get defender's action space (exclude entry, roots, targets)\n",
    "    # as1 = [3,4,5,6,7]\n",
    "    excluded = {entry_node, *target_list}\n",
    "    if entry_node == \"attacker_entry_node\":\n",
    "        excluded.update(set([path[1] for path in routes]))\n",
    "    as1 = [n for n in V if n not in excluded]\n",
    "    \n",
    "    # Attacker's action space is the routes themselves\n",
    "    as2 = routes\n",
    "    \n",
    "    return routes, V, as1, as2, target_list"
   ]
  },
  {
   "cell_type": "code",
   "execution_count": 32,
   "metadata": {},
   "outputs": [],
   "source": [
    "def setup_game_parameters(V, routes, entry_node, target_list):\n",
    "    \"\"\"\n",
    "    Setup initial probability distributions and game parameters\n",
    "    \"\"\"\n",
    "    # Get list of possible adversary starting locations\n",
    "    # V = [1,2,3,4,8], entry = 1, target = 8\n",
    "    # adv_list = [2,3,4]\n",
    "    adv_list = [n for n in V if n not in [entry_node, *target_list]]\n",
    "    \n",
    "    # Create uniform probability distribution for adversary locations\n",
    "    # theta = {2: 0.33, 3: 0.33, 4: 0.33}\n",
    "    theta = {loc: 1/len(adv_list) for loc in adv_list}\n",
    "    \n",
    "    # Get number of strategies for each player\n",
    "    # m = number of attack paths, n = number of defender check locations\n",
    "    m = len(routes)\n",
    "    n = len(adv_list)\n",
    "    \n",
    "    return adv_list, theta, m, n"
   ]
  },
  {
   "cell_type": "code",
   "execution_count": 33,
   "metadata": {},
   "outputs": [],
   "source": [
    "def calculate_location_distribution(path, check_node, avatar, theta, random_steps_fn, \n",
    "                                 attack_rate, defense_rate):\n",
    "    \"\"\"\n",
    "    Calculate probability distribution of attacker location for one path\n",
    "    \"\"\"\n",
    "    # Initialize distribution vector\n",
    "    # L = {1:0, 2:0, 3:0, 4:0, 8:0}\n",
    "    L = {node: 0 for node in path}\n",
    "    \n",
    "    if avatar in path:\n",
    "        # Get route from avatar's position\n",
    "        # path = [1,2,4,8], avatar = 2\n",
    "        # route = [2,4,8]\n",
    "        start_idx = path.index(avatar)\n",
    "        route = path[start_idx:]\n",
    "        \n",
    "        # Get step distribution\n",
    "        # pdf_d = [0.15, 0.30, 0.30, 0.20, 0.05]\n",
    "        pdf_d = random_steps_fn(route, attack_rate, defense_rate)\n",
    "        \n",
    "        # Find cut point (where defender checks)\n",
    "        # check_node = 4, route = [2,4,8]\n",
    "        # cut_point = 2 (index of 4 in route)\n",
    "        try:\n",
    "            cut_point = min(route.index(check_node) + 1, len(route))\n",
    "        except ValueError:\n",
    "            cut_point = len(route)\n",
    "            \n",
    "        # Calculate payoff distribution\n",
    "        if sum(pdf_d[:cut_point]) == 0:\n",
    "            # If no probability mass before cut, put all at cut point\n",
    "            payoff_distr = [0] * cut_point\n",
    "            payoff_distr[-1] = 1\n",
    "        else:\n",
    "            # Normalize probabilities up to cut point\n",
    "            payoff_distr = pdf_d[:cut_point] / sum(pdf_d[:cut_point])\n",
    "            \n",
    "        # Assign probabilities to locations\n",
    "        for i, node in enumerate(route[:cut_point]):\n",
    "            L[node] = payoff_distr[i]\n",
    "            \n",
    "    else:\n",
    "        # If avatar not on path, stays at starting position\n",
    "        L[avatar] = 1\n",
    "        \n",
    "    return L"
   ]
  },
  {
   "cell_type": "code",
   "execution_count": 34,
   "metadata": {},
   "outputs": [],
   "source": [
    "def create_payoff_matrix(as1, as2, V, adv_list, theta, random_steps_fn, \n",
    "                        attack_rate, defense_rate, node_order):\n",
    "    \"\"\"Create payoff matrix for the game\"\"\"\n",
    "    payoff_matrix = []\n",
    "    print(f\"Creating matrix with:\")\n",
    "    print(f\"as1: {as1}\")\n",
    "    print(f\"as2: {as2}\")\n",
    "    print(f\"V: {V}\")\n",
    "    print(f\"adv_list: {adv_list}\")\n",
    "    \n",
    "    # ... rest of the function\n",
    "    print(f\"Final payoff matrix shape: {np.array(payoff_matrix).shape}\")\n",
    "    return np.array(payoff_matrix)"
   ]
  },
  {
   "cell_type": "code",
   "execution_count": 35,
   "metadata": {},
   "outputs": [],
   "source": [
    "def solve_game(payoff_matrix, n, m, as1):\n",
    "    \"\"\"\n",
    "    Create game object and compute optimal strategy\n",
    "    \n",
    "    Args:\n",
    "        payoff_matrix: Matrix of payoffs for each defender-attacker strategy combination\n",
    "        n: Number of defender strategies (check locations)\n",
    "        m: Number of attacker strategies (paths)\n",
    "        as1: List of defender check locations\n",
    "        \n",
    "    Returns:\n",
    "        Dictionary containing optimal defense strategy and attacker success probability\n",
    "    \"\"\"\n",
    "    # Reshape payoff matrix to (n x m) format\n",
    "    # Before: Single list of distributions\n",
    "    # After: Matrix where rows=defender actions, cols=attacker paths\n",
    "    payoff_matrix = payoff_matrix.reshape(n, m, -1)\n",
    "    \n",
    "    # Create game object (using scipy.optimize.linprog)\n",
    "    # This solves the zero-sum game using linear programming\n",
    "    from scipy.optimize import linprog\n",
    "    \n",
    "    # Setup the linear programming problem\n",
    "    c = np.zeros(n)\n",
    "    A_ub = -payoff_matrix.reshape(m, n)\n",
    "    b_ub = -np.ones(m)\n",
    "    A_eq = np.ones((1, n))\n",
    "    b_eq = [1]\n",
    "    bounds = [(0, None) for _ in range(n)]\n",
    "    \n",
    "    # Solve for defender's optimal strategy\n",
    "    result = linprog(c, A_ub=A_ub, b_ub=b_ub, A_eq=A_eq, b_eq=b_eq, bounds=bounds)\n",
    "    \n",
    "    # Extract solution\n",
    "    optimal_defense = dict(zip(as1, result.x))\n",
    "    value = -1/result.fun if result.fun != 0 else float('inf')\n",
    "    \n",
    "    return {\n",
    "        'optimal_defense': optimal_defense,\n",
    "        'value': value\n",
    "    }"
   ]
  },
  {
   "cell_type": "code",
   "execution_count": 36,
   "metadata": {},
   "outputs": [],
   "source": [
    "def run_game(graph, attack_rate_list, defense_rate_list, random_steps_fn):\n",
    "    \"\"\"Main function to run the complete game analysis\"\"\"\n",
    "    # Process entry nodes\n",
    "    entry_node, graph = find_and_add_entry_node(graph)\n",
    "    print(f\"Entry node: {entry_node}\")\n",
    "    \n",
    "    # Process target nodes\n",
    "    graph, vertex_no = process_target_nodes(graph)\n",
    "    \n",
    "    # Generate game elements\n",
    "    routes, V, as1, as2, target_list = generate_game_elements(graph, entry_node)\n",
    "    print(f\"Routes: {routes}\")\n",
    "    print(f\"V: {V}\")\n",
    "    print(f\"as1 (defender actions): {as1}\")\n",
    "    print(f\"as2 (attacker paths): {as2}\")\n",
    "    print(f\"target_list: {target_list}\")\n",
    "    \n",
    "    # Setup initial parameters\n",
    "    adv_list, theta, m, n = setup_game_parameters(V, routes, entry_node, target_list)\n",
    "    print(f\"adv_list: {adv_list}\")\n",
    "    print(f\"m: {m}, n: {n}\")\n",
    "    \n",
    "    # ... rest of the function"
   ]
  },
  {
   "cell_type": "code",
   "execution_count": 37,
   "metadata": {},
   "outputs": [],
   "source": [
    "# If defense_rate_list not defined, use default\n",
    "if 'defense_rate_list' not in locals():\n",
    "    defense_rate_list = [0]\n",
    "    \n",
    "# If attack_rate_list not defined, use default  \n",
    "if 'attack_rate_list' not in locals():\n",
    "    attack_rate_list = [0]"
   ]
  },
  {
   "cell_type": "code",
   "execution_count": 38,
   "metadata": {},
   "outputs": [
    {
     "ename": "NameError",
     "evalue": "name 'attack_graph' is not defined",
     "output_type": "error",
     "traceback": [
      "\u001b[0;31m---------------------------------------------------------------------------\u001b[0m",
      "\u001b[0;31mNameError\u001b[0m                                 Traceback (most recent call last)",
      "Cell \u001b[0;32mIn[38], line 2\u001b[0m\n\u001b[1;32m      1\u001b[0m \u001b[38;5;66;03m# Execute game\u001b[39;00m\n\u001b[0;32m----> 2\u001b[0m results \u001b[38;5;241m=\u001b[39m run_game(\u001b[43mattack_graph\u001b[49m, attack_rate_list, defense_rate_list, random_steps)\n\u001b[1;32m      4\u001b[0m \u001b[38;5;66;03m# Display results\u001b[39;00m\n\u001b[1;32m      5\u001b[0m \u001b[38;5;28;01mwith\u001b[39;00m \u001b[38;5;28mopen\u001b[39m(\u001b[38;5;124m'\u001b[39m\u001b[38;5;124mexperiment_1.log\u001b[39m\u001b[38;5;124m'\u001b[39m, \u001b[38;5;124m'\u001b[39m\u001b[38;5;124mr\u001b[39m\u001b[38;5;124m'\u001b[39m) \u001b[38;5;28;01mas\u001b[39;00m f:\n",
      "\u001b[0;31mNameError\u001b[0m: name 'attack_graph' is not defined"
     ]
    }
   ],
   "source": [
    "# Execute game\n",
    "results = run_game(attack_graph, attack_rate_list, defense_rate_list, random_steps)\n",
    "\n",
    "# Display results\n",
    "with open('experiment_1.log', 'r') as f:\n",
    "    print(f.read())"
   ]
  }
 ],
 "metadata": {
  "kernelspec": {
   "display_name": "master",
   "language": "python",
   "name": "python3"
  },
  "language_info": {
   "codemirror_mode": {
    "name": "ipython",
    "version": 3
   },
   "file_extension": ".py",
   "mimetype": "text/x-python",
   "name": "python",
   "nbconvert_exporter": "python",
   "pygments_lexer": "ipython3",
   "version": "3.10.15"
  }
 },
 "nbformat": 4,
 "nbformat_minor": 2
}

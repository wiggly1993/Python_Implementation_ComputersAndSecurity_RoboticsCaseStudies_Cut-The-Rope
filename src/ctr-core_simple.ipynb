{
 "cells": [
  {
   "cell_type": "code",
   "execution_count": 51,
   "metadata": {},
   "outputs": [],
   "source": [
    "import networkx as nx\n",
    "import numpy as np\n",
    "from scipy.optimize import linprog\n",
    "from copy import deepcopy\n",
    "# from math import factorial, exp"
   ]
  },
  {
   "cell_type": "code",
   "execution_count": 52,
   "metadata": {},
   "outputs": [],
   "source": [
    "%run \"attack_graph_MARA.ipynb\""
   ]
  },
  {
   "cell_type": "markdown",
   "metadata": {},
   "source": [
    "## Pre-Processing"
   ]
  },
  {
   "cell_type": "markdown",
   "metadata": {},
   "source": [
    "Please note this difference:\n",
    "Adding virtual start node: We ADD a new virtual starting node and connect it to existing root (starting nodes)\n",
    "Adding virtual target node: we REMOVE the old target nodes and replace them with one joint virtual target node"
   ]
  },
  {
   "cell_type": "markdown",
   "metadata": {},
   "source": [
    "### Add Virtual starting node"
   ]
  },
  {
   "cell_type": "code",
   "execution_count": 53,
   "metadata": {},
   "outputs": [],
   "source": [
    "def find_and_add_entry_node(graph):\n",
    "    # Find all nodes with no incoming edges\n",
    "    roots = [n for n, deg in graph.in_degree() if deg == 0]\n",
    "    #print(\"DEBUG: Roots before adding entry node:\", roots)\n",
    "    \n",
    "    if len(roots) > 1:\n",
    "        # Create a virtual entry node\n",
    "        entry = \"attacker_entry_node\"\n",
    "        graph.add_node(entry)\n",
    "        \n",
    "        # Connect the entry node to all roots\n",
    "        for r in roots:\n",
    "            graph.add_edge(entry, r, weight=1)\n",
    "        \n",
    "        # print(\"DEBUG: Multiple roots found. Created entry node:\", entry)\n",
    "        # print(\"DEBUG: Edges from entry node to roots:\")\n",
    "        # for r in roots:\n",
    "        #     print(f\"  {entry} -> {r}\")\n",
    "        # return entry, graph\n",
    "    else:\n",
    "        # If single root exists, that is our entry\n",
    "        entry = roots[0]\n",
    "        #print(\"DEBUG: Only one root found. Entry node is:\", entry)\n",
    "        return entry, graph\n"
   ]
  },
  {
   "cell_type": "markdown",
   "metadata": {},
   "source": [
    "### Add Virtual Target Node "
   ]
  },
  {
   "cell_type": "code",
   "execution_count": 54,
   "metadata": {},
   "outputs": [],
   "source": [
    "def process_target_nodes(graph):\n",
    "    # In R:\n",
    "    # jointVertex <- gorder(attack_graph) - length(target_list) + 1\n",
    "    # vertexNo[, target_list] <- jointVertex\n",
    "    # vertexNo[vertexNo == 0] <- 1:(jointVertex - 1)\n",
    "    # attack_graph <- contract.vertices(attack_graph, mapping = vertexNo)\n",
    "\n",
    "    # Step 1: Identify target nodes (no outgoing edges)\n",
    "    targets = [n for n, deg in graph.out_degree() if deg == 0]\n",
    "    if len(targets) <= 1:\n",
    "        # If there is 0 or 1 target, no merging needed\n",
    "        return graph\n",
    "\n",
    "    # Number of original nodes\n",
    "    original_count = graph.number_of_nodes()\n",
    "    # same formula as in the R code\n",
    "    joint_vertex_num = original_count - len(targets) + 1\n",
    "\n",
    "    # We will mimic exactly the logic from R:\n",
    "    # First, get a topological order of the original graph\n",
    "    topo_nodes = list(nx.topological_sort(graph))\n",
    "\n",
    "    # Create a mapping array: For each node in topo order, assign a \"vertexNo\".\n",
    "    # Initialize everything to 0\n",
    "    vertexNo = {node: 0 for node in topo_nodes}\n",
    "\n",
    "    # Set all targets to joint_vertex_num\n",
    "    for t in targets:\n",
    "        vertexNo[t] = joint_vertex_num\n",
    "\n",
    "    # Now fill the zeros with consecutive integers from 1 to joint_vertex_num-1\n",
    "    # but maintain the topological order\n",
    "    fill_value = 1\n",
    "    for node in topo_nodes:\n",
    "        if vertexNo[node] == 0:\n",
    "            vertexNo[node] = fill_value\n",
    "            fill_value += 1\n",
    "\n",
    "    # Now we have a mapping of each original node to an integer ID.\n",
    "    # Nodes assigned the same integer ID should be contracted into one node.\n",
    "    # Example: If multiple targets got joint_vertex_num, they form one merged node.\n",
    "\n",
    "    # Create a mapping from the integer IDs to sets of original nodes\n",
    "    block_map = {}\n",
    "    for node, grp_id in vertexNo.items():\n",
    "        if grp_id not in block_map:\n",
    "            block_map[grp_id] = set()\n",
    "        block_map[grp_id].add(node)\n",
    "\n",
    "    # Build a new contracted graph\n",
    "    merged_graph = nx.DiGraph()\n",
    "\n",
    "    # Add nodes (each group_id becomes one node in merged_graph)\n",
    "    for grp_id in block_map:\n",
    "        merged_graph.add_node(grp_id)\n",
    "\n",
    "    # For edges: if u->v in the old graph, map them to their groups:\n",
    "    # If they map to the same group, skip (self-loop)\n",
    "    # Otherwise, add edge between the groups\n",
    "    for u, v, data in graph.edges(data=True):\n",
    "        u_id = vertexNo[u]\n",
    "        v_id = vertexNo[v]\n",
    "        if u_id != v_id:\n",
    "            # Keep the weight as is\n",
    "            w = data.get('weight', 1)\n",
    "            if not merged_graph.has_edge(u_id, v_id):\n",
    "                merged_graph.add_edge(u_id, v_id, weight=w)\n",
    "\n",
    "    return merged_graph"
   ]
  },
  {
   "cell_type": "code",
   "execution_count": 55,
   "metadata": {},
   "outputs": [],
   "source": [
    "# Prepare the graph\n",
    "work_graph = deepcopy(attack_graph)\n",
    "entry_node, work_graph = find_and_add_entry_node(work_graph)\n",
    "\n",
    "work_graph = process_target_nodes(work_graph)"
   ]
  },
  {
   "cell_type": "markdown",
   "metadata": {},
   "source": [
    "## Static elements preparation for the Game"
   ]
  },
  {
   "cell_type": "markdown",
   "metadata": {},
   "source": [
    "### Generate game elements"
   ]
  },
  {
   "cell_type": "code",
   "execution_count": 56,
   "metadata": {},
   "outputs": [],
   "source": [
    "# This method:\n",
    "# Finds single target node in graph (after merging)\n",
    "# Gets all possible paths from entry to target node\n",
    "# Creates a sorted list of all (unique, no duplicates) nodes in any path\n",
    "# Creates a topologically sorted order of these nodes\n",
    "# Determines nodes where defender can act (excluding entry/target/roots)\n",
    "\n",
    "# Returns:\n",
    "\n",
    "# routes: List of all possible attack paths\n",
    "# V: List of all nodes involved in any path\n",
    "# as1: List of nodes where defender can act\n",
    "# as2: Same as routes (all attack paths)\n",
    "# target_list: List containing single target node\n",
    "# node_order: Topologically sorted list of nodes\n",
    "\n",
    "def generate_game_elements(graph, entry_node):\n",
    "    \"\"\"\n",
    "    Generate game elements after we have the final graph (with single entry and single target).\n",
    "    \"\"\"\n",
    "    # determine the target node\n",
    "    # Important note: This code assumes that we have already merged all target nodes into one\n",
    "    target_list = [n for n,d in graph.out_degree() if d == 0]\n",
    "    if len(target_list) != 1:\n",
    "        print(\"WARNING: Expected exactly one target node after contraction. Found:\", target_list)\n",
    "    \n",
    "    # Find all simple paths from entry to target\n",
    "    routes = list(nx.all_simple_paths(graph, entry_node, target_list[0]))\n",
    "\n",
    "    # Flatten the routes that we found and sort them \n",
    "    # i.e. list of nodes where attacker could be (+ start/end node)\n",
    "    V = sorted(list(set([node for path in routes for node in path])))\n",
    "\n",
    "    # This gives us nodes in order where each node comes after its predecessors\n",
    "    topo_all = list(nx.topological_sort(graph))\n",
    "    # Same as topo_all in this case since all nodes are in V\n",
    "    node_order = [n for n in topo_all if n in V]\n",
    "    \n",
    "    # prepare nodes to exclude (start and target node)\n",
    "    excluded = {entry_node} | set(target_list)\n",
    "    # if we have multiple roots, exclude them as well as \n",
    "    # attacker can't be at: virtual entry node, normal entry node, target node or virtual target node\n",
    "    if entry_node == \"attacker_entry_node\":\n",
    "        roots = [r for r, deg in graph.in_degree() if deg == 0 and r != entry_node]\n",
    "        excluded.update(roots)\n",
    "    \n",
    "    # as1 = [2,3,5] - these are the nodes where defender can act\n",
    "    as1 = [n for n in V if n not in excluded]\n",
    "    # as2 are the routes that attacker can take\n",
    "    as2 = routes\n",
    "    \n",
    "    return routes, V, as1, as2, target_list, node_order"
   ]
  },
  {
   "cell_type": "code",
   "execution_count": 57,
   "metadata": {},
   "outputs": [],
   "source": [
    "# Creates a list of all possible attacker locations (excluding entry and target nodes)\n",
    "# Assigns equal probability (1/n) to each possible location in a dictionary\n",
    "# Counts the total number of attack paths\n",
    "\n",
    "# Returns:\n",
    "# adv_list: List of nodes where attacker could be\n",
    "# theta: Dictionary mapping each possible location to its probability (all equal)\n",
    "# m: Number of attack paths\n",
    "\n",
    "def setup_game_parameters(V, routes, entry_node, target_list):\n",
    "    # prepare all the possible locations of attacker (avatars)\n",
    "    adv_list = [n for n in V if n not in [entry_node] + target_list]\n",
    "    if len(adv_list) == 0:\n",
    "        print(\"WARNING: No adversary intermediate locations found. Check graph structure.\")\n",
    "    \n",
    "    # Create a dictionary that assigns equal probability to each possible attacker location\n",
    "    theta = {loc: 1/len(adv_list) for loc in adv_list}\n",
    "    # Number of attack paths\n",
    "    m = len(routes)\n",
    "    return adv_list, theta, m"
   ]
  },
  {
   "cell_type": "markdown",
   "metadata": {},
   "source": [
    "## Dynamic elements preparation for the Game"
   ]
  },
  {
   "cell_type": "markdown",
   "metadata": {},
   "source": [
    "### Method to Calculate the Pay_Offs "
   ]
  },
  {
   "cell_type": "markdown",
   "metadata": {},
   "source": [
    "#### Some Explanations"
   ]
  },
  {
   "cell_type": "code",
   "execution_count": null,
   "metadata": {},
   "outputs": [],
   "source": [
    "# This method returns \"payoffs\":\n",
    "# payoffs = [\n",
    "#     {'dpdf': [0.1, 0.2, 0.7], 'support': [1,2,3], ...},  # for check1 + path1\n",
    "#     {'dpdf': [0.3, 0.5, 0.2], 'support': [1,2,3], ...},  # for check1 + path2\n",
    "#     {'dpdf': [0.4, 0.4, 0.2], 'support': [1,2,3], ...},  # for check2 + path1\n",
    "#     {'dpdf': [0.1, 0.1, 0.8], 'support': [1,2,3], ...}   # for check2 + path2\n",
    "# ]"
   ]
  },
  {
   "cell_type": "markdown",
   "metadata": {},
   "source": [
    "Let's look at:\n",
    "{'dpdf': [0.1, 0.2, 0.7], 'support': [1,2,3]}  # for check1 + path1\n",
    "\n",
    "This means:\n",
    "\n",
    "When defender checks at location 1, and attacker uses path1:\n",
    "\n",
    "10% chance attacker is at first node (0.1)\n",
    "\n",
    "20% chance attacker is at second node (0.2)\n",
    "\n",
    "70% chance attacker reached the target node! (0.7)\n",
    "\n",
    "Note: Support [1,2,3] are NOT the node number. I think of them as \"steps away from start\" rather than actual node IDs.\n",
    "\n",
    "That's why we take dpdf[-1] for our payoff matrix - it's the probability the attacker successfully reaches the target node under this check+path combination."
   ]
  },
  {
   "cell_type": "markdown",
   "metadata": {},
   "source": [
    "##### Method necessary to calc. Pay offs"
   ]
  },
  {
   "cell_type": "code",
   "execution_count": 58,
   "metadata": {},
   "outputs": [],
   "source": [
    "def lossDistribution(U):\n",
    "    U = U / np.sum(U)\n",
    "    support = np.arange(1, len(U)+1)\n",
    "    dpdf = U\n",
    "    cdf = np.cumsum(U)\n",
    "    tail = 1 - cdf + U\n",
    "    return {\n",
    "        'support': support,\n",
    "        'dpdf': dpdf,\n",
    "        'cdf': cdf,\n",
    "        'tail': tail\n",
    "    }"
   ]
  },
  {
   "cell_type": "markdown",
   "metadata": {},
   "source": [
    "#### End of Explanations"
   ]
  },
  {
   "cell_type": "code",
   "execution_count": 59,
   "metadata": {},
   "outputs": [],
   "source": [
    "def calculate_payoff_distribution(graph, as1, as2, V, adv_list, theta, random_steps_fn, \n",
    "                                  attack_rate, defense_rate, node_order):\n",
    "    \"\"\"\n",
    "    graph: The attack graph\n",
    "    as1: List of nodes where the defender checks\n",
    "    as2: List of attack paths\n",
    "    V: List of all nodes in the game (topological order, taken as unique nodes across all attack paths)\n",
    "    adv_list: List of potential attacker start locations (V - {entry, target} nodes)\n",
    "    theta: Defenders belief where the attacker might start via weights (if unknown then just uniform 1/|adv_list|)\n",
    "    random_steps_fn: Function that returns probability distribution for number of steps attacker can take\n",
    "    attack_rate: Lambda parameter controlling attacker's movement speed (e.g., 2 moves per time unit)\n",
    "    defense_rate: Lambda parameter controlling defender's check frequency (e.g., 1 check per time unit)\n",
    "    node_order: Topological sorting of nodes to ensure consistent ordering in probability distributions\n",
    "    \n",
    "    Returns:\n",
    "    List of payoff distributions, one for each combination of defender check location × attack path.\n",
    "    Each distribution shows likelihood of attacker being at different nodes, with final value being\n",
    "    probability of reaching target.\n",
    "    \"\"\"\n",
    "\n",
    "    \n",
    "    payoffs = []\n",
    "    for i in as1: # where defender checks \n",
    "        for path in as2: # attack path for attacker\n",
    "            U = np.zeros(len(V))\n",
    "            for avatar in adv_list:\n",
    "                L = np.zeros(len(V))\n",
    "                if avatar in path:\n",
    "                    start_idx = path.index(avatar)\n",
    "                    route = path[start_idx:]\n",
    "                    pdf_d = random_steps_fn(route, attack_rate, defense_rate)\n",
    "                    \n",
    "                    if i in route:\n",
    "                        cutPoint = route.index(i) + 1\n",
    "                    else:\n",
    "                        cutPoint = len(route)\n",
    "                    \n",
    "                    if np.sum(pdf_d[:cutPoint]) == 0:\n",
    "                        payoffDistr = np.zeros(cutPoint)\n",
    "                        payoffDistr[-1] = 1.0\n",
    "                    else:\n",
    "                        payoffDistr = pdf_d[:cutPoint] / np.sum(pdf_d[:cutPoint])\n",
    "                    \n",
    "                    for idx, node in enumerate(route[:cutPoint]):\n",
    "                        L[V.index(node)] = payoffDistr[idx]\n",
    "                else:\n",
    "                    L[V.index(avatar)] = 1.0\n",
    "                \n",
    "                U += theta[avatar] * L\n",
    "            \n",
    "            if np.sum(U) == 0:\n",
    "                U = np.full_like(U, 1e-7)\n",
    "            else:\n",
    "                U /= np.sum(U)\n",
    "            \n",
    "            node_positions = [V.index(n) for n in node_order]\n",
    "            U = U[node_positions]\n",
    "            U[U == 0] = 1e-7\n",
    "            ld = lossDistribution(U)\n",
    "            payoffs.append(ld)\n",
    "\n",
    "    return payoffs"
   ]
  },
  {
   "cell_type": "markdown",
   "metadata": {},
   "source": [
    "### Method for finding optimal solutions"
   ]
  },
  {
   "cell_type": "markdown",
   "metadata": {},
   "source": [
    "#### Some Explanations"
   ]
  },
  {
   "cell_type": "markdown",
   "metadata": {},
   "source": [
    "This method solves a zero-sum game using linear programming. It first creates a proper payoff matrix from the loss distributions, then solves two LPs: one for defender minimizing attacker success probability, and one for attacker maximizing it. Both optimizations should yield the same equilibrium value.\n",
    "\n",
    "Constructs payoff matrix\n",
    "Solves LP for defender FIRST (minimizing attacker success)\n",
    "Then solves LP for attacker (maximizing their success)\n",
    "Verifies both values match (equilibrium property)\n",
    "\n",
    "The method returns a dictionary: \n",
    "\n",
    "{\n",
    "\n",
    "    'optimal_defense': {3: 0.6, 4: 0.4},  # defend node 3 with 60% probability, node 4 with 40%                     \n",
    "    'attacker_strategy': [0.3, 0.5, 0.2], # use path 1 with 30% probability, path 2 with 50%, etc.\n",
    "    'defender_success': 0.128,           # defender can keep attacker success ≤ 0.128              \n",
    "    'attacker_success': 0.128            # attacker can achieve at least 0.128\n",
    "                                            \n",
    "}"
   ]
  },
  {
   "cell_type": "markdown",
   "metadata": {},
   "source": [
    "#### End of Explanations"
   ]
  },
  {
   "cell_type": "code",
   "execution_count": 48,
   "metadata": {},
   "outputs": [],
   "source": [
    "def solve_game(payoffs, as1, as2):\n",
    "    n = len(as1)\n",
    "    m = len(as2)\n",
    "    \n",
    "    # Create payoff matrix\n",
    "    payoff_matrix = np.zeros((n, m))\n",
    "    for i in range(n):\n",
    "        for j in range(m):\n",
    "            idx = i*m + j\n",
    "            ld = payoffs[idx]\n",
    "            payoff_matrix[i, j] = ld['dpdf'][-1]\n",
    "    \n",
    "    ### Start Defender's optimization ###\n",
    "    c = np.zeros(n+1)\n",
    "    c[0] = 1.0\n",
    "    \n",
    "    A_ub = np.zeros((m, n+1))\n",
    "    b_ub = np.zeros(m)\n",
    "    for j in range(m):\n",
    "        A_ub[j,0] = -1.0\n",
    "        for i in range(n):\n",
    "            A_ub[j,i+1] = payoff_matrix[i,j]\n",
    "            \n",
    "    A_eq = np.zeros((1, n+1))\n",
    "    A_eq[0,1:] = 1.0\n",
    "    b_eq = np.array([1.0])\n",
    "    \n",
    "    bounds = [(0,None)]*(n+1)\n",
    "    \n",
    "    v_defender = None\n",
    "    v_attacker = None\n",
    "    \n",
    "    # Solve the LP\n",
    "    res = linprog(c, A_ub=A_ub, b_ub=b_ub, A_eq=A_eq, b_eq=b_eq, bounds=bounds)\n",
    "    \n",
    "    ### End Defender's optimization ###\n",
    "    if res.success:\n",
    "        # Extract the results for later logging\n",
    "        v_defender = res.x[0]\n",
    "        x_def = res.x[1:]\n",
    "        \n",
    "        ### Start Attacker's optimization ###\n",
    "        c_att = np.zeros(m+1)\n",
    "        c_att[0] = -1.0\n",
    "        \n",
    "        A_ub_att = np.zeros((n, m+1))\n",
    "        b_ub_att = np.zeros(n)\n",
    "        for i in range(n):\n",
    "            A_ub_att[i,0] = 1.0\n",
    "            for j in range(m):\n",
    "                A_ub_att[i,j+1] = -payoff_matrix[i,j]\n",
    "                \n",
    "        A_eq_att = np.zeros((1, m+1))\n",
    "        A_eq_att[0,1:] = 1.0\n",
    "        b_eq_att = np.array([1.0])\n",
    "        \n",
    "        bounds_att = [(0,None)]*(m+1)\n",
    "        res_att = linprog(c_att, A_ub=A_ub_att, b_ub=b_ub_att, \n",
    "                         A_eq=A_eq_att, b_eq=b_eq_att, bounds=bounds_att)\n",
    "        \n",
    "        ### End Attacker's optimization ###\n",
    "        \n",
    "        if res_att.success:\n",
    "            # Extract attacker results for later logging\n",
    "            y_att = res_att.x[1:]\n",
    "            v_attacker = res_att.x[0]   # new - remove the negative sign because c_att[0] = -1.0\n",
    "            \n",
    "            # Now both values are defined, we can check\n",
    "            if abs(v_defender - v_attacker) > 1e-5:\n",
    "                logger.info(\"\\nWarning: Defender and attacker values don't match!\")\n",
    "                logger.info(f\"Defender value: {v_defender:.6f}\")\n",
    "                logger.info(f\"Attacker value: {v_attacker:.6f}\")\n",
    "            \n",
    "            return {\n",
    "                'optimal_defense': dict(zip(as1, x_def)),\n",
    "                'attacker_strategy': y_att,\n",
    "                'defender_success': v_defender,\n",
    "                'attacker_success': v_attacker\n",
    "            }\n",
    "    \n",
    "    logger.info(\"LP optimization failed\")\n",
    "    return None"
   ]
  },
  {
   "cell_type": "markdown",
   "metadata": {},
   "source": [
    "### Method to run the Actual Game"
   ]
  },
  {
   "cell_type": "markdown",
   "metadata": {},
   "source": [
    "#### Some Explanations"
   ]
  },
  {
   "cell_type": "markdown",
   "metadata": {},
   "source": [
    "Key Steps:\n",
    "\n",
    "1. Finds entry node in graph\n",
    "2. Generates game elements (routes, nodes, defense locations) using generate_game_elements()\n",
    "3. Sets up game parameters (adversary locations, probabilities) using setup_game_parameters()\n",
    "\n",
    "Then For each attack/defense rate combination:\n",
    "\n",
    "5. Calculates payoff distributions\n",
    "6. Solves game using solve_game()\n",
    "7. Logs results (optimal strategies, success probabilities)\n",
    "\n",
    "Returns:\n",
    "Nothing - this method only logs results to the logger\n",
    "All output goes to log file "
   ]
  },
  {
   "cell_type": "markdown",
   "metadata": {},
   "source": [
    "#### End of Explanations"
   ]
  },
  {
   "cell_type": "code",
   "execution_count": 49,
   "metadata": {},
   "outputs": [],
   "source": [
    "def run_game(graph, attack_rate_list, defense_rate_list, random_steps_fn):\n",
    "    entry_node_candidates = [n for n,deg in graph.in_degree() if deg==0]\n",
    "    if len(entry_node_candidates) != 1:\n",
    "        print(\"WARNING: Not a single entry node found.\")\n",
    "    entry_node = entry_node_candidates[0]\n",
    "\n",
    "    routes, V, as1, as2, target_list, node_order = generate_game_elements(graph, entry_node)\n",
    "    adv_list, theta, m = setup_game_parameters(V, routes, entry_node, target_list)\n",
    "    \n",
    "    if not defense_rate_list:\n",
    "        defense_rate_list = [0]\n",
    "    if not attack_rate_list:\n",
    "        attack_rate_list = [0]\n",
    "    \n",
    "    for defenseRate in defense_rate_list:\n",
    "        for attackRate in attack_rate_list:\n",
    "            logger.info(\"\\n++++++++++++++++++++++++++++++++\")\n",
    "            logger.info(f\"attack rate =  {attackRate} , defense rate =  {defenseRate} \\n\")\n",
    "            logger.info(\"\\tequilibrium for multiobjective security game (MOSG)\\n\")\n",
    "            \n",
    "            payoffs = calculate_payoff_distribution(\n",
    "                graph, as1, as2, V, adv_list, theta, random_steps_fn, attackRate, defenseRate, node_order\n",
    "            )\n",
    "            \n",
    "            eq = solve_game(payoffs, as1, as2)\n",
    "            if eq is not None:\n",
    "                logger.info(\"optimal defense strategy:\")\n",
    "                logger.info(\"         prob.\")\n",
    "                for node, prob in sorted(eq['optimal_defense'].items(), key=lambda x: str(x[0])):\n",
    "                    logger.info(f\"{node} {prob:.6e}\")\n",
    "                \n",
    "                logger.info(\"\\nworst case attack strategies per goal:\")\n",
    "                logger.info(\"          1\")\n",
    "                if 'attacker_strategy' in eq:\n",
    "                    for idx, prob in enumerate(eq['attacker_strategy'], 1):\n",
    "                        logger.info(f\"{idx} {prob:.7f}\")\n",
    "                logger.info(f\"[1] {eq['attacker_success']:.3f}\")\n",
    "                \n",
    "                # Add these two lines for the values\n",
    "                logger.info(f\"\\nDefender can keep attacker success below: {eq['defender_success']:.3f}\")\n",
    "                logger.info(f\"Attacker can guarantee success probability of: {eq['attacker_success']:.3f}\")"
   ]
  },
  {
   "cell_type": "markdown",
   "metadata": {},
   "source": [
    "### Method to be called in different Notebook"
   ]
  },
  {
   "cell_type": "code",
   "execution_count": 38,
   "metadata": {},
   "outputs": [],
   "source": [
    "# This method is supposed to be run in experiment_X.ipynb files. It is not a standalone script.\n",
    "def main():\n",
    "    run_game(work_graph, attack_rate_list=attack_rate_list, defense_rate_list=defense_rate_list, random_steps_fn=random_steps)"
   ]
  }
 ],
 "metadata": {
  "kernelspec": {
   "display_name": "master",
   "language": "python",
   "name": "python3"
  },
  "language_info": {
   "codemirror_mode": {
    "name": "ipython",
    "version": 3
   },
   "file_extension": ".py",
   "mimetype": "text/x-python",
   "name": "python",
   "nbconvert_exporter": "python",
   "pygments_lexer": "ipython3",
   "version": "3.10.15"
  }
 },
 "nbformat": 4,
 "nbformat_minor": 2
}

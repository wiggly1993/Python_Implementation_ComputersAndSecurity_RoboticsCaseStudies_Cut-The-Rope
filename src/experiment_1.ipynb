{
 "cells": [
  {
   "cell_type": "markdown",
   "metadata": {},
   "source": [
    "## First Movement: Periodic Defense with Poisson Attack Pattern"
   ]
  },
  {
   "cell_type": "code",
   "execution_count": 7,
   "metadata": {},
   "outputs": [],
   "source": [
    "# Import required libraries\n",
    "import networkx as nx \n",
    "import numpy as np\n",
    "from scipy.special import factorial\n",
    "from datetime import datetime\n",
    "import logging\n",
    "from scipy.stats import poisson\n",
    "import sys\n",
    "import os"
   ]
  },
  {
   "cell_type": "code",
   "execution_count": 8,
   "metadata": {},
   "outputs": [],
   "source": [
    "import os\n",
    "\n",
    "log_path = os.path.join(os.getcwd(), 'experiment_1.log')\n",
    "\n",
    "if os.path.exists(log_path):\n",
    "    os.remove(log_path)\n",
    "\n",
    "logger = logging.getLogger()\n",
    "handler = logging.FileHandler(log_path, mode='w')\n",
    "handler.setFormatter(logging.Formatter('%(message)s'))\n",
    "logger.addHandler(handler)\n",
    "logger.setLevel(logging.INFO)\n",
    "\n",
    "logger.info(f'[1] \"experiment_1.log\"')\n",
    "logger.info(f'[1] \"{datetime.now().strftime(\"%a %b %d %H:%M:%S %Y\")}\"')"
   ]
  },
  {
   "cell_type": "code",
   "execution_count": 9,
   "metadata": {},
   "outputs": [],
   "source": [
    "%run attack_graph_MARA.ipynb"
   ]
  },
  {
   "cell_type": "markdown",
   "metadata": {},
   "source": [
    "### Use Poisson Distribution\n",
    "\n",
    "Poisson distribution models attacker behavior with fixed defender checks:\n",
    "- attack_rate (λ=2) represents average steps attacker takes between checks\n",
    "- Higher λ shifts probability mass towards more steps\n",
    "- Lower λ means attacker tends to take fewer steps\n",
    "- Most likely: taking λ (or λ-1) steps\n",
    "- defense_rate not needed since checks happen at known times\n",
    "\n",
    "This fits our intuition: if attacker knows WHEN checks happen, they can plan \n",
    "their moves around these fixed times, caring only about their own speed (λ)"
   ]
  },
  {
   "cell_type": "code",
   "execution_count": 10,
   "metadata": {},
   "outputs": [],
   "source": [
    "attack_rate_list = [2]  \n",
    "defense_rate_list = [0]\n",
    "\n",
    "def random_steps(route, attack_rate=None, defense_rate=None, graph=None):\n",
    "    length = len(route)\n",
    "    if attack_rate is None:\n",
    "        attack_rate = 2\n",
    "    # Get PMF for values 0 to length-1\n",
    "    pmf = poisson.pmf(np.arange(length), attack_rate)\n",
    "    # Normalize (though poisson.pmf should already sum to ~1)\n",
    "    pmf = pmf / pmf.sum()\n",
    "    return pmf"
   ]
  },
  {
   "cell_type": "code",
   "execution_count": 11,
   "metadata": {},
   "outputs": [],
   "source": [
    "%run ctr-core_simple.ipynb\n",
    "# %run ctr-core_tests.ipynb\n",
    "main()"
   ]
  },
  {
   "cell_type": "code",
   "execution_count": 12,
   "metadata": {},
   "outputs": [
    {
     "name": "stdout",
     "output_type": "stream",
     "text": [
      "[1] \"experiment_1.log\"\n",
      "[1] \"Fri Dec 20 15:55:44 2024\"\n",
      "\n",
      "++++++++++++++++++++++++++++++++\n",
      "attack rate =  2 , defense rate =  0 \n",
      "\n",
      "\tequilibrium for multiobjective security game (MOSG)\n",
      "\n",
      "optimal defense strategy:\n",
      "         prob.\n",
      "2 0.000000e+00\n",
      "3 2.798527e-01\n",
      "4 2.798527e-01\n",
      "5 0.000000e+00\n",
      "6 0.000000e+00\n",
      "7 4.402946e-01\n",
      "\n",
      "worst case attack strategies per goal:\n",
      "          1\n",
      "1 0.3600737\n",
      "2 0.3600737\n",
      "3 0.2798527\n",
      "[1] 0.128\n",
      "\n",
      "Defender can keep attacker success below: 0.128\n",
      "Attacker can guarantee success probability of: 0.128\n",
      "\n"
     ]
    }
   ],
   "source": [
    "with open('experiment_1.log', 'r') as f:\n",
    "    print(f.read())"
   ]
  }
 ],
 "metadata": {
  "kernelspec": {
   "display_name": "master",
   "language": "python",
   "name": "python3"
  },
  "language_info": {
   "codemirror_mode": {
    "name": "ipython",
    "version": 3
   },
   "file_extension": ".py",
   "mimetype": "text/x-python",
   "name": "python",
   "nbconvert_exporter": "python",
   "pygments_lexer": "ipython3",
   "version": "3.10.15"
  }
 },
 "nbformat": 4,
 "nbformat_minor": 2
}

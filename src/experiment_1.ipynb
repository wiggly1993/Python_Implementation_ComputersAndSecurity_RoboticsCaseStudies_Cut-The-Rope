{
 "cells": [
  {
   "cell_type": "markdown",
   "metadata": {},
   "source": [
    "## First Movement: Periodic Defense with Poisson Attack Pattern"
   ]
  },
  {
   "cell_type": "code",
   "execution_count": 1,
   "metadata": {},
   "outputs": [
    {
     "name": "stdout",
     "output_type": "stream",
     "text": [
      "This Cell is necessary or else my IDE will start running cells simultaneously which\n",
      "      then leads to issues with unfinished imports\n"
     ]
    }
   ],
   "source": [
    "print(\"\"\"This Cell is necessary or else my IDE will start running cells simultaneously which\n",
    "      then leads to issues with unfinished imports\"\"\")"
   ]
  },
  {
   "cell_type": "code",
   "execution_count": 2,
   "metadata": {},
   "outputs": [],
   "source": [
    "import os\n",
    "import logging\n",
    "import numpy as np\n",
    "from datetime import datetime\n",
    "from scipy.stats import poisson"
   ]
  },
  {
   "cell_type": "code",
   "execution_count": 3,
   "metadata": {},
   "outputs": [],
   "source": [
    "log_path = os.path.join(os.getcwd(), 'experiment_1.log')\n",
    "\n",
    "if os.path.exists(log_path):\n",
    "    os.remove(log_path)\n",
    "\n",
    "logger = logging.getLogger()\n",
    "handler = logging.FileHandler(log_path, mode='w')\n",
    "handler.setFormatter(logging.Formatter('%(message)s'))\n",
    "logger.addHandler(handler)\n",
    "logger.setLevel(logging.INFO)\n",
    "\n",
    "logger.info(f'[1] \"experiment_1.log\"')\n",
    "logger.info(f'[1] \"{datetime.now().strftime(\"%a %b %d %H:%M:%S %Y\")}\"')"
   ]
  },
  {
   "cell_type": "code",
   "execution_count": 4,
   "metadata": {},
   "outputs": [],
   "source": [
    "# Global configuration\n",
    "# This is the default weight value we will insert any time we we \n",
    "# need to insert a weight value for a trivial edge in the graph\n",
    "DEFAULT_WEIGHT_VALUE = 0  "
   ]
  },
  {
   "cell_type": "code",
   "execution_count": 5,
   "metadata": {},
   "outputs": [],
   "source": [
    "%run attack_graph_MARA.ipynb"
   ]
  },
  {
   "cell_type": "markdown",
   "metadata": {},
   "source": [
    "### Poisson Distribution Explanations\n",
    "\n",
    "#### Base Formula\n",
    "\n",
    "The Poisson distribution models the number of events occurring in a fixed interval. Its probability mass function is:\n",
    "\n",
    "\\begin{equation}\n",
    "P(X=x) = \\frac{\\lambda^k}{k!} \\cdot e^{-k}\n",
    "\\end{equation}\n",
    "\n",
    "Where $\\lambda$ is the average number of events per interval and $k$ is the count of events.\n",
    "\n",
    "#### Basic Explanation\n",
    "\n",
    "\n",
    "Definition of \"λ\" in our Specific Case\n",
    "In this security model, $\\lambda$ represents:\n",
    "\n",
    "$\\lambda = \\text{expected number of exploits per time unit}$.\n",
    "\n",
    "This corresponds to formula (10) in the paper.\n",
    "\n",
    "Basic Explanation\n",
    "Poisson distribution models attacker behavior with fixed defender checks:\n",
    "\n",
    "$\\lambda$ directly controls attacker's \"aggressiveness\" between defender checks.\n",
    "- Higher $\\lambda$ means attacker attempts more exploits (example: λ=2) in a given time period\n",
    "- Lower $\\lambda$ means fewer expected attack steps\n",
    "- Most likely: taking λ (or λ-1) steps\n",
    "- defense_rate not needed since checks happen at known times\n",
    "- Key insight: periodic defender pattern means attacker only needs to worry about own speed\n",
    "- This fits our intuition: when defender checks at predictable times, attacker can optimize their moves accordingly, focusing on maximizing progress during known safe periods."
   ]
  },
  {
   "cell_type": "code",
   "execution_count": 6,
   "metadata": {},
   "outputs": [],
   "source": [
    "attack_rate_list = [2]  \n",
    "defense_rate_list = [0]\n",
    "\n",
    "def random_steps(route, attack_rate=None, defense_rate=None, graph=None):\n",
    "    length = len(route)\n",
    "    if attack_rate is None:\n",
    "        attack_rate = 2\n",
    "    # Get PMF for values 0 to length-1\n",
    "    pmf = poisson.pmf(np.arange(length), attack_rate)\n",
    "    # Normalize (though poisson.pmf should already sum to ~1)\n",
    "    pmf = pmf / pmf.sum()\n",
    "    return pmf"
   ]
  },
  {
   "cell_type": "code",
   "execution_count": 7,
   "metadata": {},
   "outputs": [
    {
     "name": "stdout",
     "output_type": "stream",
     "text": [
      "\n",
      "After merging targets:\n",
      "Nodes: [1, 2, 3, 4, 5, 7, 8, 'c(6,9)']\n",
      "Total list of Edges with their weights:\n",
      "1 -> 2 (key=0) : 0\n",
      "2 -> 3 (key=0) : 0\n",
      "2 -> 4 (key=0) : 0\n",
      "2 -> 5 (key=0) : 0\n",
      "3 -> c(6,9) (key=0) : 0\n",
      "4 -> c(6,9) (key=0) : 0\n",
      "5 -> 7 (key=0) : 0\n",
      "7 -> 8 (key=0) : 0\n",
      "8 -> c(6,9) (key=0) : 0\n",
      "\n",
      "=== Debug: Attack Paths ===\n",
      "Total number of attack paths: 3\n",
      "\n",
      "Path 1: [1, 2, 3, 'c(6,9)']\n",
      "  No parallel edges in this path\n",
      "\n",
      "Path 2: [1, 2, 4, 'c(6,9)']\n",
      "  No parallel edges in this path\n",
      "\n",
      "Path 3: [1, 2, 5, 7, 8, 'c(6,9)']\n",
      "  No parallel edges in this path\n",
      "\n",
      "=== End Debug: Attack Paths ===\n",
      "\n",
      "=== Debug: Final Payoff Matrix ===\n",
      "Matrix dimensions: 6 x 3\n",
      "\n",
      "Payoff Matrix (probability of reaching target):\n",
      "Row  1: 0.111111 0.111111 0.212865\n",
      "Row  2: 0.000000 0.177778 0.228739\n",
      "Row  3: 0.177778 0.000000 0.228739\n",
      "Row  4: 0.177778 0.177778 0.177778\n",
      "Row  5: 0.177778 0.177778 0.111111\n",
      "Row  6: 0.177778 0.177778 0.000000\n",
      "\n",
      "=== End Debug: Final Payoff Matrix ===\n",
      "\n"
     ]
    }
   ],
   "source": [
    "# %run ctr-core_simple.ipynb\n",
    "%run ctr-core_tests.ipynb\n",
    "main()"
   ]
  },
  {
   "cell_type": "code",
   "execution_count": 8,
   "metadata": {},
   "outputs": [
    {
     "name": "stdout",
     "output_type": "stream",
     "text": [
      "[1] \"experiment_1.log\"\n",
      "[1] \"Fri Feb 28 18:56:58 2025\"\n",
      "\n",
      "++++++++++++++++++++++++++++++++\n",
      "\n",
      "The virtual target nodeID is c(6,9)\n",
      "\n",
      "attack rate =  2 , defense rate =  0 \n",
      "\n",
      "\tequilibrium for multiobjective security game (MOSG)\n",
      "\n",
      "optimal defense strategy:\n",
      "         prob.\n",
      "2 0.000000e+00\n",
      "3 2.798527e-01\n",
      "4 2.798527e-01\n",
      "5 0.000000e+00\n",
      "7 0.000000e+00\n",
      "8 4.402946e-01\n",
      "\n",
      "worst case attack strategies per goal:\n",
      "          1\n",
      "1 0.3600737\n",
      "2 0.3600737\n",
      "3 0.2798527\n",
      "[1] 0.128\n",
      "\n",
      "Defender can keep attacker success below: 0.128\n",
      "Attacker can guarantee success probability of: 0.128\n",
      "\n"
     ]
    }
   ],
   "source": [
    "with open('experiment_1.log', 'r') as f:\n",
    "    print(f.read())"
   ]
  }
 ],
 "metadata": {
  "kernelspec": {
   "display_name": "master",
   "language": "python",
   "name": "python3"
  },
  "language_info": {
   "codemirror_mode": {
    "name": "ipython",
    "version": 3
   },
   "file_extension": ".py",
   "mimetype": "text/x-python",
   "name": "python",
   "nbconvert_exporter": "python",
   "pygments_lexer": "ipython3",
   "version": "3.10.15"
  }
 },
 "nbformat": 4,
 "nbformat_minor": 2
}

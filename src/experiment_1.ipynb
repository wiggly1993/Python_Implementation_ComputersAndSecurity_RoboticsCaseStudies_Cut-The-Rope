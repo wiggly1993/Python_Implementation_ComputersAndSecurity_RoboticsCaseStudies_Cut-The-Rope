{
 "cells": [
  {
   "cell_type": "code",
   "execution_count": 44,
   "metadata": {},
   "outputs": [],
   "source": [
    "# Import required libraries\n",
    "import networkx as nx\n",
    "import numpy as np\n",
    "from scipy.special import factorial\n",
    "from datetime import datetime\n",
    "import logging\n",
    "import sys"
   ]
  },
  {
   "cell_type": "code",
   "execution_count": 45,
   "metadata": {},
   "outputs": [],
   "source": [
    "import logging\n",
    "\n",
    "# Define the output log file\n",
    "outputLogFile = \"experiment_1.log\"\n",
    "\n",
    "# Configure the logger\n",
    "logger = logging.getLogger()\n",
    "logger.setLevel(logging.INFO)\n",
    "logger.handlers = []  # Clear any existing handlers\n",
    "\n",
    "# Create a file handler that appends to the log file\n",
    "file_handler = logging.FileHandler(outputLogFile, mode='a')\n",
    "file_handler.setLevel(logging.INFO)\n",
    "\n",
    "# Set a simple log format that just prints the message\n",
    "formatter = logging.Formatter('%(message)s')\n",
    "file_handler.setFormatter(formatter)\n",
    "logger.addHandler(file_handler)\n",
    "\n",
    "# Ensure logs are flushed to file after each write\n",
    "for handler in logger.handlers:\n",
    "    handler.flush()\n",
    "\n",
    "logger.propagate = False\n",
    "\n",
    "logger.info(\"Logging initialized. Will append to the existing experiment_1.log file.\")"
   ]
  },
  {
   "cell_type": "code",
   "execution_count": 46,
   "metadata": {},
   "outputs": [],
   "source": [
    "# Log start of experiment\n",
    "logger.info(f'[1] \"experiment_1.log\"')\n",
    "logger.info(f'[1] \"{datetime.now().strftime(\"%a %b %d %H:%M:%S %Y\")}\"')"
   ]
  },
  {
   "cell_type": "code",
   "execution_count": 47,
   "metadata": {},
   "outputs": [],
   "source": [
    "%run attack_graph_MARA.ipynb"
   ]
  },
  {
   "cell_type": "code",
   "execution_count": 51,
   "metadata": {},
   "outputs": [],
   "source": [
    "# Define parameters (like attackRateList in R)\n",
    "attack_rate_list = [2]  \n",
    "defense_rate_list = [0]\n",
    "\n",
    "# Define random_steps function (like in R)\n",
    "def random_steps(route, attack_rate=None, defense_rate=None):\n",
    "    length = len(route)\n",
    "    if attack_rate is None:\n",
    "        attack_rate = 2\n",
    "    x = np.arange(length)\n",
    "    pmf = (np.power(attack_rate, x) * np.exp(-attack_rate)) / np.vectorize(factorial)(x)\n",
    "    pmf = pmf / pmf.sum()\n",
    "    return pmf"
   ]
  },
  {
   "cell_type": "code",
   "execution_count": 49,
   "metadata": {},
   "outputs": [
    {
     "name": "stdout",
     "output_type": "stream",
     "text": [
      "DEBUG: Roots before adding entry node: [1]\n",
      "DEBUG: Only one root found. Entry node is: 1\n",
      "DEBUG: Current graph nodes after handling entry node: [1, 2, 3, 4, 5, 6, 7, 8, 9]\n",
      "DEBUG: Current graph edges after handling entry node:\n",
      "  1 -> 2\n",
      "  2 -> 3\n",
      "  2 -> 4\n",
      "  2 -> 5\n",
      "  3 -> 6\n",
      "  4 -> 6\n",
      "  5 -> 7\n",
      "  7 -> 8\n",
      "  8 -> 9\n",
      "DEBUG: Final graph after processing targets:\n",
      "Nodes: [1, 2, 3, 4, 5, 8, 6, 7]\n",
      "Edges:\n",
      "  1 -> 2\n",
      "  2 -> 3\n",
      "  2 -> 4\n",
      "  2 -> 5\n",
      "  3 -> 8\n",
      "  4 -> 8\n",
      "  5 -> 6\n",
      "  6 -> 7\n",
      "  7 -> 8\n",
      "DEBUG: New targets after merging: [8]\n"
     ]
    }
   ],
   "source": [
    "# Import and run the main Cut-The-Rope implementation\n",
    "%run ctr-core_1.ipynb"
   ]
  },
  {
   "cell_type": "code",
   "execution_count": 50,
   "metadata": {},
   "outputs": [
    {
     "name": "stdout",
     "output_type": "stream",
     "text": [
      "Logging initialized. Will append to the existing experiment_1.log file.\n",
      "[1] \"experiment_1.log\"\n",
      "[1] \"Sun Dec 08 18:18:14 2024\"\n",
      "\n",
      "++++++++++++++++++++++++++++++++\n",
      "attack rate =  2 , defense rate =  0 \n",
      "\n",
      "\tequilibrium for multiobjective security game (MOSG)\n",
      "\n",
      "optimal defense strategy:\n",
      "         prob.\n",
      "2 0.000000e+00\n",
      "3 2.798527e-01\n",
      "4 2.798527e-01\n",
      "5 0.000000e+00\n",
      "6 0.000000e+00\n",
      "7 4.402946e-01\n",
      "\n",
      "worst case attack strategies per goal:\n",
      "          1\n",
      "1 0.1280262\n",
      "[1] 0.128\n",
      "\n",
      "++++++++++++++++++++++++++++++++\n",
      "attack rate =  3 , defense rate =  0 \n",
      "\n",
      "\tequilibrium for multiobjective security game (MOSG)\n",
      "\n",
      "optimal defense strategy:\n",
      "         prob.\n",
      "2 0.000000e+00\n",
      "3 2.588458e-01\n",
      "4 2.588458e-01\n",
      "5 0.000000e+00\n",
      "6 0.000000e+00\n",
      "7 4.823085e-01\n",
      "\n",
      "worst case attack strategies per goal:\n",
      "          1\n",
      "1 0.1580403\n",
      "[1] 0.158\n",
      "\n",
      "++++++++++++++++++++++++++++++++\n",
      "attack rate =  2 , defense rate =  1 \n",
      "\n",
      "\tequilibrium for multiobjective security game (MOSG)\n",
      "\n",
      "optimal defense strategy:\n",
      "         prob.\n",
      "2 0.000000e+00\n",
      "3 2.798527e-01\n",
      "4 2.798527e-01\n",
      "5 0.000000e+00\n",
      "6 0.000000e+00\n",
      "7 4.402946e-01\n",
      "\n",
      "worst case attack strategies per goal:\n",
      "          1\n",
      "1 0.1280262\n",
      "[1] 0.128\n",
      "\n",
      "++++++++++++++++++++++++++++++++\n",
      "attack rate =  3 , defense rate =  1 \n",
      "\n",
      "\tequilibrium for multiobjective security game (MOSG)\n",
      "\n",
      "optimal defense strategy:\n",
      "         prob.\n",
      "2 0.000000e+00\n",
      "3 2.588458e-01\n",
      "4 2.588458e-01\n",
      "5 0.000000e+00\n",
      "6 0.000000e+00\n",
      "7 4.823085e-01\n",
      "\n",
      "worst case attack strategies per goal:\n",
      "          1\n",
      "1 0.1580403\n",
      "[1] 0.158\n",
      "\n"
     ]
    }
   ],
   "source": [
    "# Read and display log file contents\n",
    "with open('experiment_1.log', 'r') as f:\n",
    "    print(f.read())"
   ]
  }
 ],
 "metadata": {
  "kernelspec": {
   "display_name": "master",
   "language": "python",
   "name": "python3"
  },
  "language_info": {
   "codemirror_mode": {
    "name": "ipython",
    "version": 3
   },
   "file_extension": ".py",
   "mimetype": "text/x-python",
   "name": "python",
   "nbconvert_exporter": "python",
   "pygments_lexer": "ipython3",
   "version": "3.10.15"
  }
 },
 "nbformat": 4,
 "nbformat_minor": 2
}

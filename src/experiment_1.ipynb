{
 "cells": [
  {
   "cell_type": "code",
   "execution_count": 44,
   "metadata": {},
   "outputs": [],
   "source": [
    "# Import required libraries\n",
    "import networkx as nx\n",
    "import numpy as np\n",
    "from scipy.special import factorial\n",
    "from datetime import datetime\n",
    "import logging"
   ]
  },
  {
   "cell_type": "code",
   "execution_count": 45,
   "metadata": {},
   "outputs": [],
   "source": [
    "# Setup logging (analogous to R's sink to file)\n",
    "logging.basicConfig(filename='experiment_1.log', \n",
    "                   level=logging.INFO,\n",
    "                   format='%(message)s',\n",
    "                   filemode='w')\n",
    "\n",
    "# Log start of experiment \n",
    "logging.info(f\"Output Log File: experiment_1.log\")\n",
    "logging.info(f\"Date: {datetime.now()}\")"
   ]
  },
  {
   "cell_type": "code",
   "execution_count": 46,
   "metadata": {},
   "outputs": [],
   "source": [
    "%run attack_graph_MARA.ipynb\n",
    "#%run ctr-core_1.ipynb"
   ]
  },
  {
   "cell_type": "code",
   "execution_count": 47,
   "metadata": {},
   "outputs": [],
   "source": [
    "# Cell 4 - Define parameters and random_steps function\n",
    "# Define lambda parameter for Poisson distribution\n",
    "attack_rate_list = [2]  \n",
    "defense_rate_list = [0]\n",
    "\n",
    "def random_steps(route, attack_rate=None, defense_rate=None):\n",
    "    \"\"\"Generate probability distribution for number of steps attacker can take\"\"\"\n",
    "    x = np.arange(len(route))\n",
    "    pdf_d = np.power(attack_rate, x) * np.exp(-attack_rate) / factorial(x)\n",
    "    pdf_d = pdf_d / np.sum(pdf_d)\n",
    "    return pdf_d"
   ]
  },
  {
   "cell_type": "code",
   "execution_count": 48,
   "metadata": {},
   "outputs": [
    {
     "name": "stdout",
     "output_type": "stream",
     "text": [
      "Entry node: 1\n",
      "Routes: [[1, 5]]\n",
      "V: [1, 5]\n",
      "as1 (defender actions): []\n",
      "as2 (attacker paths): [[1, 5]]\n",
      "target_list: [5]\n",
      "adv_list: []\n",
      "m: 1, n: 0\n",
      "Output Log File: experiment_1.log\n",
      "Date: 2024-12-05 17:16:27.543341\n",
      "Output Log File: experiment_1.log\n",
      "Date: 2024-12-05 17:17:10.904357\n",
      "Output Log File: experiment_1.log\n",
      "Date: 2024-12-05 17:27:10.603523\n",
      "Output Log File: experiment_1.log\n",
      "Date: 2024-12-05 17:35:03.269123\n",
      "\n",
      "++++++++++++++++++++++++++++++++\n",
      "attack rate = 2, defense rate = 0\n",
      "\n",
      "++++++++++++++++++++++++++++++++\n",
      "attack rate = 2, defense rate = 0\n",
      "Output Log File: experiment_1.log\n",
      "Date: 2024-12-05 18:24:28.361668\n",
      "\n",
      "++++++++++++++++++++++++++++++++\n",
      "attack rate = 2, defense rate = 0\n",
      "Output Log File: experiment_1.log\n",
      "Date: 2024-12-05 18:25:37.841348\n",
      "\n",
      "++++++++++++++++++++++++++++++++\n",
      "attack rate = 2, defense rate = 0\n",
      "Output Log File: experiment_1.log\n",
      "Date: 2024-12-05 18:32:42.610659\n",
      "\n"
     ]
    }
   ],
   "source": [
    "# Import and run the main Cut-The-Rope implementation\n",
    "%run ctr-core_1.ipynb"
   ]
  },
  {
   "cell_type": "code",
   "execution_count": 24,
   "metadata": {},
   "outputs": [
    {
     "name": "stdout",
     "output_type": "stream",
     "text": [
      "Output Log File: experiment_1.log\n",
      "Date: 2024-12-05 17:16:27.543341\n",
      "Output Log File: experiment_1.log\n",
      "Date: 2024-12-05 17:17:10.904357\n",
      "Output Log File: experiment_1.log\n",
      "Date: 2024-12-05 17:27:10.603523\n",
      "\n"
     ]
    }
   ],
   "source": [
    "# Read and display contents of log file\n",
    "with open('experiment_1.log', 'r') as f:\n",
    "    print(f.read())"
   ]
  }
 ],
 "metadata": {
  "kernelspec": {
   "display_name": "master",
   "language": "python",
   "name": "python3"
  },
  "language_info": {
   "codemirror_mode": {
    "name": "ipython",
    "version": 3
   },
   "file_extension": ".py",
   "mimetype": "text/x-python",
   "name": "python",
   "nbconvert_exporter": "python",
   "pygments_lexer": "ipython3",
   "version": "3.10.15"
  }
 },
 "nbformat": 4,
 "nbformat_minor": 2
}

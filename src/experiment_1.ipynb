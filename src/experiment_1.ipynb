{
 "cells": [
  {
   "cell_type": "code",
   "execution_count": 84,
   "metadata": {},
   "outputs": [],
   "source": [
    "# Import required libraries\n",
    "import networkx as nx\n",
    "import numpy as np\n",
    "from scipy.special import factorial\n",
    "from datetime import datetime\n",
    "import logging\n",
    "import sys\n",
    "import os"
   ]
  },
  {
   "cell_type": "code",
   "execution_count": 85,
   "metadata": {},
   "outputs": [],
   "source": [
    "# Remove old file and set up logging to new file\n",
    "if os.path.exists('experiment_1.log'):\n",
    "    os.remove('experiment_1.log')\n",
    "\n",
    "logging.basicConfig(\n",
    "    filename='experiment_1.log',\n",
    "    level=logging.INFO,\n",
    "    format='%(message)s',\n",
    "    filemode='w'\n",
    ")"
   ]
  },
  {
   "cell_type": "code",
   "execution_count": 86,
   "metadata": {},
   "outputs": [],
   "source": [
    "# Log start of experiment\n",
    "logging.info(f'[1] \"experiment_1.log\"')\n",
    "logging.info(f'[1] \"{datetime.now().strftime(\"%a %b %d %H:%M:%S %Y\")}\"')\n",
    "\n",
    "# Make sure logging is flushed before reading\n",
    "logging.shutdown()"
   ]
  },
  {
   "cell_type": "code",
   "execution_count": 87,
   "metadata": {},
   "outputs": [],
   "source": [
    "%run attack_graph_MARA.ipynb"
   ]
  },
  {
   "cell_type": "code",
   "execution_count": 88,
   "metadata": {},
   "outputs": [],
   "source": [
    "# Define parameters (like attackRateList in R)\n",
    "attack_rate_list = [2]  \n",
    "defense_rate_list = [0]\n",
    "\n",
    "# Define random_steps function (like in R)\n",
    "def random_steps(route, attack_rate=None, defense_rate=None):\n",
    "    length = len(route)\n",
    "    if attack_rate is None:\n",
    "        attack_rate = 2\n",
    "    x = np.arange(length)\n",
    "    pmf = (np.power(attack_rate, x) * np.exp(-attack_rate)) / np.vectorize(factorial)(x)\n",
    "    pmf = pmf / pmf.sum()\n",
    "    return pmf"
   ]
  },
  {
   "cell_type": "code",
   "execution_count": 89,
   "metadata": {},
   "outputs": [
    {
     "name": "stdout",
     "output_type": "stream",
     "text": [
      "DEBUG: Current graph nodes after handling entry node: [1, 2, 3, 4, 5, 6, 7, 8, 9]\n",
      "DEBUG: Current graph edges after handling entry node:\n",
      "  1 -> 2\n",
      "  2 -> 3\n",
      "  2 -> 4\n",
      "  2 -> 5\n",
      "  3 -> 6\n",
      "  4 -> 6\n",
      "  5 -> 7\n",
      "  7 -> 8\n",
      "  8 -> 9\n",
      "DEBUG: Final graph after processing targets:\n",
      "Nodes: [1, 2, 3, 4, 5, 8, 6, 7]\n",
      "Edges:\n",
      "  1 -> 2\n",
      "  2 -> 3\n",
      "  2 -> 4\n",
      "  2 -> 5\n",
      "  3 -> 8\n",
      "  4 -> 8\n",
      "  5 -> 6\n",
      "  6 -> 7\n",
      "  7 -> 8\n",
      "DEBUG: New targets after merging: [8]\n"
     ]
    }
   ],
   "source": [
    "# Import and run the main Cut-The-Rope implementation\n",
    "%run ctr-core_1.ipynb"
   ]
  },
  {
   "cell_type": "code",
   "execution_count": 90,
   "metadata": {},
   "outputs": [
    {
     "name": "stdout",
     "output_type": "stream",
     "text": [
      "\n",
      "++++++++++++++++++++++++++++++++\n",
      "attack rate =  2 , defense rate =  0 \n",
      "\n",
      "\tequilibrium for multiobjective security game (MOSG)\n",
      "\n",
      "optimal defense strategy:\n",
      "         prob.\n",
      "2 0.000000e+00\n",
      "3 2.798527e-01\n",
      "4 2.798527e-01\n",
      "5 0.000000e+00\n",
      "6 0.000000e+00\n",
      "7 4.402946e-01\n",
      "\n",
      "worst case attack strategies per goal:\n",
      "          1\n",
      "1 0.1280262\n",
      "[1] 0.128\n",
      "\n"
     ]
    }
   ],
   "source": [
    "# Read and display log file contents\n",
    "with open('experiment_1.log', 'r') as f:\n",
    "    print(f.read())"
   ]
  }
 ],
 "metadata": {
  "kernelspec": {
   "display_name": "master",
   "language": "python",
   "name": "python3"
  },
  "language_info": {
   "codemirror_mode": {
    "name": "ipython",
    "version": 3
   },
   "file_extension": ".py",
   "mimetype": "text/x-python",
   "name": "python",
   "nbconvert_exporter": "python",
   "pygments_lexer": "ipython3",
   "version": "3.10.15"
  }
 },
 "nbformat": 4,
 "nbformat_minor": 2
}

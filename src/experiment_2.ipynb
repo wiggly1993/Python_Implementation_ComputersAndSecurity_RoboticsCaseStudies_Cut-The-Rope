{
 "cells": [
  {
   "cell_type": "markdown",
   "metadata": {},
   "source": [
    "## Second Movement: Exponential Defense with Geometric Attack Pattern"
   ]
  },
  {
   "cell_type": "code",
   "execution_count": 13,
   "metadata": {},
   "outputs": [],
   "source": [
    "# Import required libraries\n",
    "import networkx as nx\n",
    "import numpy as np\n",
    "from scipy.special import factorial\n",
    "from datetime import datetime\n",
    "import logging\n",
    "from scipy.stats import geom\n",
    "import sys\n",
    "import os"
   ]
  },
  {
   "cell_type": "code",
   "execution_count": 14,
   "metadata": {},
   "outputs": [],
   "source": [
    "import os\n",
    "\n",
    "log_path = os.path.join(os.getcwd(), 'experiment_2.log')\n",
    "\n",
    "if os.path.exists(log_path):\n",
    "    os.remove(log_path)\n",
    "\n",
    "logger = logging.getLogger()\n",
    "handler = logging.FileHandler(log_path, mode='w')\n",
    "handler.setFormatter(logging.Formatter('%(message)s'))\n",
    "logger.addHandler(handler)\n",
    "logger.setLevel(logging.INFO)\n",
    "\n",
    "logger.info(f'[1] \"experiment_2.log\"')\n",
    "logger.info(f'[1] \"{datetime.now().strftime(\"%a %b %d %H:%M:%S %Y\")}\"')"
   ]
  },
  {
   "cell_type": "code",
   "execution_count": 15,
   "metadata": {},
   "outputs": [],
   "source": [
    "%run attack_graph_MARA.ipynb"
   ]
  },
  {
   "cell_type": "markdown",
   "metadata": {},
   "source": [
    "### Use Geometric Distribution"
   ]
  },
  {
   "cell_type": "markdown",
   "metadata": {},
   "source": [
    "Geometric distribution models attacker behavior when defender checks randomly:\n",
    "- High defense_rate -> attacker plays it safe, prefers fewer steps (steep dropoff)\n",
    "- Low defense_rate -> attacker risks more steps (gradual decline)\n",
    "- Key insight: probability p = defense_rate/(attack_rate + defense_rate) controls how \n",
    "  \"risky\" each additional step becomes\n",
    "\n",
    "This fits our intuition: if attacker doesn't know WHEN checks happen (only how often),\n",
    "they become more cautious - especially when defender checks frequently"
   ]
  },
  {
   "cell_type": "markdown",
   "metadata": {},
   "source": [
    "<img src=\"images/GeometricDistr_DefenseRates.png\" width=\"50%\">"
   ]
  },
  {
   "cell_type": "code",
   "execution_count": 16,
   "metadata": {},
   "outputs": [],
   "source": [
    "attack_rate_list = [3]  \n",
    "defense_rate_list = [3]\n",
    "\n",
    "# def random_steps(route, attack_rate=None, defense_rate=None):\n",
    "#     length = len(route)\n",
    "#     if attack_rate is None:\n",
    "#         attack_rate = 2\n",
    "#     if defense_rate is None:\n",
    "#         defense_rate = 1\n",
    "    \n",
    "#     # Calculate p parameter for geometric distribution\n",
    "#     p = defense_rate / (attack_rate + defense_rate)\n",
    "#     # Ensure p is valid probability\n",
    "#     p = max(p, np.finfo(float).eps)\n",
    "    \n",
    "#     # Get PMF for values 0 to length-1\n",
    "#     pmf = geom.pmf(np.arange(1, length+1), p)\n",
    "#     # Normalize (though geom.pmf should already sum to ~1)\n",
    "#     pmf = pmf / pmf.sum()\n",
    "#     return pmf\n",
    "\n",
    "def random_steps(route, attack_rate=None, defense_rate=None, graph=None):\n",
    "    \"\"\"Geometric distribution for randomly moving defender\"\"\"\n",
    "    p = defense_rate / (attack_rate + defense_rate)\n",
    "    x = np.arange(len(route))\n",
    "    pmf = p * np.power(1-p, x)\n",
    "    pmf = pmf / pmf.sum()\n",
    "    return pmf"
   ]
  },
  {
   "cell_type": "code",
   "execution_count": 17,
   "metadata": {},
   "outputs": [
    {
     "name": "stdout",
     "output_type": "stream",
     "text": [
      "\n",
      "=== Payoff Matrix ===\n",
      "\n",
      "Rows (Defender locations): 2, 3, 4, 5, 7, 8\n",
      "\n",
      "Columns (Attack paths): 1 -> 2 -> 3 -> 10 | 1 -> 2 -> 4 -> 10 | 1 -> 2 -> 5 -> 7 -> 8 -> 10\n",
      "\n",
      "Matrix values:\n",
      "[[5.5556 5.5556 9.0476]\n",
      " [0.     7.9365 9.5853]\n",
      " [7.9365 0.     9.5853]\n",
      " [7.9365 7.9365 7.9365]\n",
      " [7.9365 7.9365 5.5556]\n",
      " [7.9365 7.9365 0.    ]]\n"
     ]
    }
   ],
   "source": [
    "#%run ctr-core_simple.ipynb\n",
    "%run ctr-core_tests.ipynb\n",
    "main()"
   ]
  },
  {
   "cell_type": "code",
   "execution_count": 18,
   "metadata": {},
   "outputs": [
    {
     "name": "stdout",
     "output_type": "stream",
     "text": [
      "[1] \"experiment_2.log\"\n",
      "[1] \"Sun Dec 22 10:04:56 2024\"\n",
      "\n",
      "++++++++++++++++++++++++++++++++\n",
      "\n",
      "The virtual target nodeID is 10\n",
      "\n",
      "attack rate =  3 , defense rate =  3 \n",
      "\n",
      "\tequilibrium for multiobjective security game (MOSG)\n",
      "\n",
      "optimal defense strategy:\n",
      "         prob.\n",
      "2 0.000000e+00\n",
      "3 2.927842e-01\n",
      "4 2.927842e-01\n",
      "5 0.000000e+00\n",
      "7 0.000000e+00\n",
      "8 4.144315e-01\n",
      "\n",
      "worst case attack strategies per goal:\n",
      "          1\n",
      "1 0.3536079\n",
      "2 0.3536079\n",
      "3 0.2927842\n",
      "[1] 0.056\n",
      "\n",
      "Defender can keep attacker success below: 0.056\n",
      "Attacker can guarantee success probability of: 0.056\n",
      "\n"
     ]
    }
   ],
   "source": [
    "with open('experiment_2.log', 'r') as f:\n",
    "    print(f.read())"
   ]
  }
 ],
 "metadata": {
  "kernelspec": {
   "display_name": "master",
   "language": "python",
   "name": "python3"
  },
  "language_info": {
   "codemirror_mode": {
    "name": "ipython",
    "version": 3
   },
   "file_extension": ".py",
   "mimetype": "text/x-python",
   "name": "python",
   "nbconvert_exporter": "python",
   "pygments_lexer": "ipython3",
   "version": "3.10.15"
  }
 },
 "nbformat": 4,
 "nbformat_minor": 2
}

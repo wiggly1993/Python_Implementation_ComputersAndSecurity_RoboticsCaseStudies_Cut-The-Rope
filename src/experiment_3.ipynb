{
 "cells": [
  {
   "cell_type": "markdown",
   "metadata": {},
   "source": [
    "## Third Movement: "
   ]
  },
  {
   "cell_type": "code",
   "execution_count": 1,
   "metadata": {},
   "outputs": [],
   "source": [
    "# Import required libraries\n",
    "import networkx as nx\n",
    "import numpy as np\n",
    "from scipy.special import factorial\n",
    "from datetime import datetime\n",
    "import logging\n",
    "from scipy.stats import geom\n",
    "import sys\n",
    "import os"
   ]
  },
  {
   "cell_type": "code",
   "execution_count": 2,
   "metadata": {},
   "outputs": [],
   "source": [
    "import os\n",
    "experiment_log_file = 'experiment_3.log'\n",
    "log_path = os.path.join(os.getcwd(), experiment_log_file)\n",
    "\n",
    "if os.path.exists(log_path):\n",
    "    os.remove(log_path)\n",
    "\n",
    "logger = logging.getLogger()\n",
    "handler = logging.FileHandler(log_path, mode='w')\n",
    "handler.setFormatter(logging.Formatter('%(message)s'))\n",
    "logger.addHandler(handler)\n",
    "logger.setLevel(logging.INFO)\n",
    "\n",
    "logger.info(f'[1] {experiment_log_file}')\n",
    "logger.info(f'[1] \"{datetime.now().strftime(\"%a %b %d %H:%M:%S %Y\")}\"')"
   ]
  },
  {
   "cell_type": "code",
   "execution_count": 3,
   "metadata": {},
   "outputs": [],
   "source": [
    "%run attack_graph_MIR100.ipynb"
   ]
  },
  {
   "cell_type": "markdown",
   "metadata": {},
   "source": [
    "### Use Third Distribution"
   ]
  },
  {
   "cell_type": "code",
   "execution_count": 4,
   "metadata": {},
   "outputs": [],
   "source": [
    "attack_rate_list = [0]   \n",
    "defense_rate_list = [0]  "
   ]
  },
  {
   "cell_type": "code",
   "execution_count": 5,
   "metadata": {},
   "outputs": [],
   "source": [
    "def random_steps(route, attack_rate=None, defense_rate=None, graph=None):\n",
    "    #print(\"\\n=== Debug: random_steps function ===\")\n",
    "    #print(\"Input route:\", route)\n",
    "    \n",
    "    hardness = []\n",
    "    #print(\"\\nCollecting edge probabilities:\")\n",
    "    \n",
    "    # Get probabilities for each edge in route\n",
    "    for i in range(len(route) - 1):\n",
    "        u, v = route[i], route[i+1]\n",
    "        edges_dict = graph[u][v]\n",
    "        \n",
    "        #print(f\"\\nEdge {u} -> {v}:\")\n",
    "        #print(\"Raw edge data:\", edges_dict)\n",
    "\n",
    "        # Simplified edge weight extraction\n",
    "        if isinstance(edges_dict, float):\n",
    "            weight = edges_dict\n",
    "        else:\n",
    "            # Get all weights for parallel edges\n",
    "            weights = []\n",
    "            for _, attr in edges_dict.items():\n",
    "                if isinstance(attr, dict):\n",
    "                    weights.append(attr.get('weight', 0.0))\n",
    "                elif isinstance(attr, float):\n",
    "                    weights.append(attr)\n",
    "            \n",
    "            weight = max(weights) if weights else 0.0\n",
    "        \n",
    "        prob = np.exp(-weight)\n",
    "        hardness.append(prob)\n",
    "    \n",
    "    #print(\"\\nFinal hardness array:\", hardness)\n",
    "    \n",
    "    # Convert to numpy array and handle NaN values\n",
    "    hardness = np.nan_to_num(np.array(hardness), nan=1.0)\n",
    "    #print(\"Hardness after nan handling:\", hardness)\n",
    "    \n",
    "    # Calculate probabilities\n",
    "    cumulative_probs = np.concatenate(([1.0], np.cumprod(hardness)))\n",
    "    stop_probs = np.concatenate((1 - hardness, [1.0]))\n",
    "    \n",
    "    #print(\"Cumulative probabilities:\", cumulative_probs)\n",
    "    #print(\"Stop probabilities:\", stop_probs)\n",
    "    \n",
    "    # Calculate final PDF\n",
    "    pdf = cumulative_probs * stop_probs\n",
    "    #print(\"PDF before normalization:\", pdf)\n",
    "    \n",
    "    # Normalize PDF\n",
    "    pdf_sum = pdf.sum()\n",
    "    if pdf_sum < 1e-15:\n",
    "        pdf[:] = 1e-7\n",
    "        pdf_sum = pdf.sum()\n",
    "    \n",
    "    final_pdf = pdf / pdf_sum\n",
    "    #print(\"Final normalized PDF:\", final_pdf)\n",
    "    #print(\"=== End random_steps debug ===\\n\")\n",
    "    \n",
    "    return final_pdf"
   ]
  },
  {
   "cell_type": "code",
   "execution_count": 6,
   "metadata": {},
   "outputs": [
    {
     "name": "stdout",
     "output_type": "stream",
     "text": [
      "\n",
      "After merging targets:\n",
      "Nodes: [1, 5, 15, 11, 3, 6, 8, 4, 7, 2, 9, 10, 0, 'c(12,13,14,16)']\n",
      "Edges with weights:\n",
      "1 -> 5 (key=0) : 2.1958405355640576\n",
      "5 -> 15 (key=0) : 2.1958405355640576\n",
      "15 -> c(12,13,14,16) (key=0) : 0.7489220813074156\n",
      "15 -> c(12,13,14,16) (key=1) : 0.7489220813074156\n",
      "15 -> c(12,13,14,16) (key=2) : 0.7489220813074156\n",
      "11 -> c(12,13,14,16) (key=0) : 1.064439873679208\n",
      "11 -> c(12,13,14,16) (key=1) : 0.7489220813074156\n",
      "11 -> c(12,13,14,16) (key=2) : 0.0\n",
      "3 -> 6 (key=0) : 1.064439873679208\n",
      "3 -> 8 (key=0) : 0.7489220813074156\n",
      "6 -> 8 (key=0) : 0.0\n",
      "8 -> c(12,13,14,16) (key=0) : 0.0\n",
      "8 -> c(12,13,14,16) (key=1) : 0.7489220813074156\n",
      "8 -> 10 (key=0) : 0.0\n",
      "4 -> 7 (key=0) : 0.7489220813074156\n",
      "7 -> c(12,13,14,16) (key=0) : 0.7489220813074156\n",
      "7 -> c(12,13,14,16) (key=1) : 0.7489220813074156\n",
      "7 -> 10 (key=0) : 0.7489220813074156\n",
      "2 -> c(12,13,14,16) (key=0) : 1.064439873679208\n",
      "2 -> 9 (key=0) : 0.7489220813074156\n",
      "2 -> 10 (key=0) : 1.064439873679208\n",
      "2 -> 11 (key=0) : 0.7489220813074156\n",
      "9 -> c(12,13,14,16) (key=0) : 1.064439873679208\n",
      "10 -> 15 (key=0) : 0.0\n",
      "0 -> 1 (key=0) : 1\n",
      "0 -> 3 (key=0) : 1\n",
      "0 -> 4 (key=0) : 1\n",
      "0 -> 2 (key=0) : 1\n",
      "\n",
      "=== Debug: Final Payoff Matrix ===\n",
      "Matrix dimensions: 8 x 11\n",
      "\n",
      "Payoff Matrix (probability of reaching target):\n",
      "Row  1: 0.044279 0.092405 0.039406 0.058041 0.039406 0.058041 0.039406 0.028743 0.042335 0.039406 0.042335\n",
      "Row  2: 0.044279 0.092405 0.171217 0.058041 0.136853 0.058041 0.106259 0.028743 0.042335 0.092405 0.000000\n",
      "Row  3: 0.000000 0.092405 0.000000 0.058041 0.000000 0.058041 0.000000 0.028743 0.042335 0.000000 0.042335\n",
      "Row  4: 0.039406 0.092405 0.171217 0.058041 0.136853 0.058041 0.106259 0.028743 0.042335 0.092405 0.042335\n",
      "Row  5: 0.044279 0.039406 0.118219 0.058041 0.136853 0.058041 0.106259 0.028743 0.042335 0.092405 0.042335\n",
      "Row  6: 0.044279 0.092405 0.171217 0.058041 0.136853 0.000000 0.078813 0.028743 0.042335 0.092405 0.042335\n",
      "Row  7: 0.044279 0.000000 0.078813 0.000000 0.078813 0.058041 0.106259 0.028743 0.042335 0.092405 0.042335\n",
      "Row  8: 0.044279 0.092405 0.171217 0.058041 0.136853 0.058041 0.106259 0.028743 0.000000 0.092405 0.042335\n",
      "\n",
      "=== End Debug: Final Payoff Matrix ===\n",
      "\n"
     ]
    }
   ],
   "source": [
    "# %run ctr-core_simple.ipynb\n",
    "%run ctr-core_tests.ipynb\n",
    "main()"
   ]
  },
  {
   "cell_type": "code",
   "execution_count": 7,
   "metadata": {},
   "outputs": [
    {
     "name": "stdout",
     "output_type": "stream",
     "text": [
      "[1] experiment_3.log\n",
      "[1] \"Thu Jan 09 13:24:59 2025\"\n",
      "\n",
      "++++++++++++++++++++++++++++++++\n",
      "\n",
      "The virtual target nodeID is c(12,13,14,16)\n",
      "\n",
      "attack rate =  0 , defense rate =  0 \n",
      "\n",
      "\tequilibrium for multiobjective security game (MOSG)\n",
      "\n",
      "optimal defense strategy:\n",
      "         prob.\n",
      "10 0.000000e+00\n",
      "11 0.000000e+00\n",
      "15 4.799774e-01\n",
      "5 0.000000e+00\n",
      "6 0.000000e+00\n",
      "7 9.098605e-02\n",
      "8 4.290366e-01\n",
      "9 0.000000e+00\n",
      "\n",
      "worst case attack strategies per goal:\n",
      "          1\n",
      "1 0.0000000\n",
      "2 0.3278186\n",
      "3 0.0000000\n",
      "4 0.0000000\n",
      "5 0.0000000\n",
      "6 0.3871037\n",
      "7 0.2850777\n",
      "8 0.0000000\n",
      "9 0.0000000\n",
      "10 0.0000000\n",
      "11 0.0000000\n",
      "[1] 0.053\n",
      "\n",
      "Defender can keep attacker success below: 0.053\n",
      "Attacker can guarantee success probability of: 0.053\n",
      "\n"
     ]
    }
   ],
   "source": [
    "with open(experiment_log_file, 'r') as f:\n",
    "    print(f.read())"
   ]
  }
 ],
 "metadata": {
  "kernelspec": {
   "display_name": "master",
   "language": "python",
   "name": "python3"
  },
  "language_info": {
   "codemirror_mode": {
    "name": "ipython",
    "version": 3
   },
   "file_extension": ".py",
   "mimetype": "text/x-python",
   "name": "python",
   "nbconvert_exporter": "python",
   "pygments_lexer": "ipython3",
   "version": "3.10.15"
  }
 },
 "nbformat": 4,
 "nbformat_minor": 2
}

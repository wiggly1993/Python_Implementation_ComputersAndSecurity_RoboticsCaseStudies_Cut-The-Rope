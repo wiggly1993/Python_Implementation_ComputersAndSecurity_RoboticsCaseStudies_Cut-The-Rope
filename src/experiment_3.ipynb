{
 "cells": [
  {
   "cell_type": "markdown",
   "metadata": {},
   "source": [
    "## Third Movement: "
   ]
  },
  {
   "cell_type": "code",
   "execution_count": 14,
   "metadata": {},
   "outputs": [],
   "source": [
    "# Import required libraries\n",
    "import networkx as nx\n",
    "import numpy as np\n",
    "from scipy.special import factorial\n",
    "from datetime import datetime\n",
    "import logging\n",
    "from scipy.stats import geom\n",
    "import sys\n",
    "import os"
   ]
  },
  {
   "cell_type": "code",
   "execution_count": 15,
   "metadata": {},
   "outputs": [],
   "source": [
    "import os\n",
    "experiment_log_file = 'experiment_3.log'\n",
    "log_path = os.path.join(os.getcwd(), experiment_log_file)\n",
    "\n",
    "if os.path.exists(log_path):\n",
    "    os.remove(log_path)\n",
    "\n",
    "logger = logging.getLogger()\n",
    "handler = logging.FileHandler(log_path, mode='w')\n",
    "handler.setFormatter(logging.Formatter('%(message)s'))\n",
    "logger.addHandler(handler)\n",
    "logger.setLevel(logging.INFO)\n",
    "\n",
    "logger.info(f'[1] {experiment_log_file}')\n",
    "logger.info(f'[1] \"{datetime.now().strftime(\"%a %b %d %H:%M:%S %Y\")}\"')"
   ]
  },
  {
   "cell_type": "code",
   "execution_count": 16,
   "metadata": {},
   "outputs": [],
   "source": [
    "%run attack_graph_MIR100.ipynb"
   ]
  },
  {
   "cell_type": "markdown",
   "metadata": {},
   "source": [
    "### Use ??? Distribution"
   ]
  },
  {
   "cell_type": "code",
   "execution_count": 17,
   "metadata": {},
   "outputs": [],
   "source": [
    "# The key change - enhanced random_steps function\n",
    "attack_rate_list = [0]   # Not used but kept for API consistency\n",
    "defense_rate_list = [0]  # Not used but kept for API consistency"
   ]
  },
  {
   "cell_type": "code",
   "execution_count": 18,
   "metadata": {},
   "outputs": [],
   "source": [
    "def random_steps(route, attack_rate=None, defense_rate=None, graph=None):\n",
    "    \"\"\"\n",
    "    Calculate probability distribution based on edge difficulties.\n",
    "    \n",
    "    Args:\n",
    "        route: List of nodes representing an attack path\n",
    "        attack_rate: Not used in this implementation but kept for API consistency\n",
    "        defense_rate: Not used in this implementation but kept for API consistency\n",
    "        graph: NetworkX graph containing edge probabilities\n",
    "        \n",
    "    Returns:\n",
    "        numpy array: Probability distribution for number of steps attacker can take\n",
    "    \"\"\"\n",
    "    # Get edge probabilities between consecutive nodes in route\n",
    "    hardness = []\n",
    "    for i in range(len(route)-1):\n",
    "        # Get all edges between these nodes (handles parallel edges)\n",
    "        edges_data = graph.get_edge_data(route[i], route[i+1])\n",
    "        \n",
    "        # If multiple edges exist between nodes, take the maximum probability\n",
    "        probs = []\n",
    "        for key in edges_data:\n",
    "            prob = edges_data[key].get('edge_probabilities', 1.0)\n",
    "            probs.append(float(prob))\n",
    "        \n",
    "        # Take maximum probability if multiple edges exist\n",
    "        hardness.append(max(probs))\n",
    "    \n",
    "    # Convert to numpy array and handle missing values\n",
    "    hardness = np.array(hardness)\n",
    "    hardness[np.isnan(hardness)] = 1.0  # Missing probabilities treated as certainty\n",
    "    \n",
    "    # Calculate PDF according to the paper's formula\n",
    "    # P(n steps) = (1-p_{n+1}) * product(p_1 to p_n)\n",
    "    # where p_i is probability of success at step i\n",
    "    \n",
    "    # Calculate cumulative products\n",
    "    cumprod = np.concatenate(([1.0], np.cumprod(hardness)))\n",
    "    \n",
    "    # Calculate (1-p) terms\n",
    "    one_minus_h = np.concatenate((1 - hardness, [1.0]))\n",
    "    \n",
    "    # Final PDF calculation\n",
    "    pdf = one_minus_h * cumprod\n",
    "    \n",
    "    # Normalize to ensure it sums to 1\n",
    "    pdf = pdf / np.sum(pdf)\n",
    "    \n",
    "    return pdf"
   ]
  },
  {
   "cell_type": "code",
   "execution_count": 19,
   "metadata": {},
   "outputs": [],
   "source": [
    "# %run ctr-core_simple.ipynb\n",
    "%run ctr-core_tests.ipynb\n",
    "main()"
   ]
  },
  {
   "cell_type": "code",
   "execution_count": 20,
   "metadata": {},
   "outputs": [
    {
     "name": "stdout",
     "output_type": "stream",
     "text": [
      "[1] experiment_3.log\n",
      "[1] \"Sat Dec 21 15:50:34 2024\"\n",
      "\n",
      "++++++++++++++++++++++++++++++++\n",
      "\n",
      "The virtual target nodeID is 17\n",
      "\n",
      "attack rate =  0 , defense rate =  0 \n",
      "\n",
      "\tequilibrium for multiobjective security game (MOSG)\n",
      "\n",
      "optimal defense strategy:\n",
      "         prob.\n",
      "1 0.000000e+00\n",
      "10 0.000000e+00\n",
      "11 2.388662e-01\n",
      "15 1.976793e-01\n",
      "2 0.000000e+00\n",
      "3 0.000000e+00\n",
      "4 0.000000e+00\n",
      "5 0.000000e+00\n",
      "6 0.000000e+00\n",
      "7 0.000000e+00\n",
      "8 5.634545e-01\n",
      "9 0.000000e+00\n",
      "\n",
      "worst case attack strategies per goal:\n",
      "          1\n",
      "1 0.0000000\n",
      "2 0.0000000\n",
      "3 0.0000000\n",
      "4 0.3411805\n",
      "5 0.0000000\n",
      "6 0.0000000\n",
      "7 0.1376046\n",
      "8 0.0000000\n",
      "9 0.0000000\n",
      "10 0.0000000\n",
      "11 0.0000000\n",
      "12 0.0000000\n",
      "13 0.0000000\n",
      "14 0.0000000\n",
      "15 0.0000000\n",
      "16 0.0000000\n",
      "17 0.0000000\n",
      "18 0.0000000\n",
      "19 0.0000000\n",
      "20 0.0000000\n",
      "21 0.0000000\n",
      "22 0.0000000\n",
      "23 0.5212148\n",
      "24 0.0000000\n",
      "25 0.0000000\n",
      "26 0.0000000\n",
      "[1] 0.085\n",
      "\n",
      "Defender can keep attacker success below: 0.085\n",
      "Attacker can guarantee success probability of: 0.085\n",
      "\n"
     ]
    }
   ],
   "source": [
    "with open(experiment_log_file, 'r') as f:\n",
    "    print(f.read())"
   ]
  }
 ],
 "metadata": {
  "kernelspec": {
   "display_name": "master",
   "language": "python",
   "name": "python3"
  },
  "language_info": {
   "codemirror_mode": {
    "name": "ipython",
    "version": 3
   },
   "file_extension": ".py",
   "mimetype": "text/x-python",
   "name": "python",
   "nbconvert_exporter": "python",
   "pygments_lexer": "ipython3",
   "version": "3.10.15"
  }
 },
 "nbformat": 4,
 "nbformat_minor": 2
}

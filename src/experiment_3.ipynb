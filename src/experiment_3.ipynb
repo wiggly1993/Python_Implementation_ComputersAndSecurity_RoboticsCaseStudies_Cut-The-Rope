{
 "cells": [
  {
   "cell_type": "markdown",
   "metadata": {},
   "source": [
    "## Third Movement: "
   ]
  },
  {
   "cell_type": "code",
   "execution_count": 138,
   "metadata": {},
   "outputs": [],
   "source": [
    "# Import required libraries\n",
    "import networkx as nx\n",
    "import numpy as np\n",
    "from scipy.special import factorial\n",
    "from datetime import datetime\n",
    "import logging\n",
    "from scipy.stats import geom\n",
    "import sys\n",
    "import os"
   ]
  },
  {
   "cell_type": "code",
   "execution_count": 139,
   "metadata": {},
   "outputs": [],
   "source": [
    "import os\n",
    "experiment_log_file = 'experiment_3.log'\n",
    "log_path = os.path.join(os.getcwd(), experiment_log_file)\n",
    "\n",
    "if os.path.exists(log_path):\n",
    "    os.remove(log_path)\n",
    "\n",
    "logger = logging.getLogger()\n",
    "handler = logging.FileHandler(log_path, mode='w')\n",
    "handler.setFormatter(logging.Formatter('%(message)s'))\n",
    "logger.addHandler(handler)\n",
    "logger.setLevel(logging.INFO)\n",
    "\n",
    "logger.info(f'[1] {experiment_log_file}')\n",
    "logger.info(f'[1] \"{datetime.now().strftime(\"%a %b %d %H:%M:%S %Y\")}\"')"
   ]
  },
  {
   "cell_type": "code",
   "execution_count": 140,
   "metadata": {},
   "outputs": [
    {
     "name": "stdout",
     "output_type": "stream",
     "text": [
      "Graph verification:\n",
      "Number of nodes: 13\n",
      "Number of edges: 13\n"
     ]
    }
   ],
   "source": [
    "%run attack_graph_MIR100.ipynb"
   ]
  },
  {
   "cell_type": "markdown",
   "metadata": {},
   "source": [
    "### Use ??? Distribution"
   ]
  },
  {
   "cell_type": "code",
   "execution_count": 141,
   "metadata": {},
   "outputs": [],
   "source": [
    "# The key change - enhanced random_steps function\n",
    "attack_rate_list = [0]   # Not used but kept for API consistency\n",
    "defense_rate_list = [0]  # Not used but kept for API consistency"
   ]
  },
  {
   "cell_type": "code",
   "execution_count": 142,
   "metadata": {},
   "outputs": [],
   "source": [
    "# The key change - enhanced random_steps function\n",
    "attack_rate_list = [0]   # Not used but kept for API consistency\n",
    "defense_rate_list = [0]  # Not used but kept for API consistency\n",
    "\n",
    "def random_steps(route, attack_rate=None, defense_rate=None, graph=None):\n",
    "    \"\"\"\n",
    "    Calculate probability distribution for number of steps attacker can take based on edge difficulties.\n",
    "    \"\"\"\n",
    "    # Get edge probabilities between consecutive nodes in route\n",
    "    hardness = []\n",
    "    for i in range(len(route)-1):\n",
    "        edge_data = graph.get_edge_data(route[i], route[i+1])\n",
    "        prob = edge_data.get('edge_probabilities', 1.0)\n",
    "        hardness.append(float(prob))\n",
    "    \n",
    "    hardness = np.array(hardness)\n",
    "    hardness[np.isnan(hardness)] = 1.0\n",
    "    \n",
    "    cumprod = np.concatenate(([1.0], np.cumprod(hardness)))\n",
    "    one_minus_h = np.concatenate((1 - hardness, [1.0]))\n",
    "    \n",
    "    pdf = one_minus_h * cumprod\n",
    "    pdf = pdf / np.sum(pdf)\n",
    "    \n",
    "    return pdf"
   ]
  },
  {
   "cell_type": "code",
   "execution_count": 143,
   "metadata": {},
   "outputs": [],
   "source": [
    "# %run ctr-core_simple.ipynb\n",
    "%run ctr-core_tests.ipynb\n",
    "main()"
   ]
  },
  {
   "cell_type": "code",
   "execution_count": 144,
   "metadata": {},
   "outputs": [
    {
     "name": "stdout",
     "output_type": "stream",
     "text": [
      "[1] experiment_3.log\n",
      "[1] \"Thu Dec 19 19:02:24 2024\"\n",
      "\n",
      "++++++++++++++++++++++++++++++++\n",
      "attack rate =  0 , defense rate =  0 \n",
      "\n",
      "\tequilibrium for multiobjective security game (MOSG)\n",
      "\n",
      "optimal defense strategy:\n",
      "         prob.\n",
      "1 0.000000e+00\n",
      "10 0.000000e+00\n",
      "11 1.350176e-01\n",
      "15 4.296202e-01\n",
      "2 0.000000e+00\n",
      "3 0.000000e+00\n",
      "4 0.000000e+00\n",
      "5 0.000000e+00\n",
      "6 0.000000e+00\n",
      "7 0.000000e+00\n",
      "8 4.353622e-01\n",
      "9 0.000000e+00\n",
      "\n",
      "worst case attack strategies per goal:\n",
      "          1\n",
      "1 0.3452747\n",
      "2 0.0000000\n",
      "3 0.2944899\n",
      "4 0.3602353\n",
      "5 0.0000000\n",
      "6 0.0000000\n",
      "7 0.0000000\n",
      "8 0.0000000\n",
      "9 0.0000000\n",
      "[1] 0.104\n",
      "\n",
      "Defender can keep attacker success below: 0.104\n",
      "Attacker can guarantee success probability of: 0.104\n",
      "\n"
     ]
    }
   ],
   "source": [
    "with open(experiment_log_file, 'r') as f:\n",
    "    print(f.read())"
   ]
  }
 ],
 "metadata": {
  "kernelspec": {
   "display_name": "master",
   "language": "python",
   "name": "python3"
  },
  "language_info": {
   "codemirror_mode": {
    "name": "ipython",
    "version": 3
   },
   "file_extension": ".py",
   "mimetype": "text/x-python",
   "name": "python",
   "nbconvert_exporter": "python",
   "pygments_lexer": "ipython3",
   "version": "3.10.15"
  }
 },
 "nbformat": 4,
 "nbformat_minor": 2
}

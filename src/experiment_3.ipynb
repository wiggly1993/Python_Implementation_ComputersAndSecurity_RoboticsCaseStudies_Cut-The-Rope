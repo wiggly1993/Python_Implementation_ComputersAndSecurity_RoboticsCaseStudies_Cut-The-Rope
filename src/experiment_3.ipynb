{
 "cells": [
  {
   "cell_type": "markdown",
   "metadata": {},
   "source": [
    "## Second Movement: Periodic Defender with CVE Data"
   ]
  },
  {
   "cell_type": "code",
   "execution_count": 26,
   "metadata": {},
   "outputs": [],
   "source": [
    "# Import required libraries\n",
    "import networkx as nx\n",
    "import numpy as np\n",
    "from scipy.special import factorial\n",
    "from datetime import datetime\n",
    "import logging\n",
    "from scipy.stats import geom\n",
    "import sys\n",
    "import os"
   ]
  },
  {
   "cell_type": "code",
   "execution_count": 27,
   "metadata": {},
   "outputs": [],
   "source": [
    "import os\n",
    "experiment_log_file = 'experiment_3.log'\n",
    "log_path = os.path.join(os.getcwd(), experiment_log_file)\n",
    "\n",
    "if os.path.exists(log_path):\n",
    "    os.remove(log_path)\n",
    "\n",
    "logger = logging.getLogger()\n",
    "handler = logging.FileHandler(log_path, mode='w')\n",
    "handler.setFormatter(logging.Formatter('%(message)s'))\n",
    "logger.addHandler(handler)\n",
    "logger.setLevel(logging.INFO)\n",
    "\n",
    "logger.info(f'[1] {experiment_log_file}')\n",
    "logger.info(f'[1] \"{datetime.now().strftime(\"%a %b %d %H:%M:%S %Y\")}\"')"
   ]
  },
  {
   "cell_type": "code",
   "execution_count": 28,
   "metadata": {},
   "outputs": [],
   "source": [
    "%run attack_graph_MIR100.ipynb"
   ]
  },
  {
   "cell_type": "markdown",
   "metadata": {},
   "source": [
    "### Use Third Distribution"
   ]
  },
  {
   "cell_type": "code",
   "execution_count": 29,
   "metadata": {},
   "outputs": [],
   "source": [
    "attack_rate_list = [0]   \n",
    "defense_rate_list = [0]  "
   ]
  },
  {
   "cell_type": "code",
   "execution_count": 30,
   "metadata": {},
   "outputs": [],
   "source": [
    "# Global configuration\n",
    "DEFAULT_WEIGHT_VALUE = 0  # Can be changed to 1 if needed"
   ]
  },
  {
   "cell_type": "code",
   "execution_count": 31,
   "metadata": {},
   "outputs": [],
   "source": [
    "def random_steps(route, attack_rate=None, defense_rate=None, graph=None):\n",
    "    \"\"\"\n",
    "    Calculates probabilities for attacker movement along route.\n",
    "    Returns probability distribution over possible ending nodes.\n",
    "    \"\"\"\n",
    "    # Calculate hardness values for each edge \n",
    "    hardness = []\n",
    "    for i in range(len(route) - 1):\n",
    "        start_node = route[i]\n",
    "        end_node = route[i + 1]\n",
    "        \n",
    "        # Initialize variables for max weight loop\n",
    "        weights = []\n",
    "        # Collect all weights for max\n",
    "        for edge in graph[start_node][end_node].values():\n",
    "            weights.append(edge.get('weight', DEFAULT_WEIGHT_VALUE))\n",
    "        # Get maximum weight\n",
    "        max_weight = max(weights) if weights else DEFAULT_WEIGHT_VALUE\n",
    "        \n",
    "        # Initialize variables for min weight loop\n",
    "        min_weights = []\n",
    "        # Collect all weights for min\n",
    "        for edge in graph[start_node][end_node].values():\n",
    "            min_weights.append(edge.get('weight', DEFAULT_WEIGHT_VALUE))\n",
    "        # Get minimum weight\n",
    "        min_weight = min(min_weights) if min_weights else DEFAULT_WEIGHT_VALUE\n",
    "            \n",
    "        # Convert weights to probabilities\n",
    "        # We could take max_weight or min_weight here\n",
    "        # hardness.append(np.exp(-max_weight))\n",
    "\n",
    "        # Important: We use min_weight here because of the following reason:\n",
    "        # Since the formula to calculate hardness in R is hardness = exp(-weight)\n",
    "        # taking the minimum weight will give us the maximum hardness\n",
    "        # which translates to the path being EASIEST to traverse.\n",
    "        # Yes hardness of 1 means path is trivial, hardness 0 means path is impossible\n",
    "        hardness.append(np.exp(-min_weight))\n",
    "\n",
    "    \n",
    "    # Convert to arrays\n",
    "    hardness = np.array(hardness)\n",
    "\n",
    "    ## Part 3: Calculate Movement Probabilities\n",
    "    # We calculate two things:\n",
    "    # 1. Probability of reaching each node (accumulating hardness along the way)\n",
    "    # Example: if hardness = [0.8, 0.6, 0.4]\n",
    "    # Then cumprod gives us: [0.8, 0.8*0.6, 0.8*0.6*0.4]\n",
    "    # Final cumulative_probs = [1.0, 0.8, 0.48, 0.192]\n",
    "    cumulative_probs = np.concatenate(([1.0], np.cumprod(hardness)))\n",
    "\n",
    "    # 2. Probability of stopping at each node (based on the next edge's hardness)\n",
    "    stop_probs = np.concatenate((1 - hardness, [1.0]))\n",
    "\n",
    "    ## Part 4: Generate Final Distribution\n",
    "    # Combine reaching and stopping probabilities to get probability of stopping at each node\n",
    "    # Example calculation with above values:\n",
    "    # Node0: 1.0 * 0.2 = 0.2    (20% chance of stopping at start)\n",
    "    # Node1: 0.8 * 0.4 = 0.32   (32% chance of stopping at Node1)\n",
    "    # Node2: 0.48 * 0.6 = 0.288 (28.8% chance of stopping at Node2)\n",
    "    # Node3: 0.192 * 1.0 = 0.192 (19.2% chance of reaching final node)\n",
    "    pdf = cumulative_probs * stop_probs\n",
    "\n",
    "    # Handle case where probabilities are essentially zero\n",
    "    if pdf.sum() < 1e-15:\n",
    "        pdf = np.full_like(pdf, 1e-7)\n",
    "\n",
    "    # Normalize to ensure probabilities sum to 1\n",
    "    return pdf / pdf.sum()"
   ]
  },
  {
   "cell_type": "code",
   "execution_count": 32,
   "metadata": {},
   "outputs": [
    {
     "name": "stdout",
     "output_type": "stream",
     "text": [
      "\n",
      "After merging targets:\n",
      "Nodes: [1, 5, 15, 11, 3, 6, 8, 4, 7, 2, 9, 10, 0, 'c(12,13,14,16)']\n",
      "Edges with weights:\n",
      "1 -> 5 (key=0) : 2.1958405355640576\n",
      "5 -> 15 (key=0) : 2.1958405355640576\n",
      "15 -> c(12,13,14,16) (key=0) : 0.7489220813074156\n",
      "15 -> c(12,13,14,16) (key=1) : 0.7489220813074156\n",
      "15 -> c(12,13,14,16) (key=2) : 0.7489220813074156\n",
      "11 -> c(12,13,14,16) (key=0) : 1.064439873679208\n",
      "11 -> c(12,13,14,16) (key=1) : 0.7489220813074156\n",
      "11 -> c(12,13,14,16) (key=2) : 0.0\n",
      "3 -> 6 (key=0) : 1.064439873679208\n",
      "3 -> 8 (key=0) : 0.7489220813074156\n",
      "6 -> 8 (key=0) : 0.0\n",
      "8 -> c(12,13,14,16) (key=0) : 0.0\n",
      "8 -> c(12,13,14,16) (key=1) : 0.7489220813074156\n",
      "8 -> 10 (key=0) : 0.0\n",
      "4 -> 7 (key=0) : 0.7489220813074156\n",
      "7 -> c(12,13,14,16) (key=0) : 0.7489220813074156\n",
      "7 -> c(12,13,14,16) (key=1) : 0.7489220813074156\n",
      "7 -> 10 (key=0) : 0.7489220813074156\n",
      "2 -> c(12,13,14,16) (key=0) : 1.064439873679208\n",
      "2 -> 9 (key=0) : 0.7489220813074156\n",
      "2 -> 10 (key=0) : 1.064439873679208\n",
      "2 -> 11 (key=0) : 0.7489220813074156\n",
      "9 -> c(12,13,14,16) (key=0) : 1.064439873679208\n",
      "10 -> 15 (key=0) : 0.0\n",
      "0 -> 1 (key=0) : 0\n",
      "0 -> 3 (key=0) : 0\n",
      "0 -> 4 (key=0) : 0\n",
      "0 -> 2 (key=0) : 0\n",
      "\n",
      "=== Debug: Final Payoff Matrix ===\n",
      "Matrix dimensions: 8 x 11\n",
      "\n",
      "Payoff Matrix (probability of reaching target):\n",
      "Row  1: 0.044279 0.195410 0.039406 0.122740 0.039406 0.058041 0.039406 0.028743 0.042335 0.039406 0.122740\n",
      "Row  2: 0.044279 0.195410 0.171217 0.122740 0.136853 0.058041 0.106259 0.028743 0.042335 0.092405 0.000000\n",
      "Row  3: 0.000000 0.195410 0.000000 0.122740 0.000000 0.058041 0.000000 0.028743 0.042335 0.000000 0.122740\n",
      "Row  4: 0.039406 0.195410 0.171217 0.122740 0.136853 0.058041 0.106259 0.028743 0.042335 0.092405 0.122740\n",
      "Row  5: 0.044279 0.083333 0.118219 0.122740 0.136853 0.058041 0.106259 0.028743 0.042335 0.092405 0.122740\n",
      "Row  6: 0.044279 0.195410 0.171217 0.122740 0.136853 0.000000 0.078813 0.028743 0.042335 0.092405 0.122740\n",
      "Row  7: 0.044279 0.000000 0.078813 0.000000 0.078813 0.058041 0.106259 0.028743 0.042335 0.092405 0.122740\n",
      "Row  8: 0.044279 0.195410 0.171217 0.122740 0.136853 0.058041 0.106259 0.028743 0.000000 0.092405 0.122740\n",
      "\n",
      "=== End Debug: Final Payoff Matrix ===\n",
      "\n"
     ]
    }
   ],
   "source": [
    "# %run ctr-core_simple.ipynb\n",
    "%run ctr-core_tests.ipynb\n",
    "main()"
   ]
  },
  {
   "cell_type": "code",
   "execution_count": 33,
   "metadata": {},
   "outputs": [
    {
     "name": "stdout",
     "output_type": "stream",
     "text": [
      "[1] experiment_3.log\n",
      "[1] \"Wed Feb 26 16:14:59 2025\"\n",
      "\n",
      "++++++++++++++++++++++++++++++++\n",
      "\n",
      "The virtual target nodeID is c(12,13,14,16)\n",
      "\n",
      "attack rate =  0 , defense rate =  0 \n",
      "\n",
      "\tequilibrium for multiobjective security game (MOSG)\n",
      "\n",
      "optimal defense strategy:\n",
      "         prob.\n",
      "10 0.000000e+00\n",
      "11 2.720264e-01\n",
      "15 1.852234e-01\n",
      "5 0.000000e+00\n",
      "6 0.000000e+00\n",
      "7 0.000000e+00\n",
      "8 5.427503e-01\n",
      "9 0.000000e+00\n",
      "\n",
      "worst case attack strategies per goal:\n",
      "          1\n",
      "1 0.0000000\n",
      "2 0.1441309\n",
      "3 0.3573620\n",
      "4 0.0000000\n",
      "5 0.0000000\n",
      "6 0.0000000\n",
      "7 0.0000000\n",
      "8 0.0000000\n",
      "9 0.0000000\n",
      "10 0.0000000\n",
      "11 0.4985072\n",
      "[1] 0.089\n",
      "\n",
      "Defender can keep attacker success below: 0.089\n",
      "Attacker can guarantee success probability of: 0.089\n",
      "\n"
     ]
    }
   ],
   "source": [
    "with open(experiment_log_file, 'r') as f:\n",
    "    print(f.read())"
   ]
  },
  {
   "cell_type": "markdown",
   "metadata": {},
   "source": [
    "## Old more complex random steps"
   ]
  }
 ],
 "metadata": {
  "kernelspec": {
   "display_name": "master",
   "language": "python",
   "name": "python3"
  },
  "language_info": {
   "codemirror_mode": {
    "name": "ipython",
    "version": 3
   },
   "file_extension": ".py",
   "mimetype": "text/x-python",
   "name": "python",
   "nbconvert_exporter": "python",
   "pygments_lexer": "ipython3",
   "version": "3.10.15"
  }
 },
 "nbformat": 4,
 "nbformat_minor": 2
}

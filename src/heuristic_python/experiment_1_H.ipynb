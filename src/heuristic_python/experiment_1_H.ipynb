{
 "cells": [
  {
   "cell_type": "code",
   "execution_count": 45,
   "id": "010b2e03",
   "metadata": {},
   "outputs": [],
   "source": [
    "%reset -f\n",
    "\n",
    "import numpy as np\n",
    "from scipy.stats import poisson\n",
    "import sys\n",
    "from datetime import datetime\n",
    "import os"
   ]
  },
  {
   "cell_type": "code",
   "execution_count": 46,
   "id": "7989abb0",
   "metadata": {},
   "outputs": [],
   "source": [
    "output_log_file = \"experiment_1_H.log\"\n",
    "\n",
    "log_file = open(output_log_file, 'a')\n",
    "sys.stdout = log_file\n",
    "\n",
    "print(output_log_file)\n",
    "print(datetime.now().strftime(\"%a %b %d %H:%M:%S %Y\"))"
   ]
  },
  {
   "cell_type": "code",
   "execution_count": 47,
   "id": "79aa465e",
   "metadata": {},
   "outputs": [],
   "source": [
    "DEFAULT_WEIGHT_VALUE = 0  \n",
    "image_mode = False\n",
    "debug_mode = False\n",
    "%run attack_graph_MARA.ipynb"
   ]
  },
  {
   "cell_type": "code",
   "execution_count": 48,
   "id": "7f5b92da",
   "metadata": {},
   "outputs": [],
   "source": [
    "attack_rate_list = [2] "
   ]
  },
  {
   "cell_type": "code",
   "execution_count": null,
   "id": "e595033d",
   "metadata": {},
   "outputs": [],
   "source": [
    "def random_steps(route, attack_rate=None, defense_rate=None, graph=None):\n",
    "    length = len(route)\n",
    "    if attack_rate is None:\n",
    "        attack_rate = 2\n",
    "    # Get PMF for values 0 to length-1\n",
    "    pmf = poisson.pmf(np.arange(length), attack_rate)\n",
    "    # Normalize \n",
    "    pmf = pmf / pmf.sum()\n",
    "    return pmf"
   ]
  },
  {
   "cell_type": "code",
   "execution_count": 50,
   "id": "264dd24e",
   "metadata": {},
   "outputs": [],
   "source": [
    "# Python equivalent of source(\"heuristic_defense.R\")\n",
    "%run heuristic_defense.ipynb"
   ]
  },
  {
   "cell_type": "code",
   "execution_count": 51,
   "id": "6b0ea42b",
   "metadata": {},
   "outputs": [],
   "source": [
    "# Close logging\n",
    "sys.stdout = sys.__stdout__\n",
    "log_file.close()\n",
    "\n",
    "# Display log file contents\n",
    "with open(output_log_file, 'r') as f:\n",
    "    print(f.read())"
   ]
  }
 ],
 "metadata": {
  "kernelspec": {
   "display_name": "master2",
   "language": "python",
   "name": "python3"
  },
  "language_info": {
   "codemirror_mode": {
    "name": "ipython",
    "version": 3
   },
   "file_extension": ".py",
   "mimetype": "text/x-python",
   "name": "python",
   "nbconvert_exporter": "python",
   "pygments_lexer": "ipython3",
   "version": "3.10.17"
  }
 },
 "nbformat": 4,
 "nbformat_minor": 5
}

{
 "cells": [
  {
   "cell_type": "code",
   "execution_count": 1,
   "id": "3ee1674d",
   "metadata": {},
   "outputs": [],
   "source": [
    "%reset -f\n",
    "import numpy as np\n",
    "from scipy.stats import geom\n",
    "import sys\n",
    "from datetime import datetime\n",
    "import os"
   ]
  },
  {
   "cell_type": "code",
   "execution_count": 2,
   "id": "3fff7fbc",
   "metadata": {},
   "outputs": [
    {
     "name": "stdout",
     "output_type": "stream",
     "text": [
      "experiment_2_H.log\n",
      "Sat Jun 21 12:58:06 2025\n",
      "Defense rate = 1, Attack rate = 1\n",
      "Target c(6,9) hit probability: 0.137698\n",
      "\n",
      "Defense rate = 1, Attack rate = 2\n",
      "Target c(6,9) hit probability: 0.178036\n",
      "\n",
      "Defense rate = 2, Attack rate = 1\n",
      "Target c(6,9) hit probability: 0.094591\n",
      "\n",
      "Defense rate = 2, Attack rate = 2\n",
      "Target c(6,9) hit probability: 0.137698\n",
      "\n",
      "experiment_2_H.log\n",
      "Sun Aug 17 14:17:01 2025\n",
      "Defense rate = 1, Attack rate = 1\n",
      "Target c(6,9) hit probability: 0.137698\n",
      "\n",
      "Defense rate = 1, Attack rate = 2\n",
      "Target c(6,9) hit probability: 0.178036\n",
      "\n",
      "Defense rate = 2, Attack rate = 1\n",
      "Target c(6,9) hit probability: 0.094591\n",
      "\n",
      "Defense rate = 2, Attack rate = 2\n",
      "Target c(6,9) hit probability: 0.137698\n",
      "\n",
      "\n"
     ]
    }
   ],
   "source": [
    "output_log_file = \"experiment_2_H.log\"\n",
    "log_file = open(output_log_file, 'a')\n",
    "sys.stdout = log_file\n",
    "print(output_log_file)\n",
    "print(datetime.now().strftime(\"%a %b %d %H:%M:%S %Y\"))"
   ]
  },
  {
   "cell_type": "code",
   "execution_count": 3,
   "id": "98143185",
   "metadata": {},
   "outputs": [],
   "source": [
    "DEFAULT_WEIGHT_VALUE = 0  \n",
    "image_mode = False\n",
    "debug_mode = False\n",
    "%run attack_graph_MARA.ipynb"
   ]
  },
  {
   "cell_type": "code",
   "execution_count": 4,
   "id": "b2d93ecf",
   "metadata": {},
   "outputs": [],
   "source": [
    "attack_rate_list = [1,2]\n",
    "defense_rate_list = [1,2]"
   ]
  },
  {
   "cell_type": "code",
   "execution_count": 5,
   "id": "4ce6e28d",
   "metadata": {},
   "outputs": [],
   "source": [
    "def random_steps(route, attack_rate=None, defense_rate=None, graph=None):\n",
    "    \"\"\"Geometric distribution for randomly moving defender\"\"\"\n",
    "    # What is the prob that defender checks before attacker can make the next move?\n",
    "    p = defense_rate / (attack_rate + defense_rate)\n",
    "    x = np.arange(len(route))\n",
    "    pmf = p * np.power(1-p, x)\n",
    "    pmf = pmf / pmf.sum()\n",
    "    return pmf"
   ]
  },
  {
   "cell_type": "code",
   "execution_count": 6,
   "id": "9fbbd6bc",
   "metadata": {},
   "outputs": [],
   "source": [
    "%run heuristic_defense.ipynb"
   ]
  },
  {
   "cell_type": "code",
   "execution_count": 7,
   "id": "813612e9",
   "metadata": {},
   "outputs": [],
   "source": [
    "sys.stdout = sys.__stdout__\n",
    "log_file.close()\n",
    "with open(output_log_file, 'r') as f:\n",
    "    print(f.read())"
   ]
  }
 ],
 "metadata": {
  "kernelspec": {
   "display_name": "master2",
   "language": "python",
   "name": "python3"
  },
  "language_info": {
   "codemirror_mode": {
    "name": "ipython",
    "version": 3
   },
   "file_extension": ".py",
   "mimetype": "text/x-python",
   "name": "python",
   "nbconvert_exporter": "python",
   "pygments_lexer": "ipython3",
   "version": "3.10.17"
  }
 },
 "nbformat": 4,
 "nbformat_minor": 5
}

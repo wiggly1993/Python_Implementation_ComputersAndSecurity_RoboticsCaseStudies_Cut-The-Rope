{
 "cells": [
  {
   "cell_type": "code",
   "execution_count": 8,
   "id": "cbfee10c",
   "metadata": {},
   "outputs": [],
   "source": [
    "%reset -f\n",
    "import numpy as np\n",
    "from scipy.stats import geom\n",
    "import sys\n",
    "from datetime import datetime\n",
    "import os"
   ]
  },
  {
   "cell_type": "code",
   "execution_count": 9,
   "id": "441a314a",
   "metadata": {},
   "outputs": [],
   "source": [
    "output_log_file = \"experiment_4_H.log\"\n",
    "log_file = open(output_log_file, 'a')\n",
    "sys.stdout = log_file\n",
    "print(output_log_file)\n",
    "print(datetime.now().strftime(\"%a %b %d %H:%M:%S %Y\"))"
   ]
  },
  {
   "cell_type": "code",
   "execution_count": 10,
   "id": "67c52c50",
   "metadata": {},
   "outputs": [],
   "source": [
    "DEFAULT_WEIGHT_VALUE = 0  \n",
    "image_mode = False\n",
    "debug_mode = False\n",
    "\n",
    "%run attack_graph_MIR100.ipynb"
   ]
  },
  {
   "cell_type": "code",
   "execution_count": 11,
   "id": "670ff248",
   "metadata": {},
   "outputs": [],
   "source": [
    "defense_rate_list = [1, 2, 3]"
   ]
  },
  {
   "cell_type": "code",
   "execution_count": 12,
   "id": "62a0ba2d",
   "metadata": {},
   "outputs": [],
   "source": [
    "def random_steps(route, attack_rate=None, defense_rate=None, graph=None):\n",
    "    \"\"\"\n",
    "    Calculates probabilities for attacker movement along route.\n",
    "    Returns probability distribution over possible ending nodes.\n",
    "    \"\"\"\n",
    "\n",
    "    # Part 1: Extract hardness values from all edges and append them\n",
    "    # into one numpy array\n",
    "    # Calculate hardness values for each edge \n",
    "    hardness = []\n",
    "    for i in range(len(route) - 1):\n",
    "        start_node = route[i]\n",
    "        end_node = route[i + 1]\n",
    "        \n",
    "        # Initialize variables for max weight loop\n",
    "        weights = []\n",
    "        # Collect all weights for max\n",
    "        for edge in graph[start_node][end_node].values():\n",
    "            weights.append(edge.get('weight', DEFAULT_WEIGHT_VALUE))\n",
    "        # Get maximum weight\n",
    "        max_weight = max(weights) if weights else DEFAULT_WEIGHT_VALUE\n",
    "        \n",
    "        # Initialize variables for min weight loop\n",
    "        min_weights = []\n",
    "        # Collect all weights for min\n",
    "        for edge in graph[start_node][end_node].values():\n",
    "            min_weights.append(edge.get('weight', DEFAULT_WEIGHT_VALUE))\n",
    "        # Get minimum weight\n",
    "        min_weight = min(min_weights) if min_weights else DEFAULT_WEIGHT_VALUE\n",
    "            \n",
    "        # Convert weights to probabilities\n",
    "        # We could take max_weight or min_weight here\n",
    "        # hardness.append(np.exp(-max_weight))\n",
    "\n",
    "        # Important: We use min_weight here because of the following reason:\n",
    "        # Since the formula to calculate hardness in R is hardness = exp(-weight)\n",
    "        # taking the minimum weight will give us the maximum hardness\n",
    "        # which translates to the path being EASIEST to traverse.\n",
    "        # Yes hardness of 1 means path is trivial, hardness 0 means path is impossible\n",
    "        hardness.append(np.exp(-min_weight))\n",
    "\n",
    "    \n",
    "    # Convert to arrays\n",
    "    hardness = np.array(hardness)\n",
    "\n",
    "    # print(f'Hardness: {hardness}')\n",
    "    \n",
    "    # Calculate attack rate using geometric mean if not provided\n",
    "    if attack_rate is None or attack_rate == 0:\n",
    "        # Geometric mean function (mirrors the R geomean function)\n",
    "        def geom_mean(x):\n",
    "            # I filter out zeros to avoid log(0)\n",
    "            positive_values = x[x > 0]\n",
    "            if len(positive_values) == 0:\n",
    "                return 1  # Default if all values are zero or array is empty\n",
    "            return np.exp(np.mean(np.log(positive_values)))\n",
    "        \n",
    "        attack_rate = 1 / geom_mean(hardness)\n",
    "    \n",
    "    # Calculate probability distribution using geometric distribution\n",
    "    # Equivalent to R's dgeom function\n",
    "    prob = attack_rate / (attack_rate + defense_rate)\n",
    "    \n",
    "    # Create range of values from 0 to length(route)-1\n",
    "    x_values = np.arange(len(route))\n",
    "    \n",
    "    # Calculate probability mass function (pmf) for geometric distribution\n",
    "    # pdf_d = geom.pmf(x_values, prob)\n",
    "    pdf_d = prob * (1-prob)**x_values\n",
    "    \n",
    "    # Normalize to ensure probabilities sum to 1\n",
    "    pdf_d = pdf_d / np.sum(pdf_d)\n",
    "    \n",
    "    # print(f\"This is the final pdf that is returned in the end: {pdf_d}\")\n",
    "    return pdf_d\n",
    "\n",
    "# Example usage:\n",
    "# route = [1, 2, 3, 4]\n",
    "# defense_rate = 2\n",
    "# pdf = random_steps(route, attack_graph=G, defense_rate=defense_rate)"
   ]
  },
  {
   "cell_type": "code",
   "execution_count": 13,
   "id": "86d11dcd",
   "metadata": {},
   "outputs": [],
   "source": [
    "%run heuristic_defense.ipynb"
   ]
  },
  {
   "cell_type": "code",
   "execution_count": 14,
   "id": "3da8d84a",
   "metadata": {},
   "outputs": [],
   "source": [
    "sys.stdout = sys.__stdout__\n",
    "log_file.close()\n",
    "with open(output_log_file, 'r') as f:\n",
    "    print(f.read())"
   ]
  }
 ],
 "metadata": {
  "kernelspec": {
   "display_name": "master2",
   "language": "python",
   "name": "python3"
  },
  "language_info": {
   "codemirror_mode": {
    "name": "ipython",
    "version": 3
   },
   "file_extension": ".py",
   "mimetype": "text/x-python",
   "name": "python",
   "nbconvert_exporter": "python",
   "pygments_lexer": "ipython3",
   "version": "3.10.17"
  }
 },
 "nbformat": 4,
 "nbformat_minor": 5
}

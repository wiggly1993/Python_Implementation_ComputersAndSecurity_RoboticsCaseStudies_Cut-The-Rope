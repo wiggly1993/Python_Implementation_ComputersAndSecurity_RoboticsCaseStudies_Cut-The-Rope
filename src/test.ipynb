{
 "cells": [
  {
   "cell_type": "code",
   "execution_count": 5,
   "metadata": {},
   "outputs": [
    {
     "name": "stdout",
     "output_type": "stream",
     "text": [
      "[1.35341576e-01 2.70683153e-01 2.70683153e-01 1.80455435e-01\n",
      " 9.02277176e-02 3.60910870e-02 1.20303623e-02 3.43724638e-03\n",
      " 8.59311596e-04 1.90958132e-04]\n"
     ]
    }
   ],
   "source": [
    "import numpy as np\n",
    "from scipy.stats import poisson\n",
    " \n",
    "def random_steps(route, attack_rate=None, defense_rate=None):\n",
    "    # Calculate Poisson probabilities for 0 to len(route)-1 steps\n",
    "    # with mean = attack_rate\n",
    "    pdf_d = poisson.pmf(k=range(len(route)), mu=attack_rate)\n",
    "    \n",
    "    # Normalize probabilities to sum to 1\n",
    "    pdf_d = pdf_d / np.sum(pdf_d)\n",
    "    \n",
    "    return pdf_d\n",
    "\n",
    "\n",
    "print(random_steps([1,2,3,4,5,6,7,8,9,10], 2, 1))"
   ]
  }
 ],
 "metadata": {
  "kernelspec": {
   "display_name": "master",
   "language": "python",
   "name": "python3"
  },
  "language_info": {
   "codemirror_mode": {
    "name": "ipython",
    "version": 3
   },
   "file_extension": ".py",
   "mimetype": "text/x-python",
   "name": "python",
   "nbconvert_exporter": "python",
   "pygments_lexer": "ipython3",
   "version": "3.10.15"
  }
 },
 "nbformat": 4,
 "nbformat_minor": 2
}

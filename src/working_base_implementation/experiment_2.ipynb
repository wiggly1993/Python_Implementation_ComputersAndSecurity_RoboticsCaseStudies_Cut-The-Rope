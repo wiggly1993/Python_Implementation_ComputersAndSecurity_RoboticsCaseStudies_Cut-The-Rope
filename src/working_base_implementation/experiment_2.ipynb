{
 "cells": [
  {
   "cell_type": "markdown",
   "metadata": {},
   "source": [
    "## Third Movement: Exponential Defense with Geometric Attack Pattern"
   ]
  },
  {
   "cell_type": "code",
   "execution_count": 8,
   "metadata": {},
   "outputs": [
    {
     "name": "stdout",
     "output_type": "stream",
     "text": [
      "This Cell is necessary or else my IDE will start running cells simultaneously which\n",
      "      then leads to issues with unfinished imports\n"
     ]
    }
   ],
   "source": [
    "print(\"\"\"This Cell is necessary or else my IDE will start running cells simultaneously which\n",
    "      then leads to issues with unfinished imports\"\"\")"
   ]
  },
  {
   "cell_type": "code",
   "execution_count": 1,
   "metadata": {},
   "outputs": [],
   "source": [
    "import os\n",
    "import logging\n",
    "import numpy as np\n",
    "from datetime import datetime"
   ]
  },
  {
   "cell_type": "code",
   "execution_count": 2,
   "metadata": {},
   "outputs": [],
   "source": [
    "log_path = os.path.join(os.getcwd(), 'experiment_2.log')\n",
    "\n",
    "if os.path.exists(log_path):\n",
    "    os.remove(log_path)\n",
    "\n",
    "logger = logging.getLogger()\n",
    "handler = logging.FileHandler(log_path, mode='w')\n",
    "handler.setFormatter(logging.Formatter('%(message)s'))\n",
    "logger.addHandler(handler)\n",
    "logger.setLevel(logging.INFO)\n",
    "\n",
    "logger.info(f'[1] \"experiment_2.log\"')\n",
    "logger.info(f'[1] \"{datetime.now().strftime(\"%a %b %d %H:%M:%S %Y\")}\"')"
   ]
  },
  {
   "cell_type": "code",
   "execution_count": 3,
   "metadata": {},
   "outputs": [],
   "source": [
    "# Global configuration\n",
    "# This is the default weight value we will insert any time we we \n",
    "# need to insert a weight value for a trivial edge in the graph\n",
    "DEFAULT_WEIGHT_VALUE = 0  "
   ]
  },
  {
   "cell_type": "code",
   "execution_count": 4,
   "metadata": {},
   "outputs": [],
   "source": [
    "%run attack_graph_MARA.ipynb"
   ]
  },
  {
   "cell_type": "markdown",
   "metadata": {},
   "source": [
    "### Geometric Distribution Explanations"
   ]
  },
  {
   "cell_type": "markdown",
   "metadata": {},
   "source": [
    "#### Base Formula\n",
    "\n",
    "The geometric distribution gives the probability of the first success occurring on the $k$-th trial in a series of independent Bernoulli trials. Its probability mass function is:\n",
    "\n",
    "\\begin{equation}\n",
    "P(X=x) = p \\cdot (1-p)^{x-1}\n",
    "\\end{equation}\n",
    "\n",
    "Where $p$ is the probability of success on each trial and $x$ is a positive integer.\n",
    "\n",
    "#### Definition of \"p\" in our Specific Case\n",
    "\n",
    "In my code, $p$ is defined as:\n",
    "\n",
    "\\begin{equation}\n",
    "p = \\frac{\\mathrm{defens erate}}{\\mathrm{attack rate}+\\mathrm{defense rate}}\n",
    "\\end{equation}\n",
    "\n",
    "which directly corresponds to formula (12) in the paper, where they define $p = \\frac{\\lambda_D}{\\lambda_D + \\lambda}$, with $\\lambda_D$ being the defender's rate and $\\lambda$ being the attacker's rate."
   ]
  },
  {
   "cell_type": "markdown",
   "metadata": {},
   "source": [
    "### Basic Explanation"
   ]
  },
  {
   "cell_type": "markdown",
   "metadata": {},
   "source": [
    "Geometric distribution models attacker behavior when defender checks randomly:\n",
    "- High defense_rate -> attacker plays it safe, prefers fewer steps (steep dropoff)\n",
    "- Low defense_rate -> attacker risks more steps (gradual decline)\n",
    "- Key insight: probability p = defense_rate/(attack_rate + defense_rate) controls how \n",
    "  \"risky\" each additional step becomes\n",
    "\n",
    "This fits our intuition: if attacker doesn't know WHEN checks happen (only how often),\n",
    "they become more cautious - especially when defender checks frequently"
   ]
  },
  {
   "cell_type": "markdown",
   "metadata": {},
   "source": [
    "<img src=\"images/GeometricDistr_DefenseRates.png\" width=\"50%\">"
   ]
  },
  {
   "cell_type": "code",
   "execution_count": 5,
   "metadata": {},
   "outputs": [],
   "source": [
    "attack_rate_list = [3]  \n",
    "defense_rate_list = [3]\n",
    "\n",
    "def random_steps(route, attack_rate=None, defense_rate=None, graph=None):\n",
    "    \"\"\"Geometric distribution for randomly moving defender\"\"\"\n",
    "    # What is the prob that defender checks before attacker can make the next move?\n",
    "    p = defense_rate / (attack_rate + defense_rate)\n",
    "    x = np.arange(len(route))\n",
    "    pmf = p * np.power(1-p, x)\n",
    "    pmf = pmf / pmf.sum()\n",
    "    return pmf"
   ]
  },
  {
   "cell_type": "code",
   "execution_count": 6,
   "metadata": {},
   "outputs": [
    {
     "name": "stdout",
     "output_type": "stream",
     "text": [
      "\n",
      "After merging targets:\n",
      "Nodes: [1, 2, 3, 4, 5, 7, 8, 'c(6,9)']\n",
      "Total list of Edges with their weights:\n",
      "1 -> 2 (key=0) : 0\n",
      "2 -> 3 (key=0) : 0\n",
      "2 -> 4 (key=0) : 0\n",
      "2 -> 5 (key=0) : 0\n",
      "3 -> c(6,9) (key=0) : 0\n",
      "4 -> c(6,9) (key=0) : 0\n",
      "5 -> 7 (key=0) : 0\n",
      "7 -> 8 (key=0) : 0\n",
      "8 -> c(6,9) (key=0) : 0\n",
      "\n",
      "Debug - Current strategies:\n",
      "as1: [2, 3, 4, 5, 7, 8]\n",
      "\n",
      "Debug - Current paths:\n",
      "  0: [1, 2, 3, 'c(6,9)']\n",
      "  1: [1, 2, 4, 'c(6,9)']\n",
      "  2: [1, 2, 5, 7, 8, 'c(6,9)']\n",
      "\n",
      "=== Debug: Final Payoff Matrix ===\n",
      "Matrix dimensions: 6 x 3\n",
      "\n",
      "Payoff Matrix (probability of reaching target):\n",
      "Row  1: 0.055556 0.055556 0.090476\n",
      "Row  2: 0.000000 0.079365 0.095853\n",
      "Row  3: 0.079365 0.000000 0.095853\n",
      "Row  4: 0.079365 0.079365 0.079365\n",
      "Row  5: 0.079365 0.079365 0.055556\n",
      "Row  6: 0.079365 0.079365 0.000000\n",
      "\n",
      "=== End Debug: Final Payoff Matrix ===\n",
      "\n"
     ]
    }
   ],
   "source": [
    "# %run ctr-core_simple.ipynb\n",
    "%run ctr-core_tests.ipynb\n",
    "main()"
   ]
  },
  {
   "cell_type": "code",
   "execution_count": 7,
   "metadata": {},
   "outputs": [
    {
     "name": "stdout",
     "output_type": "stream",
     "text": [
      "[1] \"experiment_2.log\"\n",
      "[1] \"Sat Mar 01 11:19:25 2025\"\n",
      "\n",
      "++++++++++++++++++++++++++++++++\n",
      "\n",
      "The virtual target nodeID is c(6,9)\n",
      "\n",
      "attack rate =  3 , defense rate =  3 \n",
      "\n",
      "\tequilibrium for multiobjective security game (MOSG)\n",
      "\n",
      "optimal defense strategy:\n",
      "         prob.\n",
      "2 0.000000e+00\n",
      "3 2.927842e-01\n",
      "4 2.927842e-01\n",
      "5 0.000000e+00\n",
      "7 0.000000e+00\n",
      "8 4.144315e-01\n",
      "\n",
      "worst case attack strategies per goal:\n",
      "          1\n",
      "1 0.3536079\n",
      "2 0.3536079\n",
      "3 0.2927842\n",
      "[1] 0.056\n",
      "\n",
      "Defender can keep attacker success below: 0.056\n",
      "Attacker can guarantee success probability of: 0.056\n",
      "\n"
     ]
    }
   ],
   "source": [
    "with open('experiment_2.log', 'r') as f:\n",
    "    print(f.read())"
   ]
  }
 ],
 "metadata": {
  "kernelspec": {
   "display_name": "master",
   "language": "python",
   "name": "python3"
  },
  "language_info": {
   "codemirror_mode": {
    "name": "ipython",
    "version": 3
   },
   "file_extension": ".py",
   "mimetype": "text/x-python",
   "name": "python",
   "nbconvert_exporter": "python",
   "pygments_lexer": "ipython3",
   "version": "3.10.15"
  }
 },
 "nbformat": 4,
 "nbformat_minor": 2
}
